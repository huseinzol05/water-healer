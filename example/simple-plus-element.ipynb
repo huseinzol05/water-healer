{
 "cells": [
  {
   "cell_type": "code",
   "execution_count": 1,
   "metadata": {},
   "outputs": [],
   "source": [
    "import waterhealer as wh\n",
    "import json"
   ]
  },
  {
   "cell_type": "code",
   "execution_count": 2,
   "metadata": {},
   "outputs": [],
   "source": [
    "source = wh.from_kafka(\n",
    "    ['testing'],\n",
    "    {\n",
    "        'bootstrap.servers': 'localhost:9095, localhost:9096',\n",
    "        'group.id': 'group-test-2',\n",
    "        'auto.offset.reset': 'latest',\n",
    "    },\n",
    "    debug = True\n",
    ")"
   ]
  },
  {
   "cell_type": "code",
   "execution_count": 3,
   "metadata": {},
   "outputs": [],
   "source": [
    "def json_loads(row):\n",
    "    return (row[0], json.loads(row[1]))\n",
    "\n",
    "def plus(row):\n",
    "    no = row[1]['no']\n",
    "    if no > 12:\n",
    "        raise Exception('row is bigger than 12')\n",
    "    return (row[0], no + 1)"
   ]
  },
  {
   "cell_type": "code",
   "execution_count": 4,
   "metadata": {},
   "outputs": [
    {
     "data": {
      "application/vnd.jupyter.widget-view+json": {
       "model_id": "1971930772bf4455ac28effbea8ff19e",
       "version_major": 2,
       "version_minor": 0
      },
      "text/plain": [
       "Output()"
      ]
     },
     "metadata": {},
     "output_type": "display_data"
    }
   ],
   "source": [
    "outputs = []\n",
    "source.map(json_loads).map(plus).map(wh.healing, stream = source).sink(outputs.append)"
   ]
  },
  {
   "cell_type": "code",
   "execution_count": 5,
   "metadata": {
    "scrolled": true
   },
   "outputs": [],
   "source": [
    "source.start()"
   ]
  },
  {
   "cell_type": "code",
   "execution_count": 6,
   "metadata": {},
   "outputs": [],
   "source": [
    "from kafka import KafkaProducer\n",
    "from kafka.partitioner import RoundRobinPartitioner"
   ]
  },
  {
   "cell_type": "code",
   "execution_count": 7,
   "metadata": {},
   "outputs": [],
   "source": [
    "producer = KafkaProducer(\n",
    "    bootstrap_servers = ['localhost:9095', 'localhost:9096'],\n",
    "    api_version = (0, 10),\n",
    "    partitioner = RoundRobinPartitioner(),\n",
    ")"
   ]
  },
  {
   "cell_type": "code",
   "execution_count": 8,
   "metadata": {},
   "outputs": [
    {
     "data": {
      "text/plain": [
       "False"
      ]
     },
     "execution_count": 8,
     "metadata": {},
     "output_type": "execute_result"
    }
   ],
   "source": [
    "producer.bootstrap_connected()"
   ]
  },
  {
   "cell_type": "code",
   "execution_count": 9,
   "metadata": {},
   "outputs": [],
   "source": [
    "from datetime import datetime\n",
    "import json\n",
    "\n",
    "def publish_message(producer_instance, topic_name, key, value):\n",
    "    try:\n",
    "        key_bytes = bytes(key, encoding = 'utf-8')\n",
    "        value_bytes = bytes(value, encoding = 'utf-8')\n",
    "        x = producer_instance.send(topic_name, value = value_bytes)\n",
    "        return True\n",
    "    except Exception as ex:\n",
    "        print('Exception in publishing message')\n",
    "        print(str(ex))\n",
    "        return False"
   ]
  },
  {
   "cell_type": "markdown",
   "metadata": {},
   "source": [
    "## purposely raise the error\n",
    "\n",
    "Based on function `plus`, if input bigger than 10, it will throw error."
   ]
  },
  {
   "cell_type": "code",
   "execution_count": 10,
   "metadata": {},
   "outputs": [
    {
     "data": {
      "text/plain": [
       "-1001"
      ]
     },
     "execution_count": 10,
     "metadata": {},
     "output_type": "execute_result"
    }
   ],
   "source": [
    "import confluent_kafka as ck\n",
    "\n",
    "source.consumer.committed([ck.TopicPartition('testing', 0)])[0].offset"
   ]
  },
  {
   "cell_type": "code",
   "execution_count": 11,
   "metadata": {
    "scrolled": false
   },
   "outputs": [
    {
     "name": "stdout",
     "output_type": "stream",
     "text": [
      "{'no': 0, 'datetime': '2020-03-07 20:17:25.233451'}\n"
     ]
    },
    {
     "name": "stderr",
     "output_type": "stream",
     "text": [
      "topic: testing, partition: 1, offset: 173, data: b'{\"no\": 1, \"datetime\": \"2020-03-07 20:17:26.239825\"}'\n"
     ]
    },
    {
     "name": "stdout",
     "output_type": "stream",
     "text": [
      "{'no': 1, 'datetime': '2020-03-07 20:17:26.239825'}\n"
     ]
    },
    {
     "name": "stderr",
     "output_type": "stream",
     "text": [
      "topic: testing, partition: 2, offset: 181, data: b'{\"no\": 2, \"datetime\": \"2020-03-07 20:17:27.245711\"}'\n"
     ]
    },
    {
     "name": "stdout",
     "output_type": "stream",
     "text": [
      "{'no': 2, 'datetime': '2020-03-07 20:17:27.245711'}\n",
      "{'no': 3, 'datetime': '2020-03-07 20:17:28.251560'}\n"
     ]
    },
    {
     "name": "stderr",
     "output_type": "stream",
     "text": [
      "topic: testing, partition: 3, offset: 161, data: b'{\"no\": 3, \"datetime\": \"2020-03-07 20:17:28.251560\"}'\n",
      "topic: testing, partition: 4, offset: 155, data: b'{\"no\": 4, \"datetime\": \"2020-03-07 20:17:29.254849\"}'\n"
     ]
    },
    {
     "name": "stdout",
     "output_type": "stream",
     "text": [
      "{'no': 4, 'datetime': '2020-03-07 20:17:29.254849'}\n",
      "{'no': 5, 'datetime': '2020-03-07 20:17:30.256040'}\n"
     ]
    },
    {
     "name": "stderr",
     "output_type": "stream",
     "text": [
      "topic: testing, partition: 5, offset: 142, data: b'{\"no\": 5, \"datetime\": \"2020-03-07 20:17:30.256040\"}'\n",
      "topic: testing, partition: 6, offset: 144, data: b'{\"no\": 6, \"datetime\": \"2020-03-07 20:17:31.258650\"}'\n"
     ]
    },
    {
     "name": "stdout",
     "output_type": "stream",
     "text": [
      "{'no': 6, 'datetime': '2020-03-07 20:17:31.258650'}\n",
      "{'no': 7, 'datetime': '2020-03-07 20:17:32.264103'}\n"
     ]
    },
    {
     "name": "stderr",
     "output_type": "stream",
     "text": [
      "topic: testing, partition: 7, offset: 138, data: b'{\"no\": 7, \"datetime\": \"2020-03-07 20:17:32.264103\"}'\n",
      "topic: testing, partition: 8, offset: 141, data: b'{\"no\": 8, \"datetime\": \"2020-03-07 20:17:33.269026\"}'\n"
     ]
    },
    {
     "name": "stdout",
     "output_type": "stream",
     "text": [
      "{'no': 8, 'datetime': '2020-03-07 20:17:33.269026'}\n",
      "{'no': 9, 'datetime': '2020-03-07 20:17:34.272111'}\n"
     ]
    },
    {
     "name": "stderr",
     "output_type": "stream",
     "text": [
      "topic: testing, partition: 9, offset: 134, data: b'{\"no\": 9, \"datetime\": \"2020-03-07 20:17:34.272111\"}'\n",
      "topic: testing, partition: 0, offset: 196, data: b'{\"no\": 10, \"datetime\": \"2020-03-07 20:17:35.276232\"}'\n"
     ]
    },
    {
     "name": "stdout",
     "output_type": "stream",
     "text": [
      "{'no': 10, 'datetime': '2020-03-07 20:17:35.276232'}\n"
     ]
    },
    {
     "name": "stderr",
     "output_type": "stream",
     "text": [
      "topic: testing, partition: 1, offset: 174, data: b'{\"no\": 11, \"datetime\": \"2020-03-07 20:17:36.279757\"}'\n"
     ]
    },
    {
     "name": "stdout",
     "output_type": "stream",
     "text": [
      "{'no': 11, 'datetime': '2020-03-07 20:17:36.279757'}\n"
     ]
    },
    {
     "name": "stderr",
     "output_type": "stream",
     "text": [
      "topic: testing, partition: 2, offset: 182, data: b'{\"no\": 12, \"datetime\": \"2020-03-07 20:17:37.282760\"}'\n"
     ]
    },
    {
     "name": "stdout",
     "output_type": "stream",
     "text": [
      "{'no': 12, 'datetime': '2020-03-07 20:17:37.282760'}\n",
      "{'no': 13, 'datetime': '2020-03-07 20:17:38.287275'}\n"
     ]
    },
    {
     "name": "stderr",
     "output_type": "stream",
     "text": [
      "topic: testing, partition: 3, offset: 162, data: b'{\"no\": 13, \"datetime\": \"2020-03-07 20:17:38.287275\"}'\n",
      "row is bigger than 12\n",
      "Traceback (most recent call last):\n",
      "  File \"/usr/local/lib/python3.7/site-packages/streamz/core.py\", line 578, in update\n",
      "    result = self.func(x, *self.args, **self.kwargs)\n",
      "  File \"<ipython-input-3-f850c9be8189>\", line 7, in plus\n",
      "    raise Exception('row is bigger than 12')\n",
      "Exception: row is bigger than 12\n",
      "tornado.application - ERROR - Exception in callback functools.partial(<bound method IOLoop._discard_future_result of <zmq.eventloop.ioloop.ZMQIOLoop object at 0x10b638a10>>, <Future finished exception=Exception('row is bigger than 12')>)\n",
      "Traceback (most recent call last):\n",
      "  File \"/usr/local/lib/python3.7/site-packages/tornado/ioloop.py\", line 743, in _run_callback\n",
      "    ret = callback()\n",
      "  File \"/usr/local/lib/python3.7/site-packages/tornado/ioloop.py\", line 767, in _discard_future_result\n",
      "    future.result()\n",
      "  File \"/usr/local/lib/python3.7/site-packages/tornado/gen.py\", line 748, in run\n",
      "    yielded = self.gen.send(value)\n",
      "  File \"/Users/huseinzolkepli/Documents/water-healer/waterhealer/core.py\", line 232, in poll_kafka\n",
      "    yield self._emit((id_val, val))\n",
      "  File \"/usr/local/lib/python3.7/site-packages/streamz/core.py\", line 325, in _emit\n",
      "    r = downstream.update(x, who=self)\n",
      "  File \"/usr/local/lib/python3.7/site-packages/streamz/core.py\", line 583, in update\n",
      "    return self._emit(result)\n",
      "  File \"/usr/local/lib/python3.7/site-packages/streamz/core.py\", line 325, in _emit\n",
      "    r = downstream.update(x, who=self)\n",
      "  File \"/usr/local/lib/python3.7/site-packages/streamz/core.py\", line 578, in update\n",
      "    result = self.func(x, *self.args, **self.kwargs)\n",
      "  File \"<ipython-input-3-f850c9be8189>\", line 7, in plus\n",
      "    raise Exception('row is bigger than 12')\n",
      "Exception: row is bigger than 12\n"
     ]
    }
   ],
   "source": [
    "import time\n",
    "\n",
    "for count in range(14):\n",
    "    data = {'no': count, 'datetime': str(datetime.now())}\n",
    "    print(data)\n",
    "    publish_message(\n",
    "        producer, 'testing', 'streaming', json.dumps(data)\n",
    "    )\n",
    "    time.sleep(1.0)"
   ]
  },
  {
   "cell_type": "markdown",
   "metadata": {},
   "source": [
    "If you check the logs,\n",
    "\n",
    "```text\n",
    "topic: testing, partition: 3, offset: 162, data: b'{\"no\": 13, \"datetime\": \"2020-03-07 20:17:38.287275\"}'\n",
    "```\n",
    "\n",
    "Offset for that message is 162, let's we check offset for that topic and partition."
   ]
  },
  {
   "cell_type": "code",
   "execution_count": 12,
   "metadata": {},
   "outputs": [
    {
     "data": {
      "text/plain": [
       "162"
      ]
     },
     "execution_count": 12,
     "metadata": {},
     "output_type": "execute_result"
    }
   ],
   "source": [
    "source.consumer.committed([ck.TopicPartition('testing', 3)])[0].offset"
   ]
  },
  {
   "cell_type": "markdown",
   "metadata": {},
   "source": [
    "Yeay, it is not updated! That is what we want!"
   ]
  }
 ],
 "metadata": {
  "kernelspec": {
   "display_name": "Python 3",
   "language": "python",
   "name": "python3"
  },
  "language_info": {
   "codemirror_mode": {
    "name": "ipython",
    "version": 3
   },
   "file_extension": ".py",
   "mimetype": "text/x-python",
   "name": "python",
   "nbconvert_exporter": "python",
   "pygments_lexer": "ipython3",
   "version": "3.7.5"
  }
 },
 "nbformat": 4,
 "nbformat_minor": 2
}
