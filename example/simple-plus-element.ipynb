{
 "cells": [
  {
   "cell_type": "code",
   "execution_count": 1,
   "metadata": {},
   "outputs": [],
   "source": [
    "import waterhealer as wh\n",
    "import json"
   ]
  },
  {
   "cell_type": "code",
   "execution_count": 2,
   "metadata": {},
   "outputs": [],
   "source": [
    "source = wh.from_kafka(\n",
    "    ['testing'],\n",
    "    {\n",
    "        'bootstrap.servers': 'localhost:9095, localhost:9096',\n",
    "        'group.id': 'group-test-2',\n",
    "        'auto.offset.reset': 'latest',\n",
    "    },\n",
    "    debug = True\n",
    ")"
   ]
  },
  {
   "cell_type": "code",
   "execution_count": 3,
   "metadata": {},
   "outputs": [],
   "source": [
    "def json_loads(row):\n",
    "    return (row[0], json.loads(row[1]))\n",
    "\n",
    "def plus(row):\n",
    "    no = row[1]['no']\n",
    "    if no > 70:\n",
    "        raise Exception('row is bigger than 12')\n",
    "    return (row[0], no + 1)"
   ]
  },
  {
   "cell_type": "code",
   "execution_count": 4,
   "metadata": {},
   "outputs": [
    {
     "data": {
      "application/vnd.jupyter.widget-view+json": {
       "model_id": "6ea0098e891a468f90fde95c9cc077f6",
       "version_major": 2,
       "version_minor": 0
      },
      "text/plain": [
       "Output()"
      ]
     },
     "metadata": {},
     "output_type": "display_data"
    }
   ],
   "source": [
    "outputs = []\n",
    "source.map(json_loads).map(plus).map(wh.healing, source = source).sink(outputs.append)"
   ]
  },
  {
   "cell_type": "code",
   "execution_count": 5,
   "metadata": {
    "scrolled": true
   },
   "outputs": [],
   "source": [
    "source.start()"
   ]
  },
  {
   "cell_type": "code",
   "execution_count": 6,
   "metadata": {},
   "outputs": [],
   "source": [
    "wh.auto_shutdown(source, got_error = True, graceful = 60)"
   ]
  },
  {
   "cell_type": "code",
   "execution_count": 7,
   "metadata": {},
   "outputs": [],
   "source": [
    "from kafka import KafkaProducer\n",
    "from kafka.partitioner import RoundRobinPartitioner"
   ]
  },
  {
   "cell_type": "code",
   "execution_count": 8,
   "metadata": {},
   "outputs": [],
   "source": [
    "producer = KafkaProducer(\n",
    "    bootstrap_servers = ['localhost:9095', 'localhost:9096'],\n",
    "    api_version = (0, 10),\n",
    "    partitioner = RoundRobinPartitioner(),\n",
    ")"
   ]
  },
  {
   "cell_type": "code",
   "execution_count": 9,
   "metadata": {},
   "outputs": [
    {
     "data": {
      "text/plain": [
       "True"
      ]
     },
     "execution_count": 9,
     "metadata": {},
     "output_type": "execute_result"
    }
   ],
   "source": [
    "producer.bootstrap_connected()"
   ]
  },
  {
   "cell_type": "code",
   "execution_count": 10,
   "metadata": {},
   "outputs": [],
   "source": [
    "from datetime import datetime\n",
    "import json\n",
    "\n",
    "def publish_message(producer_instance, topic_name, key, value):\n",
    "    try:\n",
    "        key_bytes = bytes(key, encoding = 'utf-8')\n",
    "        value_bytes = bytes(value, encoding = 'utf-8')\n",
    "        x = producer_instance.send(topic_name, value = value_bytes)\n",
    "        return True\n",
    "    except Exception as ex:\n",
    "        print('Exception in publishing message')\n",
    "        print(str(ex))\n",
    "        return False"
   ]
  },
  {
   "cell_type": "markdown",
   "metadata": {},
   "source": [
    "## purposely raise the error\n",
    "\n",
    "Based on function `plus`, if input bigger than 10, it will throw error."
   ]
  },
  {
   "cell_type": "code",
   "execution_count": 11,
   "metadata": {},
   "outputs": [
    {
     "data": {
      "text/plain": [
       "472"
      ]
     },
     "execution_count": 11,
     "metadata": {},
     "output_type": "execute_result"
    },
    {
     "name": "stderr",
     "output_type": "stream",
     "text": [
      "topic: testing, partition: 0, offset: 472, data: b'{\"no\": 0, \"datetime\": \"2020-04-22 15:30:06.753043\"}'\n"
     ]
    }
   ],
   "source": [
    "import confluent_kafka as ck\n",
    "\n",
    "source.consumer.committed([ck.TopicPartition('testing', 0)])[0].offset"
   ]
  },
  {
   "cell_type": "code",
   "execution_count": 12,
   "metadata": {
    "scrolled": true
   },
   "outputs": [
    {
     "name": "stderr",
     "output_type": "stream",
     "text": [
      "topic: testing, partition: 0, offset: 473, data: b'{\"no\": 0, \"datetime\": \"2020-04-22 15:30:34.000094\"}'\n"
     ]
    },
    {
     "name": "stdout",
     "output_type": "stream",
     "text": [
      "{'no': 0, 'datetime': '2020-04-22 15:30:34.000094'}\n",
      "{'no': 1, 'datetime': '2020-04-22 15:30:35.000646'}\n"
     ]
    },
    {
     "name": "stderr",
     "output_type": "stream",
     "text": [
      "topic: testing, partition: 1, offset: 436, data: b'{\"no\": 1, \"datetime\": \"2020-04-22 15:30:35.000646\"}'\n",
      "topic: testing, partition: 2, offset: 447, data: b'{\"no\": 2, \"datetime\": \"2020-04-22 15:30:36.001187\"}'\n"
     ]
    },
    {
     "name": "stdout",
     "output_type": "stream",
     "text": [
      "{'no': 2, 'datetime': '2020-04-22 15:30:36.001187'}\n"
     ]
    },
    {
     "name": "stderr",
     "output_type": "stream",
     "text": [
      "topic: testing, partition: 3, offset: 412, data: b'{\"no\": 3, \"datetime\": \"2020-04-22 15:30:37.001679\"}'\n"
     ]
    },
    {
     "name": "stdout",
     "output_type": "stream",
     "text": [
      "{'no': 3, 'datetime': '2020-04-22 15:30:37.001679'}\n"
     ]
    },
    {
     "name": "stderr",
     "output_type": "stream",
     "text": [
      "topic: testing, partition: 4, offset: 407, data: b'{\"no\": 4, \"datetime\": \"2020-04-22 15:30:38.002537\"}'\n"
     ]
    },
    {
     "name": "stdout",
     "output_type": "stream",
     "text": [
      "{'no': 4, 'datetime': '2020-04-22 15:30:38.002537'}\n"
     ]
    },
    {
     "name": "stderr",
     "output_type": "stream",
     "text": [
      "topic: testing, partition: 5, offset: 382, data: b'{\"no\": 5, \"datetime\": \"2020-04-22 15:30:39.003406\"}'\n"
     ]
    },
    {
     "name": "stdout",
     "output_type": "stream",
     "text": [
      "{'no': 5, 'datetime': '2020-04-22 15:30:39.003406'}\n"
     ]
    },
    {
     "name": "stderr",
     "output_type": "stream",
     "text": [
      "topic: testing, partition: 6, offset: 395, data: b'{\"no\": 6, \"datetime\": \"2020-04-22 15:30:40.007910\"}'\n"
     ]
    },
    {
     "name": "stdout",
     "output_type": "stream",
     "text": [
      "{'no': 6, 'datetime': '2020-04-22 15:30:40.007910'}\n"
     ]
    },
    {
     "name": "stderr",
     "output_type": "stream",
     "text": [
      "topic: testing, partition: 7, offset: 377, data: b'{\"no\": 7, \"datetime\": \"2020-04-22 15:30:41.012010\"}'\n"
     ]
    },
    {
     "name": "stdout",
     "output_type": "stream",
     "text": [
      "{'no': 7, 'datetime': '2020-04-22 15:30:41.012010'}\n"
     ]
    },
    {
     "name": "stderr",
     "output_type": "stream",
     "text": [
      "topic: testing, partition: 8, offset: 392, data: b'{\"no\": 8, \"datetime\": \"2020-04-22 15:30:42.016084\"}'\n"
     ]
    },
    {
     "name": "stdout",
     "output_type": "stream",
     "text": [
      "{'no': 8, 'datetime': '2020-04-22 15:30:42.016084'}\n"
     ]
    },
    {
     "name": "stderr",
     "output_type": "stream",
     "text": [
      "topic: testing, partition: 9, offset: 373, data: b'{\"no\": 9, \"datetime\": \"2020-04-22 15:30:43.016624\"}'\n"
     ]
    },
    {
     "name": "stdout",
     "output_type": "stream",
     "text": [
      "{'no': 9, 'datetime': '2020-04-22 15:30:43.016624'}\n"
     ]
    },
    {
     "name": "stderr",
     "output_type": "stream",
     "text": [
      "topic: testing, partition: 0, offset: 474, data: b'{\"no\": 10, \"datetime\": \"2020-04-22 15:30:44.017843\"}'\n"
     ]
    },
    {
     "name": "stdout",
     "output_type": "stream",
     "text": [
      "{'no': 10, 'datetime': '2020-04-22 15:30:44.017843'}\n"
     ]
    },
    {
     "name": "stderr",
     "output_type": "stream",
     "text": [
      "topic: testing, partition: 1, offset: 437, data: b'{\"no\": 11, \"datetime\": \"2020-04-22 15:30:45.021241\"}'\n"
     ]
    },
    {
     "name": "stdout",
     "output_type": "stream",
     "text": [
      "{'no': 11, 'datetime': '2020-04-22 15:30:45.021241'}\n"
     ]
    },
    {
     "name": "stderr",
     "output_type": "stream",
     "text": [
      "topic: testing, partition: 2, offset: 448, data: b'{\"no\": 12, \"datetime\": \"2020-04-22 15:30:46.026150\"}'\n"
     ]
    },
    {
     "name": "stdout",
     "output_type": "stream",
     "text": [
      "{'no': 12, 'datetime': '2020-04-22 15:30:46.026150'}\n"
     ]
    },
    {
     "name": "stderr",
     "output_type": "stream",
     "text": [
      "topic: testing, partition: 3, offset: 413, data: b'{\"no\": 13, \"datetime\": \"2020-04-22 15:30:47.029193\"}'\n"
     ]
    },
    {
     "name": "stdout",
     "output_type": "stream",
     "text": [
      "{'no': 13, 'datetime': '2020-04-22 15:30:47.029193'}\n"
     ]
    }
   ],
   "source": [
    "import time\n",
    "\n",
    "for count in range(14):\n",
    "    data = {'no': count, 'datetime': str(datetime.now())}\n",
    "    print(data)\n",
    "    publish_message(\n",
    "        producer, 'testing', 'streaming', json.dumps(data)\n",
    "    )\n",
    "    time.sleep(1.0)"
   ]
  }
 ],
 "metadata": {
  "kernelspec": {
   "display_name": "Python 3",
   "language": "python",
   "name": "python3"
  },
  "language_info": {
   "codemirror_mode": {
    "name": "ipython",
    "version": 3
   },
   "file_extension": ".py",
   "mimetype": "text/x-python",
   "name": "python",
   "nbconvert_exporter": "python",
   "pygments_lexer": "ipython3",
   "version": "3.7.5"
  }
 },
 "nbformat": 4,
 "nbformat_minor": 2
}
