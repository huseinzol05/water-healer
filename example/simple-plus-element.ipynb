{
 "cells": [
  {
   "cell_type": "code",
   "execution_count": 1,
   "metadata": {},
   "outputs": [],
   "source": [
    "import waterhealer as wh\n",
    "import json"
   ]
  },
  {
   "cell_type": "code",
   "execution_count": 2,
   "metadata": {},
   "outputs": [],
   "source": [
    "source = wh.from_kafka(\n",
    "    ['testing'],\n",
    "    {\n",
    "        'bootstrap.servers': 'localhost:9095, localhost:9096',\n",
    "        'group.id': 'group-test-2',\n",
    "        'auto.offset.reset': 'latest',\n",
    "    },\n",
    "    debug = True\n",
    ")"
   ]
  },
  {
   "cell_type": "code",
   "execution_count": 3,
   "metadata": {},
   "outputs": [],
   "source": [
    "def json_loads(row):\n",
    "    return (row[0], json.loads(row[1]))\n",
    "\n",
    "def plus(row):\n",
    "    no = row[1]['no']\n",
    "    if no > 12:\n",
    "        raise Exception('row is bigger than 12')\n",
    "    return (row[0], no + 1)"
   ]
  },
  {
   "cell_type": "code",
   "execution_count": 4,
   "metadata": {},
   "outputs": [
    {
     "data": {
      "application/vnd.jupyter.widget-view+json": {
       "model_id": "290dd814fcf94706b96758ac28516d2f",
       "version_major": 2,
       "version_minor": 0
      },
      "text/plain": [
       "Output()"
      ]
     },
     "metadata": {},
     "output_type": "display_data"
    }
   ],
   "source": [
    "outputs = []\n",
    "source.map(json_loads).map(plus).map(wh.healing, stream = source).sink(outputs.append)"
   ]
  },
  {
   "cell_type": "code",
   "execution_count": 5,
   "metadata": {
    "scrolled": true
   },
   "outputs": [],
   "source": [
    "source.start()"
   ]
  },
  {
   "cell_type": "code",
   "execution_count": 6,
   "metadata": {},
   "outputs": [],
   "source": [
    "from kafka import KafkaProducer\n",
    "from kafka.partitioner import RoundRobinPartitioner"
   ]
  },
  {
   "cell_type": "code",
   "execution_count": 7,
   "metadata": {},
   "outputs": [],
   "source": [
    "producer = KafkaProducer(\n",
    "    bootstrap_servers = ['localhost:9095', 'localhost:9096'],\n",
    "    api_version = (0, 10),\n",
    "    partitioner = RoundRobinPartitioner(),\n",
    ")"
   ]
  },
  {
   "cell_type": "code",
   "execution_count": 8,
   "metadata": {},
   "outputs": [
    {
     "data": {
      "text/plain": [
       "True"
      ]
     },
     "execution_count": 8,
     "metadata": {},
     "output_type": "execute_result"
    }
   ],
   "source": [
    "producer.bootstrap_connected()"
   ]
  },
  {
   "cell_type": "code",
   "execution_count": 9,
   "metadata": {},
   "outputs": [],
   "source": [
    "from datetime import datetime\n",
    "import json\n",
    "\n",
    "def publish_message(producer_instance, topic_name, key, value):\n",
    "    try:\n",
    "        key_bytes = bytes(key, encoding = 'utf-8')\n",
    "        value_bytes = bytes(value, encoding = 'utf-8')\n",
    "        x = producer_instance.send(topic_name, value = value_bytes)\n",
    "        return True\n",
    "    except Exception as ex:\n",
    "        print('Exception in publishing message')\n",
    "        print(str(ex))\n",
    "        return False"
   ]
  },
  {
   "cell_type": "markdown",
   "metadata": {},
   "source": [
    "## purposely raise the error\n",
    "\n",
    "Based on function `plus`, if input bigger than 10, it will throw error."
   ]
  },
  {
   "cell_type": "code",
   "execution_count": 10,
   "metadata": {},
   "outputs": [
    {
     "data": {
      "text/plain": [
       "-1001"
      ]
     },
     "execution_count": 10,
     "metadata": {},
     "output_type": "execute_result"
    }
   ],
   "source": [
    "import confluent_kafka as ck\n",
    "\n",
    "source.consumer.committed([ck.TopicPartition('testing', 0)])[0].offset"
   ]
  },
  {
   "cell_type": "code",
   "execution_count": 11,
   "metadata": {
    "scrolled": false
   },
   "outputs": [
    {
     "name": "stdout",
     "output_type": "stream",
     "text": [
      "{'no': 0, 'datetime': '2020-04-07 18:56:50.461182'}\n"
     ]
    },
    {
     "name": "stderr",
     "output_type": "stream",
     "text": [
      "topic: testing, partition: 0, offset: 423, data: b'{\"no\": 0, \"datetime\": \"2020-04-07 18:56:50.461182\"}'\n",
      "topic: testing, partition: 1, offset: 388, data: b'{\"no\": 1, \"datetime\": \"2020-04-07 18:56:51.465847\"}'\n"
     ]
    },
    {
     "name": "stdout",
     "output_type": "stream",
     "text": [
      "{'no': 1, 'datetime': '2020-04-07 18:56:51.465847'}\n"
     ]
    },
    {
     "name": "stderr",
     "output_type": "stream",
     "text": [
      "topic: testing, partition: 2, offset: 408, data: b'{\"no\": 2, \"datetime\": \"2020-04-07 18:56:52.471373\"}'\n"
     ]
    },
    {
     "name": "stdout",
     "output_type": "stream",
     "text": [
      "{'no': 2, 'datetime': '2020-04-07 18:56:52.471373'}\n"
     ]
    },
    {
     "name": "stderr",
     "output_type": "stream",
     "text": [
      "topic: testing, partition: 3, offset: 376, data: b'{\"no\": 3, \"datetime\": \"2020-04-07 18:56:53.473471\"}'\n"
     ]
    },
    {
     "name": "stdout",
     "output_type": "stream",
     "text": [
      "{'no': 3, 'datetime': '2020-04-07 18:56:53.473471'}\n"
     ]
    },
    {
     "name": "stderr",
     "output_type": "stream",
     "text": [
      "topic: testing, partition: 4, offset: 378, data: b'{\"no\": 4, \"datetime\": \"2020-04-07 18:56:54.476429\"}'\n"
     ]
    },
    {
     "name": "stdout",
     "output_type": "stream",
     "text": [
      "{'no': 4, 'datetime': '2020-04-07 18:56:54.476429'}\n"
     ]
    },
    {
     "name": "stderr",
     "output_type": "stream",
     "text": [
      "topic: testing, partition: 5, offset: 353, data: b'{\"no\": 5, \"datetime\": \"2020-04-07 18:56:55.481291\"}'\n"
     ]
    },
    {
     "name": "stdout",
     "output_type": "stream",
     "text": [
      "{'no': 5, 'datetime': '2020-04-07 18:56:55.481291'}\n"
     ]
    },
    {
     "name": "stderr",
     "output_type": "stream",
     "text": [
      "topic: testing, partition: 6, offset: 367, data: b'{\"no\": 6, \"datetime\": \"2020-04-07 18:56:56.486021\"}'\n"
     ]
    },
    {
     "name": "stdout",
     "output_type": "stream",
     "text": [
      "{'no': 6, 'datetime': '2020-04-07 18:56:56.486021'}\n"
     ]
    },
    {
     "name": "stderr",
     "output_type": "stream",
     "text": [
      "topic: testing, partition: 7, offset: 349, data: b'{\"no\": 7, \"datetime\": \"2020-04-07 18:56:57.491278\"}'\n"
     ]
    },
    {
     "name": "stdout",
     "output_type": "stream",
     "text": [
      "{'no': 7, 'datetime': '2020-04-07 18:56:57.491278'}\n"
     ]
    },
    {
     "name": "stderr",
     "output_type": "stream",
     "text": [
      "topic: testing, partition: 8, offset: 364, data: b'{\"no\": 8, \"datetime\": \"2020-04-07 18:56:58.494468\"}'\n"
     ]
    },
    {
     "name": "stdout",
     "output_type": "stream",
     "text": [
      "{'no': 8, 'datetime': '2020-04-07 18:56:58.494468'}\n"
     ]
    },
    {
     "name": "stderr",
     "output_type": "stream",
     "text": [
      "topic: testing, partition: 9, offset: 345, data: b'{\"no\": 9, \"datetime\": \"2020-04-07 18:56:59.498979\"}'\n"
     ]
    },
    {
     "name": "stdout",
     "output_type": "stream",
     "text": [
      "{'no': 9, 'datetime': '2020-04-07 18:56:59.498979'}\n",
      "{'no': 10, 'datetime': '2020-04-07 18:57:00.503285'}\n"
     ]
    },
    {
     "name": "stderr",
     "output_type": "stream",
     "text": [
      "topic: testing, partition: 0, offset: 424, data: b'{\"no\": 10, \"datetime\": \"2020-04-07 18:57:00.503285\"}'\n",
      "topic: testing, partition: 1, offset: 389, data: b'{\"no\": 11, \"datetime\": \"2020-04-07 18:57:01.508313\"}'\n"
     ]
    },
    {
     "name": "stdout",
     "output_type": "stream",
     "text": [
      "{'no': 11, 'datetime': '2020-04-07 18:57:01.508313'}\n"
     ]
    },
    {
     "name": "stderr",
     "output_type": "stream",
     "text": [
      "topic: testing, partition: 2, offset: 409, data: b'{\"no\": 12, \"datetime\": \"2020-04-07 18:57:02.512270\"}'\n"
     ]
    },
    {
     "name": "stdout",
     "output_type": "stream",
     "text": [
      "{'no': 12, 'datetime': '2020-04-07 18:57:02.512270'}\n"
     ]
    },
    {
     "name": "stderr",
     "output_type": "stream",
     "text": [
      "topic: testing, partition: 3, offset: 377, data: b'{\"no\": 13, \"datetime\": \"2020-04-07 18:57:03.515344\"}'\n",
      "row is bigger than 12\n",
      "Traceback (most recent call last):\n",
      "  File \"/usr/local/lib/python3.7/site-packages/streamz/core.py\", line 578, in update\n",
      "    result = self.func(x, *self.args, **self.kwargs)\n",
      "  File \"<ipython-input-3-f850c9be8189>\", line 7, in plus\n",
      "    raise Exception('row is bigger than 12')\n",
      "Exception: row is bigger than 12\n",
      "tornado.application - ERROR - Exception in callback functools.partial(<bound method IOLoop._discard_future_result of <zmq.eventloop.ioloop.ZMQIOLoop object at 0x11446ddd0>>, <Future finished exception=Exception('row is bigger than 12')>)\n",
      "Traceback (most recent call last):\n",
      "  File \"/usr/local/lib/python3.7/site-packages/tornado/ioloop.py\", line 743, in _run_callback\n",
      "    ret = callback()\n",
      "  File \"/usr/local/lib/python3.7/site-packages/tornado/ioloop.py\", line 767, in _discard_future_result\n",
      "    future.result()\n",
      "  File \"/usr/local/lib/python3.7/site-packages/tornado/gen.py\", line 748, in run\n",
      "    yielded = self.gen.send(value)\n",
      "  File \"/Users/huseinzolkepli/Documents/water-healer/waterhealer/core.py\", line 301, in poll_kafka\n",
      "    yield self._emit((id_val, val))\n",
      "  File \"/usr/local/lib/python3.7/site-packages/streamz/core.py\", line 325, in _emit\n",
      "    r = downstream.update(x, who=self)\n",
      "  File \"/usr/local/lib/python3.7/site-packages/streamz/core.py\", line 583, in update\n",
      "    return self._emit(result)\n",
      "  File \"/usr/local/lib/python3.7/site-packages/streamz/core.py\", line 325, in _emit\n",
      "    r = downstream.update(x, who=self)\n",
      "  File \"/usr/local/lib/python3.7/site-packages/streamz/core.py\", line 578, in update\n",
      "    result = self.func(x, *self.args, **self.kwargs)\n",
      "  File \"<ipython-input-3-f850c9be8189>\", line 7, in plus\n",
      "    raise Exception('row is bigger than 12')\n",
      "Exception: row is bigger than 12\n"
     ]
    },
    {
     "name": "stdout",
     "output_type": "stream",
     "text": [
      "{'no': 13, 'datetime': '2020-04-07 18:57:03.515344'}\n"
     ]
    }
   ],
   "source": [
    "import time\n",
    "\n",
    "for count in range(14):\n",
    "    data = {'no': count, 'datetime': str(datetime.now())}\n",
    "    print(data)\n",
    "    publish_message(\n",
    "        producer, 'testing', 'streaming', json.dumps(data)\n",
    "    )\n",
    "    time.sleep(1.0)"
   ]
  },
  {
   "cell_type": "markdown",
   "metadata": {},
   "source": [
    "If you check the logs,\n",
    "\n",
    "```text\n",
    "topic: testing, partition: 3, offset: 377, data: b'{\"no\": 13, \"datetime\": \"2020-04-07 18:57:03.515344\"}'\n",
    "```\n",
    "\n",
    "Offset for that message is 377, let's we check offset for that topic and partition."
   ]
  },
  {
   "cell_type": "code",
   "execution_count": 12,
   "metadata": {},
   "outputs": [
    {
     "data": {
      "text/plain": [
       "377"
      ]
     },
     "execution_count": 12,
     "metadata": {},
     "output_type": "execute_result"
    }
   ],
   "source": [
    "source.consumer.committed([ck.TopicPartition('testing', 3)])[0].offset"
   ]
  },
  {
   "cell_type": "markdown",
   "metadata": {},
   "source": [
    "Yeay, it is not updated! That is what we want!"
   ]
  }
 ],
 "metadata": {
  "kernelspec": {
   "display_name": "Python 3",
   "language": "python",
   "name": "python3"
  },
  "language_info": {
   "codemirror_mode": {
    "name": "ipython",
    "version": 3
   },
   "file_extension": ".py",
   "mimetype": "text/x-python",
   "name": "python",
   "nbconvert_exporter": "python",
   "pygments_lexer": "ipython3",
   "version": "3.7.5"
  }
 },
 "nbformat": 4,
 "nbformat_minor": 2
}
