{
 "cells": [
  {
   "cell_type": "code",
   "execution_count": 1,
   "metadata": {},
   "outputs": [],
   "source": [
    "from streamz import Stream\n",
    "from dask.distributed import Client\n",
    "import waterhealer as wh"
   ]
  },
  {
   "cell_type": "code",
   "execution_count": 2,
   "metadata": {},
   "outputs": [
    {
     "data": {
      "text/plain": [
       "'0.0.25'"
      ]
     },
     "execution_count": 2,
     "metadata": {},
     "output_type": "execute_result"
    }
   ],
   "source": [
    "client = Client('localhost:8786')\n",
    "wh.__version__"
   ]
  },
  {
   "cell_type": "code",
   "execution_count": 3,
   "metadata": {},
   "outputs": [],
   "source": [
    "def reload_package(package):\n",
    "    import sys\n",
    "    import importlib\n",
    "\n",
    "    try:\n",
    "\n",
    "        importlib.reload(sys.modules[package])\n",
    "    except:\n",
    "        pass\n",
    "\n",
    "    return list(sys.modules.keys())"
   ]
  },
  {
   "cell_type": "code",
   "execution_count": 5,
   "metadata": {},
   "outputs": [],
   "source": [
    "import boilerplate as bp\n",
    "\n",
    "boilerplates = ['boilerplate.py']\n",
    "for boilerplate in boilerplates:\n",
    "    reload_package(boilerplate.replace('.py', ''))\n",
    "    client.upload_file(boilerplate)\n",
    "    client.run(reload_package, boilerplate.replace('.py', ''))"
   ]
  },
  {
   "cell_type": "code",
   "execution_count": 6,
   "metadata": {},
   "outputs": [
    {
     "data": {
      "application/vnd.jupyter.widget-view+json": {
       "model_id": "22fd90c491dc41198d0fb3b236e8564d",
       "version_major": 2,
       "version_minor": 0
      },
      "text/plain": [
       "Output()"
      ]
     },
     "metadata": {},
     "output_type": "display_data"
    }
   ],
   "source": [
    "source = Stream(loop = client.loop)\n",
    "source.scatter().map(bp.inc).buffer(8).gather().sink(print)"
   ]
  },
  {
   "cell_type": "code",
   "execution_count": 7,
   "metadata": {},
   "outputs": [
    {
     "name": "stderr",
     "output_type": "stream",
     "text": [
      "tornado.application - ERROR - Exception in callback functools.partial(<bound method IOLoop._discard_future_result of <zmq.eventloop.ioloop.ZMQIOLoop object at 0x11343c410>>, <Future finished exception=Exception('x > 10')>)\n",
      "Traceback (most recent call last):\n",
      "  File \"/usr/local/lib/python3.7/site-packages/tornado/ioloop.py\", line 743, in _run_callback\n",
      "    ret = callback()\n",
      "  File \"/usr/local/lib/python3.7/site-packages/tornado/ioloop.py\", line 767, in _discard_future_result\n",
      "    future.result()\n",
      "  File \"/usr/local/lib/python3.7/site-packages/tornado/gen.py\", line 742, in run\n",
      "    yielded = self.gen.throw(*exc_info)  # type: ignore\n",
      "  File \"/usr/local/lib/python3.7/site-packages/streamz/core.py\", line 1009, in cb\n",
      "    yield self._emit(x)\n",
      "  File \"/usr/local/lib/python3.7/site-packages/tornado/gen.py\", line 735, in run\n",
      "    value = future.result()\n",
      "  File \"/usr/local/lib/python3.7/site-packages/tornado/gen.py\", line 501, in callback\n",
      "    result_list.append(f.result())\n",
      "  File \"/usr/local/lib/python3.7/site-packages/tornado/gen.py\", line 742, in run\n",
      "    yielded = self.gen.throw(*exc_info)  # type: ignore\n",
      "  File \"/usr/local/lib/python3.7/site-packages/streamz/dask.py\", line 123, in update\n",
      "    result = yield client.gather(x, asynchronous=True)\n",
      "  File \"/usr/local/lib/python3.7/site-packages/tornado/gen.py\", line 735, in run\n",
      "    value = future.result()\n",
      "  File \"/usr/local/lib/python3.7/site-packages/distributed-2.21.0+8.geb10a535.dirty-py3.7.egg/distributed/client.py\", line 1847, in _gather\n",
      "    raise exception.with_traceback(traceback)\n",
      "  File \"/Users/huseinzolkepli/Documents/datascience-streaming/helper/dask-worker-space/dask-worker-space/worker-8jcaevu3/boilerplate.py\", line 3, in inc\n",
      "    raise Exception('x > 10')\n",
      "Exception: x > 10\n"
     ]
    },
    {
     "name": "stdout",
     "output_type": "stream",
     "text": [
      "1\n",
      "2\n",
      "3\n",
      "4\n",
      "5\n",
      "6\n",
      "7\n",
      "8\n",
      "9\n",
      "10\n",
      "11\n"
     ]
    }
   ],
   "source": [
    "for i in range(20):\n",
    "    source.emit(i)"
   ]
  },
  {
   "cell_type": "code",
   "execution_count": 8,
   "metadata": {},
   "outputs": [],
   "source": [
    "for boilerplate in boilerplates:\n",
    "    reload_package(boilerplate.replace('.py', ''))\n",
    "    client.upload_file(boilerplate)\n",
    "    client.run(reload_package, boilerplate.replace('.py', ''))"
   ]
  },
  {
   "cell_type": "code",
   "execution_count": 9,
   "metadata": {},
   "outputs": [
    {
     "data": {
      "application/vnd.jupyter.widget-view+json": {
       "model_id": "940fa19d1a4d43398ff1776530617aea",
       "version_major": 2,
       "version_minor": 0
      },
      "text/plain": [
       "Output()"
      ]
     },
     "metadata": {},
     "output_type": "display_data"
    }
   ],
   "source": [
    "source = Stream(loop = client.loop)\n",
    "source.scatter().map(bp.inc).buffer(8).gather().sink(print)"
   ]
  },
  {
   "cell_type": "code",
   "execution_count": 10,
   "metadata": {},
   "outputs": [
    {
     "name": "stdout",
     "output_type": "stream",
     "text": [
      "1\n",
      "2\n",
      "3\n",
      "4\n",
      "5\n",
      "6\n",
      "7\n",
      "8\n",
      "9\n",
      "10\n",
      "11\n",
      "12\n",
      "13\n",
      "14\n",
      "15\n",
      "16\n",
      "17\n",
      "18\n",
      "19\n",
      "20\n"
     ]
    }
   ],
   "source": [
    "for i in range(20):\n",
    "    source.emit(i)"
   ]
  },
  {
   "cell_type": "code",
   "execution_count": null,
   "metadata": {},
   "outputs": [],
   "source": []
  }
 ],
 "metadata": {
  "kernelspec": {
   "display_name": "Python 3",
   "language": "python",
   "name": "python3"
  },
  "language_info": {
   "codemirror_mode": {
    "name": "ipython",
    "version": 3
   },
   "file_extension": ".py",
   "mimetype": "text/x-python",
   "name": "python",
   "nbconvert_exporter": "python",
   "pygments_lexer": "ipython3",
   "version": "3.7.5"
  }
 },
 "nbformat": 4,
 "nbformat_minor": 2
}
