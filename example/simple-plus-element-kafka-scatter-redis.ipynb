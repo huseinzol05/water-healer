{
 "cells": [
  {
   "cell_type": "code",
   "execution_count": 1,
   "metadata": {},
   "outputs": [],
   "source": [
    "# !pip3 install kafka-python==1.4.7 streamz==0.5.2 --user"
   ]
  },
  {
   "cell_type": "code",
   "execution_count": 2,
   "metadata": {},
   "outputs": [],
   "source": [
    "import os\n",
    "import sys\n",
    "\n",
    "SOURCE_DIR = os.path.dirname(os.path.dirname(os.path.abspath(__name__)))\n",
    "sys.path.insert(0, SOURCE_DIR)"
   ]
  },
  {
   "cell_type": "code",
   "execution_count": 3,
   "metadata": {},
   "outputs": [
    {
     "data": {
      "text/plain": [
       "'0.1.6'"
      ]
     },
     "execution_count": 3,
     "metadata": {},
     "output_type": "execute_result"
    }
   ],
   "source": [
    "import waterhealer as wh\n",
    "import json\n",
    "import logging\n",
    "\n",
    "logging.basicConfig(level=logging.INFO)\n",
    "wh.__version__"
   ]
  },
  {
   "cell_type": "code",
   "execution_count": 4,
   "metadata": {},
   "outputs": [],
   "source": [
    "from dask.distributed import Client, LocalCluster\n",
    "cluster = LocalCluster()\n",
    "client = Client(cluster)"
   ]
  },
  {
   "cell_type": "code",
   "execution_count": 5,
   "metadata": {},
   "outputs": [
    {
     "data": {
      "text/html": [
       "\n",
       "            <div>\n",
       "                <div style=\"\n",
       "                    width: 24px;\n",
       "                    height: 24px;\n",
       "                    background-color: #e1e1e1;\n",
       "                    border: 3px solid #9D9D9D;\n",
       "                    border-radius: 5px;\n",
       "                    position: absolute;\"> </div>\n",
       "                <div style=\"margin-left: 48px;\">\n",
       "                    <h3 style=\"margin-bottom: 0px;\">Client</h3>\n",
       "                    <p style=\"color: #9D9D9D; margin-bottom: 0px;\">Client-9590a162-7da1-11ec-b3ed-a683e74d6d81</p>\n",
       "                    <table style=\"width: 100%; text-align: left;\">\n",
       "                    \n",
       "                <tr>\n",
       "                    <td style=\"text-align: left;\"><strong>Connection method:</strong> Cluster object</td>\n",
       "                    <td style=\"text-align: left;\"><strong>Cluster type:</strong> LocalCluster</td>\n",
       "                </tr>\n",
       "                \n",
       "                <tr>\n",
       "                    <td style=\"text-align: left;\">\n",
       "                        <strong>Dashboard: </strong>\n",
       "                        <a href=\"http://127.0.0.1:8787/status\">http://127.0.0.1:8787/status</a>\n",
       "                    </td>\n",
       "                    <td style=\"text-align: left;\"></td>\n",
       "                </tr>\n",
       "                \n",
       "                    </table>\n",
       "                    \n",
       "                <details>\n",
       "                <summary style=\"margin-bottom: 20px;\"><h3 style=\"display: inline;\">Cluster Info</h3></summary>\n",
       "                \n",
       "            <div class=\"jp-RenderedHTMLCommon jp-RenderedHTML jp-mod-trusted jp-OutputArea-output\">\n",
       "                <div style=\"\n",
       "                    width: 24px;\n",
       "                    height: 24px;\n",
       "                    background-color: #e1e1e1;\n",
       "                    border: 3px solid #9D9D9D;\n",
       "                    border-radius: 5px;\n",
       "                    position: absolute;\"> </div>\n",
       "                <div style=\"margin-left: 48px;\">\n",
       "                    <h3 style=\"margin-bottom: 0px; margin-top: 0px;\">LocalCluster</h3>\n",
       "                    <p style=\"color: #9D9D9D; margin-bottom: 0px;\">20be96b4</p>\n",
       "                    <table style=\"width: 100%; text-align: left;\">\n",
       "                    \n",
       "            <tr>\n",
       "                <td style=\"text-align: left;\"><strong>Status:</strong> running</td>\n",
       "                <td style=\"text-align: left;\"><strong>Using processes:</strong> True</td>\n",
       "            </tr>\n",
       "        \n",
       "            <tr>\n",
       "                <td style=\"text-align: left;\">\n",
       "                    <strong>Dashboard:</strong> <a href=\"http://127.0.0.1:8787/status\">http://127.0.0.1:8787/status</a>\n",
       "                </td>\n",
       "                <td style=\"text-align: left;\"><strong>Workers:</strong> 4</td>\n",
       "            </tr>\n",
       "            <tr>\n",
       "                <td style=\"text-align: left;\">\n",
       "                    <strong>Total threads:</strong>\n",
       "                    8\n",
       "                </td>\n",
       "                <td style=\"text-align: left;\">\n",
       "                    <strong>Total memory:</strong>\n",
       "                    16.00 GiB\n",
       "                </td>\n",
       "            </tr>\n",
       "        \n",
       "                    </table>\n",
       "                    <details>\n",
       "                    <summary style=\"margin-bottom: 20px;\"><h3 style=\"display: inline;\">Scheduler Info</h3></summary>\n",
       "                    \n",
       "        <div style=\"\">\n",
       "            \n",
       "            <div>\n",
       "                <div style=\"\n",
       "                    width: 24px;\n",
       "                    height: 24px;\n",
       "                    background-color: #FFF7E5;\n",
       "                    border: 3px solid #FF6132;\n",
       "                    border-radius: 5px;\n",
       "                    position: absolute;\"> </div>\n",
       "                <div style=\"margin-left: 48px;\">\n",
       "                    <h3 style=\"margin-bottom: 0px;\">Scheduler</h3>\n",
       "                    <p style=\"color: #9D9D9D; margin-bottom: 0px;\">Scheduler-42db729a-465a-4b48-a7de-fd67f0b7054b</p>\n",
       "                    <table style=\"width: 100%; text-align: left;\">\n",
       "                        <tr>\n",
       "                            <td style=\"text-align: left;\"><strong>Comm:</strong> tcp://127.0.0.1:61349</td>\n",
       "                            <td style=\"text-align: left;\"><strong>Workers:</strong> 4</td>\n",
       "                        </tr>\n",
       "                        <tr>\n",
       "                            <td style=\"text-align: left;\">\n",
       "                                <strong>Dashboard:</strong> <a href=\"http://127.0.0.1:8787/status\">http://127.0.0.1:8787/status</a>\n",
       "                            </td>\n",
       "                            <td style=\"text-align: left;\">\n",
       "                                <strong>Total threads:</strong>\n",
       "                                8\n",
       "                            </td>\n",
       "                        </tr>\n",
       "                        <tr>\n",
       "                            <td style=\"text-align: left;\">\n",
       "                                <strong>Started:</strong>\n",
       "                                Just now\n",
       "                            </td>\n",
       "                            <td style=\"text-align: left;\">\n",
       "                                <strong>Total memory:</strong>\n",
       "                                16.00 GiB\n",
       "                            </td>\n",
       "                        </tr>\n",
       "                    </table>\n",
       "                </div>\n",
       "            </div>\n",
       "        \n",
       "            <details style=\"margin-left: 48px;\">\n",
       "            <summary style=\"margin-bottom: 20px;\"><h3 style=\"display: inline;\">Workers</h3></summary>\n",
       "            \n",
       "            <div style=\"margin-bottom: 20px;\">\n",
       "                <div style=\"width: 24px;\n",
       "                            height: 24px;\n",
       "                            background-color: #DBF5FF;\n",
       "                            border: 3px solid #4CC9FF;\n",
       "                            border-radius: 5px;\n",
       "                            position: absolute;\"> </div>\n",
       "                <div style=\"margin-left: 48px;\">\n",
       "                <details>\n",
       "                    <summary>\n",
       "                        <h4 style=\"margin-bottom: 0px; display: inline;\">Worker: 0</h4>\n",
       "                    </summary>\n",
       "                    <table style=\"width: 100%; text-align: left;\">\n",
       "                        <tr>\n",
       "                            <td style=\"text-align: left;\"><strong>Comm: </strong> tcp://127.0.0.1:61365</td>\n",
       "                            <td style=\"text-align: left;\"><strong>Total threads: </strong> 2</td>\n",
       "                        </tr>\n",
       "                        <tr>\n",
       "                            <td style=\"text-align: left;\">\n",
       "                                <strong>Dashboard: </strong>\n",
       "                                <a href=\"http://127.0.0.1:61370/status\">http://127.0.0.1:61370/status</a>\n",
       "                            </td>\n",
       "                            <td style=\"text-align: left;\">\n",
       "                                <strong>Memory: </strong>\n",
       "                                4.00 GiB\n",
       "                            </td>\n",
       "                        </tr>\n",
       "                        <tr>\n",
       "                            <td style=\"text-align: left;\"><strong>Nanny: </strong> tcp://127.0.0.1:61353</td>\n",
       "                            <td style=\"text-align: left;\"></td>\n",
       "                        </tr>\n",
       "                        <tr>\n",
       "                            <td colspan=\"2\" style=\"text-align: left;\">\n",
       "                                <strong>Local directory: </strong>\n",
       "                                /Users/huseinzolkepli/Documents/water-healer/example/dask-worker-space/worker-ziqfwris\n",
       "                            </td>\n",
       "                        </tr>\n",
       "                        \n",
       "                        \n",
       "                    </table>\n",
       "                </details>\n",
       "                </div>\n",
       "            </div>\n",
       "            \n",
       "            <div style=\"margin-bottom: 20px;\">\n",
       "                <div style=\"width: 24px;\n",
       "                            height: 24px;\n",
       "                            background-color: #DBF5FF;\n",
       "                            border: 3px solid #4CC9FF;\n",
       "                            border-radius: 5px;\n",
       "                            position: absolute;\"> </div>\n",
       "                <div style=\"margin-left: 48px;\">\n",
       "                <details>\n",
       "                    <summary>\n",
       "                        <h4 style=\"margin-bottom: 0px; display: inline;\">Worker: 1</h4>\n",
       "                    </summary>\n",
       "                    <table style=\"width: 100%; text-align: left;\">\n",
       "                        <tr>\n",
       "                            <td style=\"text-align: left;\"><strong>Comm: </strong> tcp://127.0.0.1:61363</td>\n",
       "                            <td style=\"text-align: left;\"><strong>Total threads: </strong> 2</td>\n",
       "                        </tr>\n",
       "                        <tr>\n",
       "                            <td style=\"text-align: left;\">\n",
       "                                <strong>Dashboard: </strong>\n",
       "                                <a href=\"http://127.0.0.1:61367/status\">http://127.0.0.1:61367/status</a>\n",
       "                            </td>\n",
       "                            <td style=\"text-align: left;\">\n",
       "                                <strong>Memory: </strong>\n",
       "                                4.00 GiB\n",
       "                            </td>\n",
       "                        </tr>\n",
       "                        <tr>\n",
       "                            <td style=\"text-align: left;\"><strong>Nanny: </strong> tcp://127.0.0.1:61354</td>\n",
       "                            <td style=\"text-align: left;\"></td>\n",
       "                        </tr>\n",
       "                        <tr>\n",
       "                            <td colspan=\"2\" style=\"text-align: left;\">\n",
       "                                <strong>Local directory: </strong>\n",
       "                                /Users/huseinzolkepli/Documents/water-healer/example/dask-worker-space/worker-5p9zbuf6\n",
       "                            </td>\n",
       "                        </tr>\n",
       "                        \n",
       "                        \n",
       "                    </table>\n",
       "                </details>\n",
       "                </div>\n",
       "            </div>\n",
       "            \n",
       "            <div style=\"margin-bottom: 20px;\">\n",
       "                <div style=\"width: 24px;\n",
       "                            height: 24px;\n",
       "                            background-color: #DBF5FF;\n",
       "                            border: 3px solid #4CC9FF;\n",
       "                            border-radius: 5px;\n",
       "                            position: absolute;\"> </div>\n",
       "                <div style=\"margin-left: 48px;\">\n",
       "                <details>\n",
       "                    <summary>\n",
       "                        <h4 style=\"margin-bottom: 0px; display: inline;\">Worker: 2</h4>\n",
       "                    </summary>\n",
       "                    <table style=\"width: 100%; text-align: left;\">\n",
       "                        <tr>\n",
       "                            <td style=\"text-align: left;\"><strong>Comm: </strong> tcp://127.0.0.1:61364</td>\n",
       "                            <td style=\"text-align: left;\"><strong>Total threads: </strong> 2</td>\n",
       "                        </tr>\n",
       "                        <tr>\n",
       "                            <td style=\"text-align: left;\">\n",
       "                                <strong>Dashboard: </strong>\n",
       "                                <a href=\"http://127.0.0.1:61366/status\">http://127.0.0.1:61366/status</a>\n",
       "                            </td>\n",
       "                            <td style=\"text-align: left;\">\n",
       "                                <strong>Memory: </strong>\n",
       "                                4.00 GiB\n",
       "                            </td>\n",
       "                        </tr>\n",
       "                        <tr>\n",
       "                            <td style=\"text-align: left;\"><strong>Nanny: </strong> tcp://127.0.0.1:61352</td>\n",
       "                            <td style=\"text-align: left;\"></td>\n",
       "                        </tr>\n",
       "                        <tr>\n",
       "                            <td colspan=\"2\" style=\"text-align: left;\">\n",
       "                                <strong>Local directory: </strong>\n",
       "                                /Users/huseinzolkepli/Documents/water-healer/example/dask-worker-space/worker-xvnx6u6u\n",
       "                            </td>\n",
       "                        </tr>\n",
       "                        \n",
       "                        \n",
       "                    </table>\n",
       "                </details>\n",
       "                </div>\n",
       "            </div>\n",
       "            \n",
       "            <div style=\"margin-bottom: 20px;\">\n",
       "                <div style=\"width: 24px;\n",
       "                            height: 24px;\n",
       "                            background-color: #DBF5FF;\n",
       "                            border: 3px solid #4CC9FF;\n",
       "                            border-radius: 5px;\n",
       "                            position: absolute;\"> </div>\n",
       "                <div style=\"margin-left: 48px;\">\n",
       "                <details>\n",
       "                    <summary>\n",
       "                        <h4 style=\"margin-bottom: 0px; display: inline;\">Worker: 3</h4>\n",
       "                    </summary>\n",
       "                    <table style=\"width: 100%; text-align: left;\">\n",
       "                        <tr>\n",
       "                            <td style=\"text-align: left;\"><strong>Comm: </strong> tcp://127.0.0.1:61360</td>\n",
       "                            <td style=\"text-align: left;\"><strong>Total threads: </strong> 2</td>\n",
       "                        </tr>\n",
       "                        <tr>\n",
       "                            <td style=\"text-align: left;\">\n",
       "                                <strong>Dashboard: </strong>\n",
       "                                <a href=\"http://127.0.0.1:61361/status\">http://127.0.0.1:61361/status</a>\n",
       "                            </td>\n",
       "                            <td style=\"text-align: left;\">\n",
       "                                <strong>Memory: </strong>\n",
       "                                4.00 GiB\n",
       "                            </td>\n",
       "                        </tr>\n",
       "                        <tr>\n",
       "                            <td style=\"text-align: left;\"><strong>Nanny: </strong> tcp://127.0.0.1:61351</td>\n",
       "                            <td style=\"text-align: left;\"></td>\n",
       "                        </tr>\n",
       "                        <tr>\n",
       "                            <td colspan=\"2\" style=\"text-align: left;\">\n",
       "                                <strong>Local directory: </strong>\n",
       "                                /Users/huseinzolkepli/Documents/water-healer/example/dask-worker-space/worker-pmi8ztq4\n",
       "                            </td>\n",
       "                        </tr>\n",
       "                        \n",
       "                        \n",
       "                    </table>\n",
       "                </details>\n",
       "                </div>\n",
       "            </div>\n",
       "            \n",
       "            </details>\n",
       "        </div>\n",
       "        \n",
       "                    </details>\n",
       "                </div>\n",
       "            </div>\n",
       "        \n",
       "                </details>\n",
       "                \n",
       "                </div>\n",
       "            </div>\n",
       "        "
      ],
      "text/plain": [
       "<Client: 'tcp://127.0.0.1:61349' processes=4 threads=8, memory=16.00 GiB>"
      ]
     },
     "execution_count": 5,
     "metadata": {},
     "output_type": "execute_result"
    }
   ],
   "source": [
    "client"
   ]
  },
  {
   "cell_type": "code",
   "execution_count": 6,
   "metadata": {},
   "outputs": [],
   "source": [
    "brokers = 'localhost:29092'"
   ]
  },
  {
   "cell_type": "code",
   "execution_count": 7,
   "metadata": {},
   "outputs": [],
   "source": [
    "from redis import StrictRedis\n",
    "from waterhealer.db.redis import Database\n",
    "\n",
    "consumer = 'group-test-18'\n",
    "redis = StrictRedis()\n",
    "db = Database(redis = redis, consumer = consumer, key = 'water-healer-scatter')"
   ]
  },
  {
   "cell_type": "code",
   "execution_count": 8,
   "metadata": {},
   "outputs": [
    {
     "name": "stderr",
     "output_type": "stream",
     "text": [
      "INFO:root:Use waterhealer.db.redis.Database\n"
     ]
    }
   ],
   "source": [
    "source = wh.from_kafka_batched_scatter(\n",
    "    ['testing'],\n",
    "    {\n",
    "        'bootstrap.servers': brokers,\n",
    "        'group.id': consumer,\n",
    "        'auto.offset.reset': 'latest',\n",
    "    },\n",
    "    dask = True,\n",
    "    db = db,\n",
    ")"
   ]
  },
  {
   "cell_type": "code",
   "execution_count": 9,
   "metadata": {},
   "outputs": [],
   "source": [
    "def json_loads(rows):\n",
    "    results = []\n",
    "    for row in rows:\n",
    "        results.append((row[0], json.loads(row[1])))\n",
    "    return results\n",
    "\n",
    "def plus(rows, m = 30):\n",
    "    results = []\n",
    "    for row in rows:\n",
    "        no = row[1]['no']\n",
    "        if no > m:\n",
    "            raise Exception(f'{row}, {no} is bigger than {m}')\n",
    "        results.append((row[0], no + 1))\n",
    "    return results"
   ]
  },
  {
   "cell_type": "code",
   "execution_count": 10,
   "metadata": {},
   "outputs": [
    {
     "data": {
      "image/png": "[encoded data removed]",
      "text/plain": [
       "<IPython.core.display.Image object>"
      ]
     },
     "execution_count": 10,
     "metadata": {},
     "output_type": "execute_result"
    }
   ],
   "source": [
    "source.visualize()"
   ]
  },
  {
   "cell_type": "code",
   "execution_count": 11,
   "metadata": {
    "scrolled": true
   },
   "outputs": [
    {
     "data": {
      "application/vnd.jupyter.widget-view+json": {
       "model_id": "e19de12ad12c48518d231b1099025fe7",
       "version_major": 2,
       "version_minor": 0
      },
      "text/plain": [
       "Output()"
      ]
     },
     "metadata": {},
     "output_type": "display_data"
    }
   ],
   "source": [
    "outputs = []\n",
    "h = source.map(json_loads).map(plus).buffer(5).gather().flatten().healing(interval = 5)\n",
    "h.sink(outputs.append)"
   ]
  },
  {
   "cell_type": "code",
   "execution_count": 12,
   "metadata": {},
   "outputs": [
    {
     "data": {
      "image/png": "[encoded data removed]",
      "text/plain": [
       "<IPython.core.display.Image object>"
      ]
     },
     "execution_count": 12,
     "metadata": {},
     "output_type": "execute_result"
    }
   ],
   "source": [
    "source.visualize()"
   ]
  },
  {
   "cell_type": "code",
   "execution_count": 13,
   "metadata": {
    "scrolled": true
   },
   "outputs": [],
   "source": [
    "source.start()"
   ]
  },
  {
   "cell_type": "code",
   "execution_count": 14,
   "metadata": {},
   "outputs": [
    {
     "data": {
      "text/plain": [
       "[]"
      ]
     },
     "execution_count": 14,
     "metadata": {},
     "output_type": "execute_result"
    }
   ],
   "source": [
    "outputs"
   ]
  },
  {
   "cell_type": "code",
   "execution_count": 15,
   "metadata": {},
   "outputs": [],
   "source": [
    "from kafka import KafkaProducer\n",
    "from kafka.partitioner import RoundRobinPartitioner"
   ]
  },
  {
   "cell_type": "code",
   "execution_count": 16,
   "metadata": {},
   "outputs": [
    {
     "name": "stderr",
     "output_type": "stream",
     "text": [
      "INFO:kafka.conn:<BrokerConnection node_id=bootstrap-0 host=localhost:29092 <connecting> [IPv6 ('::1', 29092, 0, 0)]>: connecting to localhost:29092 [('::1', 29092, 0, 0) IPv6]\n",
      "INFO:kafka.conn:<BrokerConnection node_id=bootstrap-0 host=localhost:29092 <connecting> [IPv6 ('::1', 29092, 0, 0)]>: Connection complete.\n"
     ]
    }
   ],
   "source": [
    "producer = KafkaProducer(\n",
    "    bootstrap_servers = brokers.split(','),\n",
    "    api_version = (0, 10),\n",
    "    partitioner = RoundRobinPartitioner(),\n",
    ")"
   ]
  },
  {
   "cell_type": "code",
   "execution_count": 17,
   "metadata": {},
   "outputs": [
    {
     "data": {
      "text/plain": [
       "True"
      ]
     },
     "execution_count": 17,
     "metadata": {},
     "output_type": "execute_result"
    }
   ],
   "source": [
    "producer.bootstrap_connected()"
   ]
  },
  {
   "cell_type": "code",
   "execution_count": 18,
   "metadata": {},
   "outputs": [
    {
     "name": "stderr",
     "output_type": "stream",
     "text": [
      "INFO:root:healing successful: False, 2022-01-25 13:42:39.826759\n"
     ]
    }
   ],
   "source": [
    "from datetime import datetime\n",
    "import json\n",
    "\n",
    "def publish_message(producer_instance, topic_name, key, value):\n",
    "    try:\n",
    "        key_bytes = bytes(key, encoding = 'utf-8')\n",
    "        value_bytes = bytes(value, encoding = 'utf-8')\n",
    "        x = producer_instance.send(topic_name, value = value_bytes)\n",
    "        return True\n",
    "    except Exception as ex:\n",
    "        print('Exception in publishing message')\n",
    "        print(str(ex))\n",
    "        return False"
   ]
  },
  {
   "cell_type": "markdown",
   "metadata": {},
   "source": [
    "## purposely raise the error\n",
    "\n",
    "Based on function `plus`, if input bigger than 30, it will throw error."
   ]
  },
  {
   "cell_type": "code",
   "execution_count": 19,
   "metadata": {
    "scrolled": false
   },
   "outputs": [
    {
     "name": "stderr",
     "output_type": "stream",
     "text": [
      "INFO:kafka.conn:<BrokerConnection node_id=1 host=localhost:29092 <connecting> [IPv6 ('::1', 29092, 0, 0)]>: connecting to localhost:29092 [('::1', 29092, 0, 0) IPv6]\n",
      "INFO:kafka.conn:<BrokerConnection node_id=1 host=localhost:29092 <connecting> [IPv6 ('::1', 29092, 0, 0)]>: Connection complete.\n",
      "INFO:kafka.conn:<BrokerConnection node_id=bootstrap-0 host=localhost:29092 <connected> [IPv6 ('::1', 29092, 0, 0)]>: Closing connection. \n"
     ]
    },
    {
     "name": "stdout",
     "output_type": "stream",
     "text": [
      "{'no': 0, 'datetime': '2022-01-25 13:42:40.017421'}\n",
      "{'no': 1, 'datetime': '2022-01-25 13:42:40.121142'}\n",
      "{'no': 2, 'datetime': '2022-01-25 13:42:40.224426'}\n",
      "{'no': 3, 'datetime': '2022-01-25 13:42:40.325786'}\n",
      "{'no': 4, 'datetime': '2022-01-25 13:42:40.429777'}\n",
      "{'no': 5, 'datetime': '2022-01-25 13:42:40.533347'}\n",
      "{'no': 6, 'datetime': '2022-01-25 13:42:40.637123'}\n",
      "{'no': 7, 'datetime': '2022-01-25 13:42:40.740686'}\n",
      "{'no': 8, 'datetime': '2022-01-25 13:42:40.846492'}\n",
      "{'no': 9, 'datetime': '2022-01-25 13:42:40.951091'}\n",
      "{'no': 10, 'datetime': '2022-01-25 13:42:41.057023'}\n",
      "{'no': 11, 'datetime': '2022-01-25 13:42:41.159650'}\n",
      "{'no': 12, 'datetime': '2022-01-25 13:42:41.265092'}\n",
      "{'no': 13, 'datetime': '2022-01-25 13:42:41.369576'}\n",
      "{'no': 14, 'datetime': '2022-01-25 13:42:41.474400'}\n",
      "{'no': 15, 'datetime': '2022-01-25 13:42:41.578328'}\n"
     ]
    },
    {
     "name": "stderr",
     "output_type": "stream",
     "text": [
      "INFO:root:{'function_name': 'FromKafkaBatched', 'data': \"({'bootstrap.servers': 'localhost:29092', 'group.id': 'group-test-18', 'auto.offset.reset': 'latest', 'enable.auto.commit': False}, 'testing', 0, 31, 32, set())\"}\n",
      "INFO:root:{'function_name': 'scatter', 'data': '<Future: finished, type: builtins.tuple, key: tuple-ea463cf112d343e8abf6a8b9ac6d0aba>'}\n"
     ]
    },
    {
     "name": "stdout",
     "output_type": "stream",
     "text": [
      "{'no': 16, 'datetime': '2022-01-25 13:42:41.681175'}\n",
      "{'no': 17, 'datetime': '2022-01-25 13:42:41.784469'}\n"
     ]
    },
    {
     "name": "stderr",
     "output_type": "stream",
     "text": [
      "INFO:root:{'function_name': 'starmap.get_message_batch', 'data': '<Future: pending, key: apply-8e4ea611-e840-40da-845b-b7535c66bdb1>'}\n",
      "INFO:root:{'function_name': 'map.json_loads', 'data': '<Future: pending, key: json_loads--57d0ca21-bdb6-4c33-b340-122a17f7a960--10d5c416-8210-4c44-a8f5-0bbbd1528ab4>'}\n",
      "INFO:root:{'function_name': 'map.plus', 'data': '<Future: pending, key: plus--57d0ca21-bdb6-4c33-b340-122a17f7a960--70fb718a-e733-4918-bae2-6a0791513b07>'}\n",
      "INFO:root:{'function_name': 'buffer', 'data': '<Future: pending, key: plus--57d0ca21-bdb6-4c33-b340-122a17f7a960--70fb718a-e733-4918-bae2-6a0791513b07>'}\n",
      "INFO:root:{'function_name': 'FromKafkaBatched', 'data': \"({'bootstrap.servers': 'localhost:29092', 'group.id': 'group-test-18', 'auto.offset.reset': 'latest', 'enable.auto.commit': False}, 'testing', 1, 31, 32, set())\"}\n",
      "INFO:root:{'function_name': 'scatter', 'data': '<Future: finished, type: builtins.tuple, key: tuple-fca04d5531904f28ab9dd756a37eedc2>'}\n",
      "INFO:root:{'function_name': 'starmap.get_message_batch', 'data': '<Future: pending, key: apply-09042e6c-b972-40af-9a59-c1caa6ac9cd5>'}\n",
      "INFO:root:{'function_name': 'map.json_loads', 'data': '<Future: pending, key: json_loads--2b95bb14-4006-4710-92a1-23c6b12d1894--4fccb702-3626-45bb-a362-0ce83effd8fd>'}\n",
      "INFO:root:{'function_name': 'map.plus', 'data': '<Future: pending, key: plus--2b95bb14-4006-4710-92a1-23c6b12d1894--4d2f4cf4-a459-416c-9528-b7885f21cdc1>'}\n",
      "INFO:root:{'function_name': 'FromKafkaBatched', 'data': \"({'bootstrap.servers': 'localhost:29092', 'group.id': 'group-test-18', 'auto.offset.reset': 'latest', 'enable.auto.commit': False}, 'testing', 2, 31, 32, set())\"}\n",
      "INFO:root:{'function_name': 'scatter', 'data': '<Future: finished, type: builtins.tuple, key: tuple-e3d81b10369a400795beb76c9ac19789>'}\n",
      "INFO:root:{'function_name': 'starmap.get_message_batch', 'data': '<Future: pending, key: apply-b34558b3-9a60-43e3-921e-43edef7a5ea0>'}\n"
     ]
    },
    {
     "name": "stdout",
     "output_type": "stream",
     "text": [
      "{'no': 18, 'datetime': '2022-01-25 13:42:41.885921'}\n",
      "{'no': 19, 'datetime': '2022-01-25 13:42:41.991003'}\n"
     ]
    },
    {
     "name": "stderr",
     "output_type": "stream",
     "text": [
      "INFO:root:{'function_name': 'map.json_loads', 'data': '<Future: pending, key: json_loads--0c4400f2-0cc1-4bc0-9984-7f46162e5228--36f93ca3-4ba9-43ed-b37d-d6770c9c1638>'}\n",
      "INFO:root:{'function_name': 'map.plus', 'data': '<Future: pending, key: plus--0c4400f2-0cc1-4bc0-9984-7f46162e5228--01b18a6d-d716-4450-bc1e-d9d58b1b5a5d>'}\n",
      "INFO:root:{'function_name': 'FromKafkaBatched', 'data': \"({'bootstrap.servers': 'localhost:29092', 'group.id': 'group-test-18', 'auto.offset.reset': 'latest', 'enable.auto.commit': False}, 'testing', 3, 31, 32, set())\"}\n",
      "INFO:root:{'function_name': 'scatter', 'data': '<Future: finished, type: builtins.tuple, key: tuple-66c71325cae84ea0b8053ca7b5af54ec>'}\n",
      "INFO:root:{'function_name': 'starmap.get_message_batch', 'data': '<Future: pending, key: apply-4df821d2-aeeb-45fb-985f-b48168c1033c>'}\n",
      "INFO:root:{'function_name': 'map.json_loads', 'data': '<Future: pending, key: json_loads--dd523b22-9fa6-47de-a1b5-3ce8f6ed83fb--1159f21c-2805-421e-b5e1-e69b15834ee3>'}\n",
      "INFO:root:{'function_name': 'map.plus', 'data': '<Future: pending, key: plus--dd523b22-9fa6-47de-a1b5-3ce8f6ed83fb--ca038a52-281e-4010-a033-a9a49a22eb4a>'}\n",
      "INFO:root:{'function_name': 'FromKafkaBatched', 'data': \"({'bootstrap.servers': 'localhost:29092', 'group.id': 'group-test-18', 'auto.offset.reset': 'latest', 'enable.auto.commit': False}, 'testing', 4, 31, 32, set())\"}\n",
      "INFO:root:{'function_name': 'scatter', 'data': '<Future: finished, type: builtins.tuple, key: tuple-9e90ec245a8c404395a499a36402ad6f>'}\n",
      "INFO:root:{'function_name': 'starmap.get_message_batch', 'data': '<Future: pending, key: apply-1ed9997d-5faa-4089-bad5-187669b9c20c>'}\n",
      "INFO:root:{'function_name': 'map.json_loads', 'data': '<Future: pending, key: json_loads--05df4f79-dc5e-43ea-aab7-e58bafbd8067--c91357c4-efa9-42e1-95b5-9df4e635b2c9>'}\n",
      "INFO:root:{'function_name': 'map.plus', 'data': '<Future: pending, key: plus--05df4f79-dc5e-43ea-aab7-e58bafbd8067--6bf8d839-7ef9-40b3-8ca0-e4dbd4c8e594>'}\n",
      "INFO:root:{'function_name': 'FromKafkaBatched', 'data': \"({'bootstrap.servers': 'localhost:29092', 'group.id': 'group-test-18', 'auto.offset.reset': 'latest', 'enable.auto.commit': False}, 'testing', 5, 25, 26, set())\"}\n",
      "INFO:root:{'function_name': 'scatter', 'data': '<Future: finished, type: builtins.tuple, key: tuple-a487c6cf3e8d4092b329843ba9eef1bf>'}\n",
      "INFO:root:{'function_name': 'starmap.get_message_batch', 'data': '<Future: pending, key: apply-b5e77aee-a696-45c3-8b82-db8b8ca19aff>'}\n",
      "INFO:root:{'function_name': 'map.json_loads', 'data': '<Future: pending, key: json_loads--ed9f0150-7bf4-450e-abb1-a48222ae153a--ed3f7c43-4288-40e7-a806-9d4d1e83842f>'}\n",
      "INFO:root:{'function_name': 'map.plus', 'data': '<Future: pending, key: plus--ed9f0150-7bf4-450e-abb1-a48222ae153a--f34634f2-a1e0-49ad-857a-79a912648615>'}\n",
      "INFO:root:{'function_name': 'FromKafkaBatched', 'data': \"({'bootstrap.servers': 'localhost:29092', 'group.id': 'group-test-18', 'auto.offset.reset': 'latest', 'enable.auto.commit': False}, 'testing', 6, 25, 26, set())\"}\n",
      "INFO:root:{'function_name': 'scatter', 'data': '<Future: finished, type: builtins.tuple, key: tuple-4b57b14100da470b990991736403ff15>'}\n",
      "INFO:root:{'function_name': 'starmap.get_message_batch', 'data': '<Future: pending, key: apply-fcbce404-06a7-4fa4-a828-a141d79cd56f>'}\n",
      "INFO:root:{'function_name': 'map.json_loads', 'data': '<Future: pending, key: json_loads--37c4981b-e875-44bb-8c48-e8870e404dfb--2b26d63d-1533-42c5-ae20-2aedd065764a>'}\n",
      "INFO:root:{'function_name': 'map.plus', 'data': '<Future: pending, key: plus--37c4981b-e875-44bb-8c48-e8870e404dfb--72b6c2a0-9769-496c-89d3-9e4832fe407b>'}\n"
     ]
    },
    {
     "name": "stdout",
     "output_type": "stream",
     "text": [
      "{'no': 20, 'datetime': '2022-01-25 13:42:42.093029'}\n",
      "{'no': 21, 'datetime': '2022-01-25 13:42:42.193745'}\n",
      "{'no': 22, 'datetime': '2022-01-25 13:42:42.299677'}\n",
      "{'no': 23, 'datetime': '2022-01-25 13:42:42.402041'}\n"
     ]
    },
    {
     "name": "stderr",
     "output_type": "stream",
     "text": [
      "INFO:root:{'function_name': 'gather', 'data': \"[({'partition': 0, 'offset': 31, 'topic': 'testing'}, 1), ({'partition': 0, 'offset': 32, 'topic': 'testing'}, 11)]\"}\n",
      "INFO:root:{'function_name': 'flatten', 'data': \"({'partition': 0, 'offset': 31, 'topic': 'testing'}, 1)\"}\n",
      "INFO:root:{'function_name': 'flatten', 'data': \"({'partition': 0, 'offset': 32, 'topic': 'testing'}, 11)\"}\n",
      "INFO:root:{'function_name': 'buffer', 'data': '<Future: pending, key: plus--2b95bb14-4006-4710-92a1-23c6b12d1894--4d2f4cf4-a459-416c-9528-b7885f21cdc1>'}\n",
      "INFO:root:{'function_name': 'FromKafkaBatched', 'data': \"({'bootstrap.servers': 'localhost:29092', 'group.id': 'group-test-18', 'auto.offset.reset': 'latest', 'enable.auto.commit': False}, 'testing', 7, 25, 25, set())\"}\n",
      "INFO:root:{'function_name': 'scatter', 'data': '<Future: finished, type: builtins.tuple, key: tuple-43281a94491a4139a02d4f0ab5aa9681>'}\n",
      "INFO:root:{'function_name': 'starmap.get_message_batch', 'data': '<Future: pending, key: apply-08032956-50c9-4827-b611-2ed5e877d8a2>'}\n",
      "INFO:root:{'function_name': 'map.json_loads', 'data': '<Future: pending, key: json_loads--14a73684-bd52-4e63-99e3-fb29242586b3--9cad78be-7c83-4ada-8dd9-a77049273ca5>'}\n",
      "INFO:root:{'function_name': 'map.plus', 'data': '<Future: pending, key: plus--14a73684-bd52-4e63-99e3-fb29242586b3--688d9d45-7d41-45fc-a942-43f5d552eefa>'}\n",
      "INFO:root:{'function_name': 'gather', 'data': \"[({'partition': 1, 'offset': 31, 'topic': 'testing'}, 2), ({'partition': 1, 'offset': 32, 'topic': 'testing'}, 12)]\"}\n",
      "INFO:root:{'function_name': 'flatten', 'data': \"({'partition': 1, 'offset': 31, 'topic': 'testing'}, 2)\"}\n",
      "INFO:root:{'function_name': 'flatten', 'data': \"({'partition': 1, 'offset': 32, 'topic': 'testing'}, 12)\"}\n",
      "INFO:root:{'function_name': 'buffer', 'data': '<Future: finished, type: builtins.list, key: plus--0c4400f2-0cc1-4bc0-9984-7f46162e5228--01b18a6d-d716-4450-bc1e-d9d58b1b5a5d>'}\n",
      "INFO:root:{'function_name': 'FromKafkaBatched', 'data': \"({'bootstrap.servers': 'localhost:29092', 'group.id': 'group-test-18', 'auto.offset.reset': 'latest', 'enable.auto.commit': False}, 'testing', 8, 25, 25, set())\"}\n",
      "INFO:root:{'function_name': 'gather', 'data': \"[({'partition': 2, 'offset': 31, 'topic': 'testing'}, 3), ({'partition': 2, 'offset': 32, 'topic': 'testing'}, 13)]\"}\n",
      "INFO:root:{'function_name': 'flatten', 'data': \"({'partition': 2, 'offset': 31, 'topic': 'testing'}, 3)\"}\n",
      "INFO:root:{'function_name': 'flatten', 'data': \"({'partition': 2, 'offset': 32, 'topic': 'testing'}, 13)\"}\n",
      "INFO:root:{'function_name': 'buffer', 'data': '<Future: finished, type: builtins.list, key: plus--dd523b22-9fa6-47de-a1b5-3ce8f6ed83fb--ca038a52-281e-4010-a033-a9a49a22eb4a>'}\n",
      "INFO:root:{'function_name': 'scatter', 'data': '<Future: finished, type: builtins.tuple, key: tuple-103996e4cd694d41abeb2bce9804e633>'}\n",
      "INFO:root:{'function_name': 'starmap.get_message_batch', 'data': '<Future: pending, key: apply-aeceb9e1-75e0-4dd1-88a9-0b8f94b41079>'}\n",
      "INFO:root:{'function_name': 'map.json_loads', 'data': '<Future: pending, key: json_loads--a72d71c0-c9c2-4de5-882d-449be1585634--91f2ca36-dec0-4bcf-a41b-69d05a352af6>'}\n",
      "INFO:root:{'function_name': 'map.plus', 'data': '<Future: pending, key: plus--a72d71c0-c9c2-4de5-882d-449be1585634--629ecba1-60ab-4735-a8b9-07f46456ee93>'}\n",
      "INFO:root:{'function_name': 'FromKafkaBatched', 'data': \"({'bootstrap.servers': 'localhost:29092', 'group.id': 'group-test-18', 'auto.offset.reset': 'latest', 'enable.auto.commit': False}, 'testing', 9, 25, 25, set())\"}\n",
      "INFO:root:{'function_name': 'gather', 'data': \"[({'partition': 3, 'offset': 31, 'topic': 'testing'}, 4), ({'partition': 3, 'offset': 32, 'topic': 'testing'}, 14)]\"}\n",
      "INFO:root:{'function_name': 'flatten', 'data': \"({'partition': 3, 'offset': 31, 'topic': 'testing'}, 4)\"}\n",
      "INFO:root:{'function_name': 'flatten', 'data': \"({'partition': 3, 'offset': 32, 'topic': 'testing'}, 14)\"}\n",
      "INFO:root:{'function_name': 'scatter', 'data': '<Future: finished, type: builtins.tuple, key: tuple-b0c80a174b654d2f93e3d3551511b082>'}\n",
      "INFO:root:{'function_name': 'starmap.get_message_batch', 'data': '<Future: pending, key: apply-af08ca51-4741-4556-8674-2e1a293c15f0>'}\n",
      "INFO:root:{'function_name': 'map.json_loads', 'data': '<Future: pending, key: json_loads--f9698edf-f9dc-4c60-b079-d8f05012918d--9b128f7e-fdc3-40bf-b40a-65bc5e081a84>'}\n",
      "INFO:root:{'function_name': 'map.plus', 'data': '<Future: pending, key: plus--f9698edf-f9dc-4c60-b079-d8f05012918d--edd88104-feaf-4ee4-917a-98e5af141d83>'}\n",
      "INFO:root:{'function_name': 'buffer', 'data': '<Future: finished, type: builtins.list, key: plus--05df4f79-dc5e-43ea-aab7-e58bafbd8067--6bf8d839-7ef9-40b3-8ca0-e4dbd4c8e594>'}\n",
      "INFO:root:{'function_name': 'gather', 'data': \"[({'partition': 4, 'offset': 31, 'topic': 'testing'}, 5), ({'partition': 4, 'offset': 32, 'topic': 'testing'}, 15)]\"}\n",
      "INFO:root:{'function_name': 'flatten', 'data': \"({'partition': 4, 'offset': 31, 'topic': 'testing'}, 5)\"}\n"
     ]
    },
    {
     "name": "stdout",
     "output_type": "stream",
     "text": [
      "{'no': 24, 'datetime': '2022-01-25 13:42:42.507181'}\n",
      "{'no': 25, 'datetime': '2022-01-25 13:42:42.609590'}\n"
     ]
    },
    {
     "name": "stderr",
     "output_type": "stream",
     "text": [
      "INFO:root:{'function_name': 'flatten', 'data': \"({'partition': 4, 'offset': 32, 'topic': 'testing'}, 15)\"}\n",
      "INFO:root:{'function_name': 'buffer', 'data': '<Future: finished, type: builtins.list, key: plus--ed9f0150-7bf4-450e-abb1-a48222ae153a--f34634f2-a1e0-49ad-857a-79a912648615>'}\n",
      "INFO:root:{'function_name': 'gather', 'data': \"[({'partition': 5, 'offset': 25, 'topic': 'testing'}, 6), ({'partition': 5, 'offset': 26, 'topic': 'testing'}, 16)]\"}\n",
      "INFO:root:{'function_name': 'flatten', 'data': \"({'partition': 5, 'offset': 25, 'topic': 'testing'}, 6)\"}\n",
      "INFO:root:{'function_name': 'flatten', 'data': \"({'partition': 5, 'offset': 26, 'topic': 'testing'}, 16)\"}\n",
      "INFO:root:{'function_name': 'buffer', 'data': '<Future: finished, type: builtins.list, key: plus--37c4981b-e875-44bb-8c48-e8870e404dfb--72b6c2a0-9769-496c-89d3-9e4832fe407b>'}\n",
      "INFO:root:{'function_name': 'gather', 'data': \"[({'partition': 6, 'offset': 25, 'topic': 'testing'}, 7), ({'partition': 6, 'offset': 26, 'topic': 'testing'}, 17)]\"}\n",
      "INFO:root:{'function_name': 'flatten', 'data': \"({'partition': 6, 'offset': 25, 'topic': 'testing'}, 7)\"}\n",
      "INFO:root:{'function_name': 'flatten', 'data': \"({'partition': 6, 'offset': 26, 'topic': 'testing'}, 17)\"}\n",
      "INFO:root:{'function_name': 'buffer', 'data': '<Future: finished, type: builtins.list, key: plus--14a73684-bd52-4e63-99e3-fb29242586b3--688d9d45-7d41-45fc-a942-43f5d552eefa>'}\n",
      "INFO:root:{'function_name': 'gather', 'data': \"[({'partition': 7, 'offset': 25, 'topic': 'testing'}, 8)]\"}\n",
      "INFO:root:{'function_name': 'flatten', 'data': \"({'partition': 7, 'offset': 25, 'topic': 'testing'}, 8)\"}\n",
      "INFO:root:{'function_name': 'buffer', 'data': '<Future: pending, key: plus--a72d71c0-c9c2-4de5-882d-449be1585634--629ecba1-60ab-4735-a8b9-07f46456ee93>'}\n",
      "INFO:root:{'function_name': 'gather', 'data': \"[({'partition': 8, 'offset': 25, 'topic': 'testing'}, 9)]\"}\n",
      "INFO:root:{'function_name': 'flatten', 'data': \"({'partition': 8, 'offset': 25, 'topic': 'testing'}, 9)\"}\n",
      "INFO:root:{'function_name': 'buffer', 'data': '<Future: pending, key: plus--f9698edf-f9dc-4c60-b079-d8f05012918d--edd88104-feaf-4ee4-917a-98e5af141d83>'}\n",
      "INFO:root:{'function_name': 'gather', 'data': \"[({'partition': 9, 'offset': 25, 'topic': 'testing'}, 10)]\"}\n",
      "INFO:root:{'function_name': 'flatten', 'data': \"({'partition': 9, 'offset': 25, 'topic': 'testing'}, 10)\"}\n"
     ]
    },
    {
     "name": "stdout",
     "output_type": "stream",
     "text": [
      "{'no': 26, 'datetime': '2022-01-25 13:42:42.712965'}\n",
      "{'no': 27, 'datetime': '2022-01-25 13:42:42.818439'}\n",
      "{'no': 28, 'datetime': '2022-01-25 13:42:42.920408'}\n",
      "{'no': 29, 'datetime': '2022-01-25 13:42:43.024480'}\n",
      "{'no': 30, 'datetime': '2022-01-25 13:42:43.127018'}\n",
      "{'no': 31, 'datetime': '2022-01-25 13:42:43.230329'}\n",
      "{'no': 32, 'datetime': '2022-01-25 13:42:43.333344'}\n",
      "{'no': 33, 'datetime': '2022-01-25 13:42:43.434034'}\n",
      "{'no': 34, 'datetime': '2022-01-25 13:42:43.537642'}\n"
     ]
    },
    {
     "name": "stderr",
     "output_type": "stream",
     "text": [
      "INFO:root:healing successful: True, 2022-01-25 13:42:44.922685\n",
      "INFO:root:{'function_name': 'healing', 'data': \"[{'topic': 'testing', 'partition': 0, 'offset': 31}, {'topic': 'testing', 'partition': 0, 'offset': 32}, {'topic': 'testing', 'partition': 1, 'offset': 31}, {'topic': 'testing', 'partition': 1, 'offset': 32}, {'topic': 'testing', 'partition': 2, 'offset': 31}, {'topic': 'testing', 'partition': 2, 'offset': 32}, {'topic': 'testing', 'partition': 3, 'offset': 31}, {'topic': 'testing', 'partition': 3, 'offset': 32}, {'topic': 'testing', 'partition': 4, 'offset': 31}, {'topic': 'testing', 'partition': 4, 'offset': 32}, {'topic': 'testing', 'partition': 5, 'offset': 25}, {'topic': 'testing', 'partition': 5, 'offset': 26}, {'topic': 'testing', 'partition': 6, 'offset': 25}, {'topic': 'testing', 'partition': 6, 'offset': 26}, {'topic': 'testing', 'partition': 7, 'offset': 25}, {'topic': 'testing', 'partition': 8, 'offset': 25}, {'topic': 'testing', 'partition': 9, 'offset': 25}]\"}\n",
      "INFO:root:{'function_name': 'FromKafkaBatched', 'data': \"({'bootstrap.servers': 'localhost:29092', 'group.id': 'group-test-18', 'auto.offset.reset': 'latest', 'enable.auto.commit': False}, 'testing', 0, 33, 34, set())\"}\n",
      "INFO:root:{'function_name': 'scatter', 'data': '<Future: finished, type: builtins.tuple, key: tuple-14bd3e51b3f544ad9c06b8bc34704694>'}\n",
      "INFO:root:{'function_name': 'starmap.get_message_batch', 'data': '<Future: pending, key: apply-fc0396b6-6cb3-4395-80a9-3ee710af4db1>'}\n",
      "INFO:root:{'function_name': 'map.json_loads', 'data': '<Future: pending, key: json_loads--80fbe21e-6f55-478e-9823-92ebbd463a33--b8fefe16-15c7-4b8f-bced-db29342c9923>'}\n",
      "INFO:root:{'function_name': 'map.plus', 'data': '<Future: pending, key: plus--80fbe21e-6f55-478e-9823-92ebbd463a33--e1b00178-d0ef-4119-aab5-b4ebebf42d6f>'}\n",
      "INFO:root:{'function_name': 'buffer', 'data': '<Future: pending, key: plus--80fbe21e-6f55-478e-9823-92ebbd463a33--e1b00178-d0ef-4119-aab5-b4ebebf42d6f>'}\n",
      "INFO:root:{'function_name': 'FromKafkaBatched', 'data': \"({'bootstrap.servers': 'localhost:29092', 'group.id': 'group-test-18', 'auto.offset.reset': 'latest', 'enable.auto.commit': False}, 'testing', 1, 33, 34, set())\"}\n",
      "INFO:root:{'function_name': 'scatter', 'data': '<Future: finished, type: builtins.tuple, key: tuple-cf64598de93c49e0b77b1c9282703304>'}\n",
      "INFO:root:{'function_name': 'starmap.get_message_batch', 'data': '<Future: pending, key: apply-63d1c7d9-d70f-4a4a-97ce-d133a132c85d>'}\n",
      "INFO:root:{'function_name': 'map.json_loads', 'data': '<Future: pending, key: json_loads--57265b2e-9edc-43db-bb3e-e86be31931a6--1df5bc54-df0d-4a39-98e9-b3842216f25e>'}\n",
      "INFO:root:{'function_name': 'map.plus', 'data': '<Future: pending, key: plus--57265b2e-9edc-43db-bb3e-e86be31931a6--5d42ca7b-063e-456f-92e0-c04895559e79>'}\n",
      "INFO:root:{'function_name': 'FromKafkaBatched', 'data': \"({'bootstrap.servers': 'localhost:29092', 'group.id': 'group-test-18', 'auto.offset.reset': 'latest', 'enable.auto.commit': False}, 'testing', 2, 33, 34, set())\"}\n",
      "INFO:root:{'function_name': 'scatter', 'data': '<Future: finished, type: builtins.tuple, key: tuple-e9d5736f095346cb88607a567b5d2c04>'}\n",
      "INFO:root:{'function_name': 'starmap.get_message_batch', 'data': '<Future: pending, key: apply-e155bf06-4a05-43d0-acc3-a5da301281f3>'}\n",
      "INFO:root:{'function_name': 'map.json_loads', 'data': '<Future: pending, key: json_loads--a6d37301-74ed-42a4-86ca-3fb130c0467d--5ac305a2-6a48-4be6-a4d1-c85ae9f4a39c>'}\n",
      "INFO:root:{'function_name': 'map.plus', 'data': '<Future: pending, key: plus--a6d37301-74ed-42a4-86ca-3fb130c0467d--2f1667d8-0fa5-4259-9126-d11e89e81b26>'}\n",
      "INFO:root:{'function_name': 'FromKafkaBatched', 'data': \"({'bootstrap.servers': 'localhost:29092', 'group.id': 'group-test-18', 'auto.offset.reset': 'latest', 'enable.auto.commit': False}, 'testing', 3, 33, 34, set())\"}\n",
      "INFO:root:{'function_name': 'scatter', 'data': '<Future: finished, type: builtins.tuple, key: tuple-22a38bb04c504620a4eace929459cdec>'}\n",
      "INFO:root:{'function_name': 'starmap.get_message_batch', 'data': '<Future: pending, key: apply-17172825-9688-41e2-9768-1088b576fc7d>'}\n",
      "INFO:root:{'function_name': 'map.json_loads', 'data': '<Future: pending, key: json_loads--7365e8d0-047e-41ca-beec-ad7b26964a34--ff90453a-2ea4-4193-a74f-f5d008df906e>'}\n",
      "INFO:root:{'function_name': 'map.plus', 'data': '<Future: pending, key: plus--7365e8d0-047e-41ca-beec-ad7b26964a34--2aa10e9f-e786-4591-a56d-e25af361845b>'}\n",
      "INFO:root:{'function_name': 'FromKafkaBatched', 'data': \"({'bootstrap.servers': 'localhost:29092', 'group.id': 'group-test-18', 'auto.offset.reset': 'latest', 'enable.auto.commit': False}, 'testing', 4, 33, 34, set())\"}\n",
      "INFO:root:{'function_name': 'scatter', 'data': '<Future: finished, type: builtins.tuple, key: tuple-36c6b3935fa34bbda08271a2c7b10710>'}\n",
      "INFO:root:{'function_name': 'starmap.get_message_batch', 'data': '<Future: pending, key: apply-8be7db50-b175-4e5b-921b-c5a7f4c39b4a>'}\n",
      "INFO:root:{'function_name': 'map.json_loads', 'data': '<Future: pending, key: json_loads--84ecac11-179f-42ca-a377-667bf29d18ad--d37ef3ff-e1e8-4bc8-bae1-82a02c503030>'}\n",
      "INFO:root:{'function_name': 'map.plus', 'data': '<Future: pending, key: plus--84ecac11-179f-42ca-a377-667bf29d18ad--1465fd9d-08d0-47f3-98f0-44f12c20d6fd>'}\n",
      "INFO:root:{'function_name': 'FromKafkaBatched', 'data': \"({'bootstrap.servers': 'localhost:29092', 'group.id': 'group-test-18', 'auto.offset.reset': 'latest', 'enable.auto.commit': False}, 'testing', 5, 27, 27, set())\"}\n",
      "INFO:root:{'function_name': 'scatter', 'data': '<Future: finished, type: builtins.tuple, key: tuple-a3013c66b6884a0fa417272ca873a06d>'}\n",
      "INFO:root:{'function_name': 'starmap.get_message_batch', 'data': '<Future: pending, key: apply-463a558f-a1fb-45af-8563-955f9602c141>'}\n",
      "INFO:root:{'function_name': 'map.json_loads', 'data': '<Future: pending, key: json_loads--a3d7e2ae-a7c3-473b-a880-fa2d792b26fa--caf43837-d804-4d40-a73d-672a460b4a07>'}\n",
      "INFO:root:{'function_name': 'map.plus', 'data': '<Future: pending, key: plus--a3d7e2ae-a7c3-473b-a880-fa2d792b26fa--e0a1e28f-ae7c-4929-b51f-93ccec398739>'}\n",
      "INFO:root:{'function_name': 'FromKafkaBatched', 'data': \"({'bootstrap.servers': 'localhost:29092', 'group.id': 'group-test-18', 'auto.offset.reset': 'latest', 'enable.auto.commit': False}, 'testing', 6, 27, 27, set())\"}\n",
      "INFO:root:{'function_name': 'scatter', 'data': '<Future: finished, type: builtins.tuple, key: tuple-ce50cb5146fa43328deb532e082d02d6>'}\n",
      "INFO:root:{'function_name': 'starmap.get_message_batch', 'data': '<Future: pending, key: apply-cac4052a-e6cb-42c9-81ce-63cdb59e4bec>'}\n",
      "INFO:root:{'function_name': 'map.json_loads', 'data': '<Future: pending, key: json_loads--9338c0fa-9772-4039-88d1-4e3e6f39545a--bd73f553-0dfd-4237-8fcc-16a2759c4a3f>'}\n",
      "INFO:root:{'function_name': 'map.plus', 'data': '<Future: pending, key: plus--9338c0fa-9772-4039-88d1-4e3e6f39545a--b23de404-d934-4c60-9c78-b3834f3a893e>'}\n",
      "INFO:root:{'function_name': 'gather', 'data': \"[({'partition': 0, 'offset': 33, 'topic': 'testing'}, 21), ({'partition': 0, 'offset': 34, 'topic': 'testing'}, 31)]\"}\n",
      "INFO:root:{'function_name': 'flatten', 'data': \"({'partition': 0, 'offset': 33, 'topic': 'testing'}, 21)\"}\n",
      "INFO:root:{'function_name': 'flatten', 'data': \"({'partition': 0, 'offset': 34, 'topic': 'testing'}, 31)\"}\n",
      "INFO:root:{'function_name': 'buffer', 'data': '<Future: pending, key: plus--57265b2e-9edc-43db-bb3e-e86be31931a6--5d42ca7b-063e-456f-92e0-c04895559e79>'}\n",
      "INFO:root:{'function_name': 'FromKafkaBatched', 'data': \"({'bootstrap.servers': 'localhost:29092', 'group.id': 'group-test-18', 'auto.offset.reset': 'latest', 'enable.auto.commit': False}, 'testing', 7, 26, 27, set())\"}\n",
      "INFO:root:{'function_name': 'scatter', 'data': '<Future: finished, type: builtins.tuple, key: tuple-100a6b65800b4e6c872a2618f6cb013d>'}\n",
      "INFO:root:{'function_name': 'starmap.get_message_batch', 'data': '<Future: pending, key: apply-a5bd8bbb-0c54-489d-ba95-e9a56116db99>'}\n",
      "INFO:root:{'function_name': 'map.json_loads', 'data': '<Future: pending, key: json_loads--cbb650bb-cf67-433a-bf23-00036f2446c6--bdcdefed-8027-4d8e-b205-00f505563881>'}\n",
      "INFO:root:{'function_name': 'map.plus', 'data': '<Future: pending, key: plus--cbb650bb-cf67-433a-bf23-00036f2446c6--9d711a4f-7398-49da-b4d2-f2c7ae78fa5c>'}\n"
     ]
    },
    {
     "name": "stderr",
     "output_type": "stream",
     "text": [
      "tornado.application - ERROR - Exception in callback functools.partial(<function wrap.<locals>.null_wrapper at 0x12f1b13b0>, <Future finished exception=Exception(\"({'partition': 1, 'offset': 34, 'topic': 'testing'}, {'no': 31, 'datetime': '2022-01-25 13:42:43.230329'}), 31 is bigger than 30\")>)\n",
      "Traceback (most recent call last):\n",
      "  File \"/Library/Frameworks/Python.framework/Versions/3.7/lib/python3.7/site-packages/tornado/ioloop.py\", line 758, in _run_callback\n",
      "    ret = callback()\n",
      "  File \"/Library/Frameworks/Python.framework/Versions/3.7/lib/python3.7/site-packages/tornado/stack_context.py\", line 300, in null_wrapper\n",
      "    return fn(*args, **kwargs)\n",
      "  File \"/Library/Frameworks/Python.framework/Versions/3.7/lib/python3.7/site-packages/tornado/ioloop.py\", line 779, in _discard_future_result\n",
      "    future.result()\n",
      "  File \"/Library/Frameworks/Python.framework/Versions/3.7/lib/python3.7/site-packages/tornado/gen.py\", line 1141, in run\n",
      "    yielded = self.gen.throw(*exc_info)\n",
      "  File \"/Users/huseinzolkepli/Documents/water-healer/waterhealer/core.py\", line 1336, in cb\n",
      "    yield self._emit(x, emit_id=self.last_emit_id)\n",
      "  File \"/Library/Frameworks/Python.framework/Versions/3.7/lib/python3.7/site-packages/tornado/gen.py\", line 1133, in run\n",
      "    value = future.result()\n",
      "  File \"/Library/Frameworks/Python.framework/Versions/3.7/lib/python3.7/site-packages/tornado/gen.py\", line 883, in callback\n",
      "    result_list.append(f.result())\n",
      "  File \"/Library/Frameworks/Python.framework/Versions/3.7/lib/python3.7/site-packages/tornado/gen.py\", line 1141, in run\n",
      "    yielded = self.gen.throw(*exc_info)\n",
      "  File \"/Users/huseinzolkepli/Documents/water-healer/waterhealer/dask.py\", line 155, in update\n",
      "    result = yield client.gather(x, asynchronous=True)\n",
      "  File \"/Library/Frameworks/Python.framework/Versions/3.7/lib/python3.7/site-packages/tornado/gen.py\", line 1133, in run\n",
      "    value = future.result()\n",
      "  File \"/Library/Frameworks/Python.framework/Versions/3.7/lib/python3.7/site-packages/distributed/client.py\", line 1890, in _gather\n",
      "    raise exception.with_traceback(traceback)\n",
      "  File \"<ipython-input-9-945755a73b6b>\", line 12, in plus\n",
      "    raise Exception(f'{row}, {no} is bigger than {m}')\n",
      "Exception: ({'partition': 1, 'offset': 34, 'topic': 'testing'}, {'no': 31, 'datetime': '2022-01-25 13:42:43.230329'}), 31 is bigger than 30\n",
      "INFO:root:healing successful: True, 2022-01-25 13:42:50.096893\n",
      "INFO:root:{'function_name': 'healing', 'data': \"[{'topic': 'testing', 'partition': 0, 'offset': 33}, {'topic': 'testing', 'partition': 0, 'offset': 34}]\"}\n",
      "INFO:root:healing successful: False, 2022-01-25 13:42:55.166648\n",
      "INFO:root:healing successful: False, 2022-01-25 13:43:00.219405\n",
      "INFO:root:healing successful: False, 2022-01-25 13:43:05.281226\n",
      "INFO:root:healing successful: False, 2022-01-25 13:43:10.339454\n",
      "INFO:root:healing successful: False, 2022-01-25 13:43:15.400468\n"
     ]
    }
   ],
   "source": [
    "import time\n",
    "\n",
    "for count in range(35):\n",
    "    data = {'no': count, 'datetime': str(datetime.now())}\n",
    "    print(data)\n",
    "    publish_message(\n",
    "        producer, 'testing', 'streaming', json.dumps(data)\n",
    "    )\n",
    "    time.sleep(0.1)"
   ]
  },
  {
   "cell_type": "code",
   "execution_count": 20,
   "metadata": {},
   "outputs": [],
   "source": [
    "from waterhealer.healing import get_db"
   ]
  },
  {
   "cell_type": "code",
   "execution_count": 21,
   "metadata": {},
   "outputs": [
    {
     "data": {
      "text/plain": [
       "<cimpl.Consumer at 0x12313e230>"
      ]
     },
     "execution_count": 21,
     "metadata": {},
     "output_type": "execute_result"
    }
   ],
   "source": [
    "_, consumer, db = get_db(source)\n",
    "consumer"
   ]
  },
  {
   "cell_type": "code",
   "execution_count": 23,
   "metadata": {},
   "outputs": [
    {
     "data": {
      "text/plain": [
       "{}"
      ]
     },
     "execution_count": 23,
     "metadata": {},
     "output_type": "execute_result"
    }
   ],
   "source": [
    "offsets = consumer.committed(consumer.assignment())\n",
    "lags = {}\n",
    "for offset in offsets:\n",
    "    _, high_offset = consumer.get_watermark_offsets(offset)\n",
    "    lags[offset.partition] = high_offset - offset.offset\n",
    "lags"
   ]
  },
  {
   "cell_type": "code",
   "execution_count": 24,
   "metadata": {},
   "outputs": [
    {
     "data": {
      "text/plain": [
       "{'': <redis_collections.Dict at group-test-18- {}>,\n",
       " 'testing<!>0': <redis_collections.Dict at group-test-18-testing<!>0 {}>,\n",
       " 'testing<!>1': <redis_collections.Dict at group-test-18-testing<!>1 {33: 0, 34: 0}>,\n",
       " 'testing<!>2': <redis_collections.Dict at group-test-18-testing<!>2 {33: 0, 34: 0}>,\n",
       " 'testing<!>3': <redis_collections.Dict at group-test-18-testing<!>3 {33: 0, 34: 0}>,\n",
       " 'testing<!>4': <redis_collections.Dict at group-test-18-testing<!>4 {33: 0, 34: 0}>,\n",
       " 'testing<!>5': <redis_collections.Dict at group-test-18-testing<!>5 {27: 0}>,\n",
       " 'testing<!>6': <redis_collections.Dict at group-test-18-testing<!>6 {27: 0}>,\n",
       " 'testing<!>7': <redis_collections.Dict at group-test-18-testing<!>7 {26: 0, 27: 0}>,\n",
       " 'testing<!>8': <redis_collections.Dict at group-test-18-testing<!>8 {}>,\n",
       " 'testing<!>9': <redis_collections.Dict at group-test-18-testing<!>9 {}>}"
      ]
     },
     "execution_count": 24,
     "metadata": {},
     "output_type": "execute_result"
    },
    {
     "name": "stderr",
     "output_type": "stream",
     "text": [
      "INFO:root:healing successful: False, 2022-01-25 13:43:30.582653\n",
      "INFO:root:healing successful: False, 2022-01-25 13:43:35.666302\n",
      "INFO:root:healing successful: False, 2022-01-25 13:43:40.727284\n",
      "INFO:root:healing successful: False, 2022-01-25 13:43:45.786554\n",
      "INFO:root:healing successful: False, 2022-01-25 13:43:50.842166\n",
      "INFO:root:healing successful: False, 2022-01-25 13:43:55.904420\n",
      "INFO:root:healing successful: False, 2022-01-25 13:44:00.970579\n",
      "INFO:root:healing successful: False, 2022-01-25 13:44:06.031166\n",
      "INFO:root:healing successful: False, 2022-01-25 13:44:11.095078\n"
     ]
    }
   ],
   "source": [
    "db.partitions"
   ]
  }
 ],
 "metadata": {
  "kernelspec": {
   "display_name": "Python 3",
   "language": "python",
   "name": "python3"
  },
  "language_info": {
   "codemirror_mode": {
    "name": "ipython",
    "version": 3
   },
   "file_extension": ".py",
   "mimetype": "text/x-python",
   "name": "python",
   "nbconvert_exporter": "python",
   "pygments_lexer": "ipython3",
   "version": "3.7.7"
  }
 },
 "nbformat": 4,
 "nbformat_minor": 2
}
