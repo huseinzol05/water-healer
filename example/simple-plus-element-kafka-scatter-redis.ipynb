{
 "cells": [
  {
   "cell_type": "code",
   "execution_count": 1,
   "metadata": {},
   "outputs": [],
   "source": [
    "# !pip3 install kafka-python==1.4.7 streamz==0.5.2 --user"
   ]
  },
  {
   "cell_type": "code",
   "execution_count": 2,
   "metadata": {},
   "outputs": [],
   "source": [
    "import os\n",
    "import sys\n",
    "\n",
    "SOURCE_DIR = os.path.dirname(os.path.dirname(os.path.abspath(__name__)))\n",
    "sys.path.insert(0, SOURCE_DIR)"
   ]
  },
  {
   "cell_type": "code",
   "execution_count": 3,
   "metadata": {},
   "outputs": [
    {
     "data": {
      "text/plain": [
       "'0.1.6'"
      ]
     },
     "execution_count": 3,
     "metadata": {},
     "output_type": "execute_result"
    }
   ],
   "source": [
    "import waterhealer as wh\n",
    "import json\n",
    "import logging\n",
    "\n",
    "logging.basicConfig(level=logging.INFO)\n",
    "wh.__version__"
   ]
  },
  {
   "cell_type": "code",
   "execution_count": 4,
   "metadata": {},
   "outputs": [],
   "source": [
    "from dask.distributed import Client, LocalCluster\n",
    "cluster = LocalCluster()\n",
    "client = Client(cluster)"
   ]
  },
  {
   "cell_type": "code",
   "execution_count": 5,
   "metadata": {},
   "outputs": [
    {
     "data": {
      "text/html": [
       "\n",
       "            <div>\n",
       "                <div style=\"\n",
       "                    width: 24px;\n",
       "                    height: 24px;\n",
       "                    background-color: #e1e1e1;\n",
       "                    border: 3px solid #9D9D9D;\n",
       "                    border-radius: 5px;\n",
       "                    position: absolute;\"> </div>\n",
       "                <div style=\"margin-left: 48px;\">\n",
       "                    <h3 style=\"margin-bottom: 0px;\">Client</h3>\n",
       "                    <p style=\"color: #9D9D9D; margin-bottom: 0px;\">Client-3b5db42c-54da-11ec-8382-a683e74d6d81</p>\n",
       "                    <table style=\"width: 100%; text-align: left;\">\n",
       "                    \n",
       "                <tr>\n",
       "                    <td style=\"text-align: left;\"><strong>Connection method:</strong> Cluster object</td>\n",
       "                    <td style=\"text-align: left;\"><strong>Cluster type:</strong> LocalCluster</td>\n",
       "                </tr>\n",
       "                \n",
       "                <tr>\n",
       "                    <td style=\"text-align: left;\">\n",
       "                        <strong>Dashboard: </strong>\n",
       "                        <a href=\"http://127.0.0.1:8787/status\">http://127.0.0.1:8787/status</a>\n",
       "                    </td>\n",
       "                    <td style=\"text-align: left;\"></td>\n",
       "                </tr>\n",
       "                \n",
       "                    </table>\n",
       "                    \n",
       "                <details>\n",
       "                <summary style=\"margin-bottom: 20px;\"><h3 style=\"display: inline;\">Cluster Info</h3></summary>\n",
       "                \n",
       "            <div class=\"jp-RenderedHTMLCommon jp-RenderedHTML jp-mod-trusted jp-OutputArea-output\">\n",
       "                <div style=\"\n",
       "                    width: 24px;\n",
       "                    height: 24px;\n",
       "                    background-color: #e1e1e1;\n",
       "                    border: 3px solid #9D9D9D;\n",
       "                    border-radius: 5px;\n",
       "                    position: absolute;\"> </div>\n",
       "                <div style=\"margin-left: 48px;\">\n",
       "                    <h3 style=\"margin-bottom: 0px; margin-top: 0px;\">LocalCluster</h3>\n",
       "                    <p style=\"color: #9D9D9D; margin-bottom: 0px;\">d18e2e04</p>\n",
       "                    <table style=\"width: 100%; text-align: left;\">\n",
       "                    \n",
       "            <tr>\n",
       "                <td style=\"text-align: left;\"><strong>Status:</strong> running</td>\n",
       "                <td style=\"text-align: left;\"><strong>Using processes:</strong> True</td>\n",
       "            </tr>\n",
       "        \n",
       "            <tr>\n",
       "                <td style=\"text-align: left;\">\n",
       "                    <strong>Dashboard:</strong> <a href=\"http://127.0.0.1:8787/status\">http://127.0.0.1:8787/status</a>\n",
       "                </td>\n",
       "                <td style=\"text-align: left;\"><strong>Workers:</strong> 4</td>\n",
       "            </tr>\n",
       "            <tr>\n",
       "                <td style=\"text-align: left;\">\n",
       "                    <strong>Total threads:</strong>\n",
       "                    8\n",
       "                </td>\n",
       "                <td style=\"text-align: left;\">\n",
       "                    <strong>Total memory:</strong>\n",
       "                    16.00 GiB\n",
       "                </td>\n",
       "            </tr>\n",
       "        \n",
       "                    </table>\n",
       "                    <details>\n",
       "                    <summary style=\"margin-bottom: 20px;\"><h3 style=\"display: inline;\">Scheduler Info</h3></summary>\n",
       "                    \n",
       "        <div style=\"\">\n",
       "            \n",
       "            <div>\n",
       "                <div style=\"\n",
       "                    width: 24px;\n",
       "                    height: 24px;\n",
       "                    background-color: #FFF7E5;\n",
       "                    border: 3px solid #FF6132;\n",
       "                    border-radius: 5px;\n",
       "                    position: absolute;\"> </div>\n",
       "                <div style=\"margin-left: 48px;\">\n",
       "                    <h3 style=\"margin-bottom: 0px;\">Scheduler</h3>\n",
       "                    <p style=\"color: #9D9D9D; margin-bottom: 0px;\">Scheduler-3c5aa69e-9696-445c-b88d-f696103accc2</p>\n",
       "                    <table style=\"width: 100%; text-align: left;\">\n",
       "                        <tr>\n",
       "                            <td style=\"text-align: left;\"><strong>Comm:</strong> tcp://127.0.0.1:50907</td>\n",
       "                            <td style=\"text-align: left;\"><strong>Workers:</strong> 4</td>\n",
       "                        </tr>\n",
       "                        <tr>\n",
       "                            <td style=\"text-align: left;\">\n",
       "                                <strong>Dashboard:</strong> <a href=\"http://127.0.0.1:8787/status\">http://127.0.0.1:8787/status</a>\n",
       "                            </td>\n",
       "                            <td style=\"text-align: left;\">\n",
       "                                <strong>Total threads:</strong>\n",
       "                                8\n",
       "                            </td>\n",
       "                        </tr>\n",
       "                        <tr>\n",
       "                            <td style=\"text-align: left;\">\n",
       "                                <strong>Started:</strong>\n",
       "                                Just now\n",
       "                            </td>\n",
       "                            <td style=\"text-align: left;\">\n",
       "                                <strong>Total memory:</strong>\n",
       "                                16.00 GiB\n",
       "                            </td>\n",
       "                        </tr>\n",
       "                    </table>\n",
       "                </div>\n",
       "            </div>\n",
       "        \n",
       "            <details style=\"margin-left: 48px;\">\n",
       "            <summary style=\"margin-bottom: 20px;\"><h3 style=\"display: inline;\">Workers</h3></summary>\n",
       "            \n",
       "            <div style=\"margin-bottom: 20px;\">\n",
       "                <div style=\"width: 24px;\n",
       "                            height: 24px;\n",
       "                            background-color: #DBF5FF;\n",
       "                            border: 3px solid #4CC9FF;\n",
       "                            border-radius: 5px;\n",
       "                            position: absolute;\"> </div>\n",
       "                <div style=\"margin-left: 48px;\">\n",
       "                <details>\n",
       "                    <summary>\n",
       "                        <h4 style=\"margin-bottom: 0px; display: inline;\">Worker: 0</h4>\n",
       "                    </summary>\n",
       "                    <table style=\"width: 100%; text-align: left;\">\n",
       "                        <tr>\n",
       "                            <td style=\"text-align: left;\"><strong>Comm: </strong> tcp://127.0.0.1:50925</td>\n",
       "                            <td style=\"text-align: left;\"><strong>Total threads: </strong> 2</td>\n",
       "                        </tr>\n",
       "                        <tr>\n",
       "                            <td style=\"text-align: left;\">\n",
       "                                <strong>Dashboard: </strong>\n",
       "                                <a href=\"http://127.0.0.1:50927/status\">http://127.0.0.1:50927/status</a>\n",
       "                            </td>\n",
       "                            <td style=\"text-align: left;\">\n",
       "                                <strong>Memory: </strong>\n",
       "                                4.00 GiB\n",
       "                            </td>\n",
       "                        </tr>\n",
       "                        <tr>\n",
       "                            <td style=\"text-align: left;\"><strong>Nanny: </strong> tcp://127.0.0.1:50911</td>\n",
       "                            <td style=\"text-align: left;\"></td>\n",
       "                        </tr>\n",
       "                        <tr>\n",
       "                            <td colspan=\"2\" style=\"text-align: left;\">\n",
       "                                <strong>Local directory: </strong>\n",
       "                                /Users/huseinzolkepli/Documents/water-healer/example/dask-worker-space/worker-g7o9wvjr\n",
       "                            </td>\n",
       "                        </tr>\n",
       "                        \n",
       "                        \n",
       "                    </table>\n",
       "                </details>\n",
       "                </div>\n",
       "            </div>\n",
       "            \n",
       "            <div style=\"margin-bottom: 20px;\">\n",
       "                <div style=\"width: 24px;\n",
       "                            height: 24px;\n",
       "                            background-color: #DBF5FF;\n",
       "                            border: 3px solid #4CC9FF;\n",
       "                            border-radius: 5px;\n",
       "                            position: absolute;\"> </div>\n",
       "                <div style=\"margin-left: 48px;\">\n",
       "                <details>\n",
       "                    <summary>\n",
       "                        <h4 style=\"margin-bottom: 0px; display: inline;\">Worker: 1</h4>\n",
       "                    </summary>\n",
       "                    <table style=\"width: 100%; text-align: left;\">\n",
       "                        <tr>\n",
       "                            <td style=\"text-align: left;\"><strong>Comm: </strong> tcp://127.0.0.1:50918</td>\n",
       "                            <td style=\"text-align: left;\"><strong>Total threads: </strong> 2</td>\n",
       "                        </tr>\n",
       "                        <tr>\n",
       "                            <td style=\"text-align: left;\">\n",
       "                                <strong>Dashboard: </strong>\n",
       "                                <a href=\"http://127.0.0.1:50921/status\">http://127.0.0.1:50921/status</a>\n",
       "                            </td>\n",
       "                            <td style=\"text-align: left;\">\n",
       "                                <strong>Memory: </strong>\n",
       "                                4.00 GiB\n",
       "                            </td>\n",
       "                        </tr>\n",
       "                        <tr>\n",
       "                            <td style=\"text-align: left;\"><strong>Nanny: </strong> tcp://127.0.0.1:50912</td>\n",
       "                            <td style=\"text-align: left;\"></td>\n",
       "                        </tr>\n",
       "                        <tr>\n",
       "                            <td colspan=\"2\" style=\"text-align: left;\">\n",
       "                                <strong>Local directory: </strong>\n",
       "                                /Users/huseinzolkepli/Documents/water-healer/example/dask-worker-space/worker-u5y9odbu\n",
       "                            </td>\n",
       "                        </tr>\n",
       "                        \n",
       "                        \n",
       "                    </table>\n",
       "                </details>\n",
       "                </div>\n",
       "            </div>\n",
       "            \n",
       "            <div style=\"margin-bottom: 20px;\">\n",
       "                <div style=\"width: 24px;\n",
       "                            height: 24px;\n",
       "                            background-color: #DBF5FF;\n",
       "                            border: 3px solid #4CC9FF;\n",
       "                            border-radius: 5px;\n",
       "                            position: absolute;\"> </div>\n",
       "                <div style=\"margin-left: 48px;\">\n",
       "                <details>\n",
       "                    <summary>\n",
       "                        <h4 style=\"margin-bottom: 0px; display: inline;\">Worker: 2</h4>\n",
       "                    </summary>\n",
       "                    <table style=\"width: 100%; text-align: left;\">\n",
       "                        <tr>\n",
       "                            <td style=\"text-align: left;\"><strong>Comm: </strong> tcp://127.0.0.1:50917</td>\n",
       "                            <td style=\"text-align: left;\"><strong>Total threads: </strong> 2</td>\n",
       "                        </tr>\n",
       "                        <tr>\n",
       "                            <td style=\"text-align: left;\">\n",
       "                                <strong>Dashboard: </strong>\n",
       "                                <a href=\"http://127.0.0.1:50920/status\">http://127.0.0.1:50920/status</a>\n",
       "                            </td>\n",
       "                            <td style=\"text-align: left;\">\n",
       "                                <strong>Memory: </strong>\n",
       "                                4.00 GiB\n",
       "                            </td>\n",
       "                        </tr>\n",
       "                        <tr>\n",
       "                            <td style=\"text-align: left;\"><strong>Nanny: </strong> tcp://127.0.0.1:50909</td>\n",
       "                            <td style=\"text-align: left;\"></td>\n",
       "                        </tr>\n",
       "                        <tr>\n",
       "                            <td colspan=\"2\" style=\"text-align: left;\">\n",
       "                                <strong>Local directory: </strong>\n",
       "                                /Users/huseinzolkepli/Documents/water-healer/example/dask-worker-space/worker-h_j8gndf\n",
       "                            </td>\n",
       "                        </tr>\n",
       "                        \n",
       "                        \n",
       "                    </table>\n",
       "                </details>\n",
       "                </div>\n",
       "            </div>\n",
       "            \n",
       "            <div style=\"margin-bottom: 20px;\">\n",
       "                <div style=\"width: 24px;\n",
       "                            height: 24px;\n",
       "                            background-color: #DBF5FF;\n",
       "                            border: 3px solid #4CC9FF;\n",
       "                            border-radius: 5px;\n",
       "                            position: absolute;\"> </div>\n",
       "                <div style=\"margin-left: 48px;\">\n",
       "                <details>\n",
       "                    <summary>\n",
       "                        <h4 style=\"margin-bottom: 0px; display: inline;\">Worker: 3</h4>\n",
       "                    </summary>\n",
       "                    <table style=\"width: 100%; text-align: left;\">\n",
       "                        <tr>\n",
       "                            <td style=\"text-align: left;\"><strong>Comm: </strong> tcp://127.0.0.1:50919</td>\n",
       "                            <td style=\"text-align: left;\"><strong>Total threads: </strong> 2</td>\n",
       "                        </tr>\n",
       "                        <tr>\n",
       "                            <td style=\"text-align: left;\">\n",
       "                                <strong>Dashboard: </strong>\n",
       "                                <a href=\"http://127.0.0.1:50924/status\">http://127.0.0.1:50924/status</a>\n",
       "                            </td>\n",
       "                            <td style=\"text-align: left;\">\n",
       "                                <strong>Memory: </strong>\n",
       "                                4.00 GiB\n",
       "                            </td>\n",
       "                        </tr>\n",
       "                        <tr>\n",
       "                            <td style=\"text-align: left;\"><strong>Nanny: </strong> tcp://127.0.0.1:50910</td>\n",
       "                            <td style=\"text-align: left;\"></td>\n",
       "                        </tr>\n",
       "                        <tr>\n",
       "                            <td colspan=\"2\" style=\"text-align: left;\">\n",
       "                                <strong>Local directory: </strong>\n",
       "                                /Users/huseinzolkepli/Documents/water-healer/example/dask-worker-space/worker-6i7czhqb\n",
       "                            </td>\n",
       "                        </tr>\n",
       "                        \n",
       "                        \n",
       "                    </table>\n",
       "                </details>\n",
       "                </div>\n",
       "            </div>\n",
       "            \n",
       "            </details>\n",
       "        </div>\n",
       "        \n",
       "                    </details>\n",
       "                </div>\n",
       "            </div>\n",
       "        \n",
       "                </details>\n",
       "                \n",
       "                </div>\n",
       "            </div>\n",
       "        "
      ],
      "text/plain": [
       "<Client: 'tcp://127.0.0.1:50907' processes=4 threads=8, memory=16.00 GiB>"
      ]
     },
     "execution_count": 5,
     "metadata": {},
     "output_type": "execute_result"
    }
   ],
   "source": [
    "client"
   ]
  },
  {
   "cell_type": "code",
   "execution_count": 6,
   "metadata": {},
   "outputs": [],
   "source": [
    "brokers = 'localhost:29092'"
   ]
  },
  {
   "cell_type": "code",
   "execution_count": 7,
   "metadata": {},
   "outputs": [],
   "source": [
    "from redis import StrictRedis\n",
    "\n",
    "redis = StrictRedis()"
   ]
  },
  {
   "cell_type": "code",
   "execution_count": 8,
   "metadata": {},
   "outputs": [
    {
     "name": "stderr",
     "output_type": "stream",
     "text": [
      "INFO:root:Use Redis memory with consumer=group-test-16, key=water-healer-from_kafka_batched_scatter\n"
     ]
    }
   ],
   "source": [
    "source = wh.from_kafka_batched_scatter(\n",
    "    ['testing'],\n",
    "    {\n",
    "        'bootstrap.servers': brokers,\n",
    "        'group.id': 'group-test-16',\n",
    "        'auto.offset.reset': 'latest',\n",
    "    },\n",
    "    dask = True,\n",
    "    redis = redis,\n",
    ")"
   ]
  },
  {
   "cell_type": "code",
   "execution_count": 9,
   "metadata": {},
   "outputs": [],
   "source": [
    "def json_loads(rows):\n",
    "    results = []\n",
    "    for row in rows:\n",
    "        results.append((row[0], json.loads(row[1])))\n",
    "    return results\n",
    "\n",
    "def plus(rows, m = 30):\n",
    "    results = []\n",
    "    for row in rows:\n",
    "        no = row[1]['no']\n",
    "        if no > m:\n",
    "            raise Exception(f'{row}, {no} is bigger than {m}')\n",
    "        results.append((row[0], no + 1))\n",
    "    return results"
   ]
  },
  {
   "cell_type": "code",
   "execution_count": 10,
   "metadata": {},
   "outputs": [
    {
     "data": {
      "image/png": "[encoded data removed]",
      "text/plain": [
       "<IPython.core.display.Image object>"
      ]
     },
     "execution_count": 10,
     "metadata": {},
     "output_type": "execute_result"
    }
   ],
   "source": [
    "source.visualize()"
   ]
  },
  {
   "cell_type": "code",
   "execution_count": 11,
   "metadata": {
    "scrolled": true
   },
   "outputs": [
    {
     "data": {
      "application/vnd.jupyter.widget-view+json": {
       "model_id": "c0ac1b4367f64fda9e3abb68bdb83ecc",
       "version_major": 2,
       "version_minor": 0
      },
      "text/plain": [
       "Output()"
      ]
     },
     "metadata": {},
     "output_type": "display_data"
    }
   ],
   "source": [
    "outputs = []\n",
    "h = source.map(json_loads).map(plus).buffer(5).gather().flatten().healing(interval = 5)\n",
    "h.sink(outputs.append)"
   ]
  },
  {
   "cell_type": "code",
   "execution_count": 12,
   "metadata": {},
   "outputs": [
    {
     "data": {
      "image/png": "[encoded data removed]",
      "text/plain": [
       "<IPython.core.display.Image object>"
      ]
     },
     "execution_count": 12,
     "metadata": {},
     "output_type": "execute_result"
    }
   ],
   "source": [
    "source.visualize()"
   ]
  },
  {
   "cell_type": "code",
   "execution_count": 13,
   "metadata": {
    "scrolled": true
   },
   "outputs": [],
   "source": [
    "source.start()"
   ]
  },
  {
   "cell_type": "code",
   "execution_count": 14,
   "metadata": {},
   "outputs": [
    {
     "data": {
      "text/plain": [
       "[]"
      ]
     },
     "execution_count": 14,
     "metadata": {},
     "output_type": "execute_result"
    }
   ],
   "source": [
    "outputs"
   ]
  },
  {
   "cell_type": "code",
   "execution_count": 15,
   "metadata": {},
   "outputs": [],
   "source": [
    "from kafka import KafkaProducer\n",
    "from kafka.partitioner import RoundRobinPartitioner"
   ]
  },
  {
   "cell_type": "code",
   "execution_count": 16,
   "metadata": {},
   "outputs": [
    {
     "name": "stderr",
     "output_type": "stream",
     "text": [
      "INFO:kafka.conn:<BrokerConnection node_id=bootstrap-0 host=localhost:29092 <connecting> [IPv6 ('::1', 29092, 0, 0)]>: connecting to localhost:29092 [('::1', 29092, 0, 0) IPv6]\n",
      "INFO:kafka.conn:<BrokerConnection node_id=bootstrap-0 host=localhost:29092 <connecting> [IPv6 ('::1', 29092, 0, 0)]>: Connection complete.\n"
     ]
    }
   ],
   "source": [
    "producer = KafkaProducer(\n",
    "    bootstrap_servers = brokers.split(','),\n",
    "    api_version = (0, 10),\n",
    "    partitioner = RoundRobinPartitioner(),\n",
    ")"
   ]
  },
  {
   "cell_type": "code",
   "execution_count": 17,
   "metadata": {},
   "outputs": [
    {
     "data": {
      "text/plain": [
       "True"
      ]
     },
     "execution_count": 17,
     "metadata": {},
     "output_type": "execute_result"
    }
   ],
   "source": [
    "producer.bootstrap_connected()"
   ]
  },
  {
   "cell_type": "code",
   "execution_count": 18,
   "metadata": {},
   "outputs": [],
   "source": [
    "from datetime import datetime\n",
    "import json\n",
    "\n",
    "def publish_message(producer_instance, topic_name, key, value):\n",
    "    try:\n",
    "        key_bytes = bytes(key, encoding = 'utf-8')\n",
    "        value_bytes = bytes(value, encoding = 'utf-8')\n",
    "        x = producer_instance.send(topic_name, value = value_bytes)\n",
    "        return True\n",
    "    except Exception as ex:\n",
    "        print('Exception in publishing message')\n",
    "        print(str(ex))\n",
    "        return False"
   ]
  },
  {
   "cell_type": "markdown",
   "metadata": {},
   "source": [
    "## purposely raise the error\n",
    "\n",
    "Based on function `plus`, if input bigger than 30, it will throw error."
   ]
  },
  {
   "cell_type": "code",
   "execution_count": 19,
   "metadata": {
    "scrolled": false
   },
   "outputs": [
    {
     "name": "stderr",
     "output_type": "stream",
     "text": [
      "INFO:kafka.conn:<BrokerConnection node_id=1 host=localhost:29092 <connecting> [IPv6 ('::1', 29092, 0, 0)]>: connecting to localhost:29092 [('::1', 29092, 0, 0) IPv6]\n",
      "INFO:kafka.conn:<BrokerConnection node_id=1 host=localhost:29092 <connecting> [IPv6 ('::1', 29092, 0, 0)]>: Connection complete.\n",
      "INFO:kafka.conn:<BrokerConnection node_id=bootstrap-0 host=localhost:29092 <connected> [IPv6 ('::1', 29092, 0, 0)]>: Closing connection. \n"
     ]
    },
    {
     "name": "stdout",
     "output_type": "stream",
     "text": [
      "{'no': 0, 'datetime': '2021-12-04 16:14:45.301423'}\n",
      "{'no': 1, 'datetime': '2021-12-04 16:14:45.406486'}\n",
      "{'no': 2, 'datetime': '2021-12-04 16:14:45.508234'}\n",
      "{'no': 3, 'datetime': '2021-12-04 16:14:45.614839'}\n",
      "{'no': 4, 'datetime': '2021-12-04 16:14:45.719305'}\n",
      "{'no': 5, 'datetime': '2021-12-04 16:14:45.823619'}\n",
      "{'no': 6, 'datetime': '2021-12-04 16:14:45.928222'}\n",
      "{'no': 7, 'datetime': '2021-12-04 16:14:46.033002'}\n",
      "{'no': 8, 'datetime': '2021-12-04 16:14:46.135938'}\n",
      "{'no': 9, 'datetime': '2021-12-04 16:14:46.239380'}\n",
      "{'no': 10, 'datetime': '2021-12-04 16:14:46.341781'}\n",
      "{'no': 11, 'datetime': '2021-12-04 16:14:46.447615'}\n",
      "{'no': 12, 'datetime': '2021-12-04 16:14:46.551487'}\n",
      "{'no': 13, 'datetime': '2021-12-04 16:14:46.656630'}\n",
      "{'no': 14, 'datetime': '2021-12-04 16:14:46.761748'}\n",
      "{'no': 15, 'datetime': '2021-12-04 16:14:46.866857'}\n",
      "{'no': 16, 'datetime': '2021-12-04 16:14:46.971997'}\n",
      "{'no': 17, 'datetime': '2021-12-04 16:14:47.077473'}\n",
      "{'no': 18, 'datetime': '2021-12-04 16:14:47.183051'}\n",
      "{'no': 19, 'datetime': '2021-12-04 16:14:47.288179'}\n"
     ]
    },
    {
     "name": "stderr",
     "output_type": "stream",
     "text": [
      "INFO:root:healing successful: False, 2021-12-04 16:14:47.474084\n"
     ]
    },
    {
     "name": "stdout",
     "output_type": "stream",
     "text": [
      "{'no': 20, 'datetime': '2021-12-04 16:14:47.393282'}\n",
      "{'no': 21, 'datetime': '2021-12-04 16:14:47.494286'}\n",
      "{'no': 22, 'datetime': '2021-12-04 16:14:47.597641'}\n",
      "{'no': 23, 'datetime': '2021-12-04 16:14:47.702870'}\n",
      "{'no': 24, 'datetime': '2021-12-04 16:14:47.807234'}\n",
      "{'no': 25, 'datetime': '2021-12-04 16:14:47.911566'}\n",
      "{'no': 26, 'datetime': '2021-12-04 16:14:48.016768'}\n",
      "{'no': 27, 'datetime': '2021-12-04 16:14:48.122562'}\n",
      "{'no': 28, 'datetime': '2021-12-04 16:14:48.227322'}\n",
      "{'no': 29, 'datetime': '2021-12-04 16:14:48.331609'}\n"
     ]
    },
    {
     "name": "stderr",
     "output_type": "stream",
     "text": [
      "INFO:root:{'function_name': 'FromKafkaBatched', 'data': \"({'bootstrap.servers': 'localhost:29092', 'group.id': 'group-test-16', 'auto.offset.reset': 'latest', 'enable.auto.commit': False}, 'testing', 0, 104, 107, {'db': 0, 'username': None, 'password': None, 'socket_timeout': None, 'encoding': 'utf-8', 'encoding_errors': 'strict', 'decode_responses': False, 'retry_on_timeout': False, 'health_check_interval': 0, 'client_name': None, 'host': 'localhost', 'port': 6379, 'socket_connect_timeout': None, 'socket_keepalive': None, 'socket_keepalive_options': None})\"}\n",
      "INFO:root:{'function_name': 'scatter', 'data': '<Future: finished, type: builtins.tuple, key: tuple-8898587f0b56405eb6bd365ace48f592>'}\n"
     ]
    },
    {
     "name": "stdout",
     "output_type": "stream",
     "text": [
      "{'no': 30, 'datetime': '2021-12-04 16:14:48.434871'}\n",
      "{'no': 31, 'datetime': '2021-12-04 16:14:48.537194'}\n",
      "{'no': 32, 'datetime': '2021-12-04 16:14:48.639349'}\n",
      "{'no': 33, 'datetime': '2021-12-04 16:14:48.743248'}\n"
     ]
    },
    {
     "name": "stderr",
     "output_type": "stream",
     "text": [
      "INFO:root:{'function_name': 'starmap.get_message_batch', 'data': '<Future: pending, key: apply-d5ea4566-5234-45b4-bab3-61c03041c846>'}\n",
      "INFO:root:{'function_name': 'map.json_loads', 'data': '<Future: pending, key: json_loads--61800bb2-b373-482d-bdef-008686716ad0--bb6b07d5-ef27-4a79-a7e2-9a0d79cc3f0f>'}\n",
      "INFO:root:{'function_name': 'map.plus', 'data': '<Future: pending, key: plus--61800bb2-b373-482d-bdef-008686716ad0--51a1f42d-fd43-40c4-8efb-075bd2d8f406>'}\n",
      "INFO:root:{'function_name': 'buffer', 'data': '<Future: pending, key: plus--61800bb2-b373-482d-bdef-008686716ad0--51a1f42d-fd43-40c4-8efb-075bd2d8f406>'}\n",
      "INFO:root:{'function_name': 'FromKafkaBatched', 'data': \"({'bootstrap.servers': 'localhost:29092', 'group.id': 'group-test-16', 'auto.offset.reset': 'latest', 'enable.auto.commit': False}, 'testing', 1, 104, 106, {'db': 0, 'username': None, 'password': None, 'socket_timeout': None, 'encoding': 'utf-8', 'encoding_errors': 'strict', 'decode_responses': False, 'retry_on_timeout': False, 'health_check_interval': 0, 'client_name': None, 'host': 'localhost', 'port': 6379, 'socket_connect_timeout': None, 'socket_keepalive': None, 'socket_keepalive_options': None})\"}\n",
      "INFO:root:{'function_name': 'scatter', 'data': '<Future: finished, type: builtins.tuple, key: tuple-870417cf8d8a4ca6975caa9f130c40d8>'}\n",
      "INFO:root:{'function_name': 'starmap.get_message_batch', 'data': '<Future: pending, key: apply-6c856a5a-da1e-4e4a-bf74-8682f3e03d02>'}\n",
      "INFO:root:{'function_name': 'map.json_loads', 'data': '<Future: pending, key: json_loads--97c45c8b-680b-4f2d-9007-1672a4a146f2--ac0ad599-3387-4234-b531-db92c298151c>'}\n",
      "INFO:root:{'function_name': 'map.plus', 'data': '<Future: pending, key: plus--97c45c8b-680b-4f2d-9007-1672a4a146f2--4441bbe2-a1b6-40c3-8c8f-88c3127f5230>'}\n"
     ]
    },
    {
     "name": "stdout",
     "output_type": "stream",
     "text": [
      "{'no': 34, 'datetime': '2021-12-04 16:14:48.845970'}\n"
     ]
    }
   ],
   "source": [
    "import time\n",
    "\n",
    "for count in range(35):\n",
    "    data = {'no': count, 'datetime': str(datetime.now())}\n",
    "    print(data)\n",
    "    publish_message(\n",
    "        producer, 'testing', 'streaming', json.dumps(data)\n",
    "    )\n",
    "    time.sleep(0.1)"
   ]
  },
  {
   "cell_type": "code",
   "execution_count": 20,
   "metadata": {},
   "outputs": [
    {
     "name": "stderr",
     "output_type": "stream",
     "text": [
      "INFO:root:{'function_name': 'FromKafkaBatched', 'data': \"({'bootstrap.servers': 'localhost:29092', 'group.id': 'group-test-16', 'auto.offset.reset': 'latest', 'enable.auto.commit': False}, 'testing', 2, 104, 106, {'db': 0, 'username': None, 'password': None, 'socket_timeout': None, 'encoding': 'utf-8', 'encoding_errors': 'strict', 'decode_responses': False, 'retry_on_timeout': False, 'health_check_interval': 0, 'client_name': None, 'host': 'localhost', 'port': 6379, 'socket_connect_timeout': None, 'socket_keepalive': None, 'socket_keepalive_options': None})\"}\n",
      "INFO:root:{'function_name': 'scatter', 'data': '<Future: finished, type: builtins.tuple, key: tuple-5220d46d5e0e4ffc98d9f843ea3129fc>'}\n",
      "INFO:root:{'function_name': 'starmap.get_message_batch', 'data': '<Future: pending, key: apply-37f15318-a0ee-4a43-9b05-2c60dc963679>'}\n",
      "INFO:root:{'function_name': 'map.json_loads', 'data': '<Future: pending, key: json_loads--37d91fbd-9007-4439-bb35-8150aa27b290--929652e3-c171-4de7-85a6-38f5d5510090>'}\n",
      "INFO:root:{'function_name': 'map.plus', 'data': '<Future: pending, key: plus--37d91fbd-9007-4439-bb35-8150aa27b290--3794606f-3d44-4d59-be51-6452dfde3647>'}\n",
      "INFO:root:{'function_name': 'FromKafkaBatched', 'data': \"({'bootstrap.servers': 'localhost:29092', 'group.id': 'group-test-16', 'auto.offset.reset': 'latest', 'enable.auto.commit': False}, 'testing', 3, 104, 106, {'db': 0, 'username': None, 'password': None, 'socket_timeout': None, 'encoding': 'utf-8', 'encoding_errors': 'strict', 'decode_responses': False, 'retry_on_timeout': False, 'health_check_interval': 0, 'client_name': None, 'host': 'localhost', 'port': 6379, 'socket_connect_timeout': None, 'socket_keepalive': None, 'socket_keepalive_options': None})\"}\n",
      "INFO:root:{'function_name': 'scatter', 'data': '<Future: finished, type: builtins.tuple, key: tuple-66bf874a625842988eefa735912518cb>'}\n",
      "INFO:root:{'function_name': 'starmap.get_message_batch', 'data': '<Future: pending, key: apply-1e0fa929-3e60-4272-a755-f505d8e0edd4>'}\n",
      "INFO:root:{'function_name': 'map.json_loads', 'data': '<Future: pending, key: json_loads--2129ae35-4774-450d-96db-ec95e4758abe--203ef3d4-3683-450d-8925-c435c082dc51>'}\n",
      "INFO:root:{'function_name': 'map.plus', 'data': '<Future: pending, key: plus--2129ae35-4774-450d-96db-ec95e4758abe--3404f7f2-34a3-4fa4-88cd-078d2e3b8230>'}\n",
      "INFO:root:{'function_name': 'FromKafkaBatched', 'data': \"({'bootstrap.servers': 'localhost:29092', 'group.id': 'group-test-16', 'auto.offset.reset': 'latest', 'enable.auto.commit': False}, 'testing', 4, 104, 106, {'db': 0, 'username': None, 'password': None, 'socket_timeout': None, 'encoding': 'utf-8', 'encoding_errors': 'strict', 'decode_responses': False, 'retry_on_timeout': False, 'health_check_interval': 0, 'client_name': None, 'host': 'localhost', 'port': 6379, 'socket_connect_timeout': None, 'socket_keepalive': None, 'socket_keepalive_options': None})\"}\n",
      "INFO:root:{'function_name': 'scatter', 'data': '<Future: finished, type: builtins.tuple, key: tuple-14f9a896091b46cd871473c70a9dc1fa>'}\n",
      "INFO:root:{'function_name': 'starmap.get_message_batch', 'data': '<Future: pending, key: apply-43a84488-387b-480c-a223-a6bd6da75bcd>'}\n",
      "INFO:root:{'function_name': 'map.json_loads', 'data': '<Future: pending, key: json_loads--0dd18503-d0c7-447b-9115-c28956c9f71d--d4880be7-1fa8-400a-9f01-802e4db9d0bb>'}\n",
      "INFO:root:{'function_name': 'map.plus', 'data': '<Future: pending, key: plus--0dd18503-d0c7-447b-9115-c28956c9f71d--9d6b6850-856b-4d81-9e2f-a8231b25e872>'}\n",
      "INFO:root:{'function_name': 'FromKafkaBatched', 'data': \"({'bootstrap.servers': 'localhost:29092', 'group.id': 'group-test-16', 'auto.offset.reset': 'latest', 'enable.auto.commit': False}, 'testing', 5, 78, 80, {'db': 0, 'username': None, 'password': None, 'socket_timeout': None, 'encoding': 'utf-8', 'encoding_errors': 'strict', 'decode_responses': False, 'retry_on_timeout': False, 'health_check_interval': 0, 'client_name': None, 'host': 'localhost', 'port': 6379, 'socket_connect_timeout': None, 'socket_keepalive': None, 'socket_keepalive_options': None})\"}\n",
      "INFO:root:{'function_name': 'scatter', 'data': '<Future: finished, type: builtins.tuple, key: tuple-7f0e067aa5874db28f93cf0117ba2f6d>'}\n",
      "INFO:root:{'function_name': 'starmap.get_message_batch', 'data': '<Future: pending, key: apply-7b295d80-a178-4863-8eba-66410f7e2fe6>'}\n",
      "INFO:root:{'function_name': 'map.json_loads', 'data': '<Future: pending, key: json_loads--09ffb812-243b-46bb-b9dd-cc127e332f17--712a5e43-bce6-4606-a984-f749783d6e35>'}\n",
      "INFO:root:{'function_name': 'map.plus', 'data': '<Future: pending, key: plus--09ffb812-243b-46bb-b9dd-cc127e332f17--772b7715-9255-4d9f-a9d5-bbb02beb7f89>'}\n",
      "INFO:root:{'function_name': 'FromKafkaBatched', 'data': \"({'bootstrap.servers': 'localhost:29092', 'group.id': 'group-test-16', 'auto.offset.reset': 'latest', 'enable.auto.commit': False}, 'testing', 6, 78, 80, {'db': 0, 'username': None, 'password': None, 'socket_timeout': None, 'encoding': 'utf-8', 'encoding_errors': 'strict', 'decode_responses': False, 'retry_on_timeout': False, 'health_check_interval': 0, 'client_name': None, 'host': 'localhost', 'port': 6379, 'socket_connect_timeout': None, 'socket_keepalive': None, 'socket_keepalive_options': None})\"}\n",
      "INFO:root:{'function_name': 'scatter', 'data': '<Future: finished, type: builtins.tuple, key: tuple-6b99ca8bc9f74dd783766542515bdac1>'}\n",
      "INFO:root:{'function_name': 'starmap.get_message_batch', 'data': '<Future: pending, key: apply-73a00a21-64d8-4251-941e-4609413f8177>'}\n",
      "INFO:root:{'function_name': 'map.json_loads', 'data': '<Future: pending, key: json_loads--2e1a7096-e2e8-4d1c-a520-fdbbc8341049--e1c399ee-b54b-4913-a066-dc46338beb1d>'}\n",
      "INFO:root:{'function_name': 'map.plus', 'data': '<Future: pending, key: plus--2e1a7096-e2e8-4d1c-a520-fdbbc8341049--14e7f04d-3ece-42ec-9026-c82c8fb7b8cb>'}\n",
      "INFO:root:{'function_name': 'gather', 'data': \"[({'partition': 0, 'offset': 104, 'topic': 'testing'}, 1), ({'partition': 0, 'offset': 105, 'topic': 'testing'}, 11), ({'partition': 0, 'offset': 106, 'topic': 'testing'}, 21), ({'partition': 0, 'offset': 107, 'topic': 'testing'}, 31)]\"}\n",
      "INFO:root:{'function_name': 'flatten', 'data': \"({'partition': 0, 'offset': 104, 'topic': 'testing'}, 1)\"}\n",
      "INFO:root:{'function_name': 'flatten', 'data': \"({'partition': 0, 'offset': 105, 'topic': 'testing'}, 11)\"}\n",
      "INFO:root:{'function_name': 'flatten', 'data': \"({'partition': 0, 'offset': 106, 'topic': 'testing'}, 21)\"}\n",
      "INFO:root:{'function_name': 'flatten', 'data': \"({'partition': 0, 'offset': 107, 'topic': 'testing'}, 31)\"}\n",
      "INFO:root:{'function_name': 'buffer', 'data': '<Future: finished, type: builtins.list, key: plus--97c45c8b-680b-4f2d-9007-1672a4a146f2--4441bbe2-a1b6-40c3-8c8f-88c3127f5230>'}\n",
      "INFO:root:{'function_name': 'FromKafkaBatched', 'data': \"({'bootstrap.servers': 'localhost:29092', 'group.id': 'group-test-16', 'auto.offset.reset': 'latest', 'enable.auto.commit': False}, 'testing', 7, 78, 80, {'db': 0, 'username': None, 'password': None, 'socket_timeout': None, 'encoding': 'utf-8', 'encoding_errors': 'strict', 'decode_responses': False, 'retry_on_timeout': False, 'health_check_interval': 0, 'client_name': None, 'host': 'localhost', 'port': 6379, 'socket_connect_timeout': None, 'socket_keepalive': None, 'socket_keepalive_options': None})\"}\n",
      "INFO:root:{'function_name': 'gather', 'data': \"[({'partition': 1, 'offset': 104, 'topic': 'testing'}, 2), ({'partition': 1, 'offset': 105, 'topic': 'testing'}, 12), ({'partition': 1, 'offset': 106, 'topic': 'testing'}, 22)]\"}\n",
      "INFO:root:{'function_name': 'flatten', 'data': \"({'partition': 1, 'offset': 104, 'topic': 'testing'}, 2)\"}\n",
      "INFO:root:{'function_name': 'flatten', 'data': \"({'partition': 1, 'offset': 105, 'topic': 'testing'}, 12)\"}\n",
      "INFO:root:{'function_name': 'flatten', 'data': \"({'partition': 1, 'offset': 106, 'topic': 'testing'}, 22)\"}\n",
      "INFO:root:{'function_name': 'buffer', 'data': '<Future: pending, key: plus--37d91fbd-9007-4439-bb35-8150aa27b290--3794606f-3d44-4d59-be51-6452dfde3647>'}\n",
      "INFO:root:{'function_name': 'scatter', 'data': '<Future: finished, type: builtins.tuple, key: tuple-d79691989cb148fb96b647a85c4ed61a>'}\n",
      "INFO:root:{'function_name': 'starmap.get_message_batch', 'data': '<Future: pending, key: apply-fe5d2a33-c6b0-4de4-91d6-f4a579c7ae9c>'}\n"
     ]
    },
    {
     "name": "stderr",
     "output_type": "stream",
     "text": [
      "INFO:root:{'function_name': 'map.json_loads', 'data': '<Future: pending, key: json_loads--7d1d0b81-b880-4da6-ac40-6a6c99d61a8a--62b4a4df-de86-4cb6-a9b4-3bd812de3e3b>'}\n",
      "INFO:root:{'function_name': 'map.plus', 'data': '<Future: pending, key: plus--7d1d0b81-b880-4da6-ac40-6a6c99d61a8a--338bbc4f-d9c4-43dc-b678-77caa1908437>'}\n",
      "INFO:root:{'function_name': 'FromKafkaBatched', 'data': \"({'bootstrap.servers': 'localhost:29092', 'group.id': 'group-test-16', 'auto.offset.reset': 'latest', 'enable.auto.commit': False}, 'testing', 8, 78, 80, {'db': 0, 'username': None, 'password': None, 'socket_timeout': None, 'encoding': 'utf-8', 'encoding_errors': 'strict', 'decode_responses': False, 'retry_on_timeout': False, 'health_check_interval': 0, 'client_name': None, 'host': 'localhost', 'port': 6379, 'socket_connect_timeout': None, 'socket_keepalive': None, 'socket_keepalive_options': None})\"}\n",
      "INFO:root:{'function_name': 'gather', 'data': \"[({'partition': 2, 'offset': 104, 'topic': 'testing'}, 3), ({'partition': 2, 'offset': 105, 'topic': 'testing'}, 13), ({'partition': 2, 'offset': 106, 'topic': 'testing'}, 23)]\"}\n",
      "INFO:root:{'function_name': 'flatten', 'data': \"({'partition': 2, 'offset': 104, 'topic': 'testing'}, 3)\"}\n",
      "INFO:root:{'function_name': 'flatten', 'data': \"({'partition': 2, 'offset': 105, 'topic': 'testing'}, 13)\"}\n",
      "INFO:root:{'function_name': 'flatten', 'data': \"({'partition': 2, 'offset': 106, 'topic': 'testing'}, 23)\"}\n",
      "INFO:root:{'function_name': 'scatter', 'data': '<Future: finished, type: builtins.tuple, key: tuple-7ca239439d404b189cefa8a874d4fdd6>'}\n",
      "INFO:root:{'function_name': 'starmap.get_message_batch', 'data': '<Future: pending, key: apply-6beec019-cbe2-4bb2-bab1-1e0029a307c8>'}\n",
      "INFO:root:{'function_name': 'map.json_loads', 'data': '<Future: pending, key: json_loads--71dfcda4-b47f-4a3e-9ffa-6a776b1fb4b5--ad980d2a-6e4e-4916-aff4-364a382d0255>'}\n",
      "INFO:root:{'function_name': 'map.plus', 'data': '<Future: pending, key: plus--71dfcda4-b47f-4a3e-9ffa-6a776b1fb4b5--98ad8f2c-e686-42f8-b062-6b3beca8abd2>'}\n",
      "INFO:root:{'function_name': 'buffer', 'data': '<Future: finished, type: builtins.list, key: plus--2129ae35-4774-450d-96db-ec95e4758abe--3404f7f2-34a3-4fa4-88cd-078d2e3b8230>'}\n",
      "INFO:root:{'function_name': 'FromKafkaBatched', 'data': \"({'bootstrap.servers': 'localhost:29092', 'group.id': 'group-test-16', 'auto.offset.reset': 'latest', 'enable.auto.commit': False}, 'testing', 9, 78, 80, {'db': 0, 'username': None, 'password': None, 'socket_timeout': None, 'encoding': 'utf-8', 'encoding_errors': 'strict', 'decode_responses': False, 'retry_on_timeout': False, 'health_check_interval': 0, 'client_name': None, 'host': 'localhost', 'port': 6379, 'socket_connect_timeout': None, 'socket_keepalive': None, 'socket_keepalive_options': None})\"}\n",
      "INFO:root:{'function_name': 'gather', 'data': \"[({'partition': 3, 'offset': 104, 'topic': 'testing'}, 4), ({'partition': 3, 'offset': 105, 'topic': 'testing'}, 14), ({'partition': 3, 'offset': 106, 'topic': 'testing'}, 24)]\"}\n",
      "INFO:root:{'function_name': 'flatten', 'data': \"({'partition': 3, 'offset': 104, 'topic': 'testing'}, 4)\"}\n",
      "INFO:root:{'function_name': 'flatten', 'data': \"({'partition': 3, 'offset': 105, 'topic': 'testing'}, 14)\"}\n",
      "INFO:root:{'function_name': 'flatten', 'data': \"({'partition': 3, 'offset': 106, 'topic': 'testing'}, 24)\"}\n",
      "INFO:root:{'function_name': 'buffer', 'data': '<Future: finished, type: builtins.list, key: plus--0dd18503-d0c7-447b-9115-c28956c9f71d--9d6b6850-856b-4d81-9e2f-a8231b25e872>'}\n",
      "INFO:root:{'function_name': 'scatter', 'data': '<Future: finished, type: builtins.tuple, key: tuple-069651b5bee44161844ee7ee67288c6b>'}\n",
      "INFO:root:{'function_name': 'starmap.get_message_batch', 'data': '<Future: pending, key: apply-e3e6f4a6-17dd-4dc5-a854-26a85a3e64cd>'}\n",
      "INFO:root:{'function_name': 'map.json_loads', 'data': '<Future: pending, key: json_loads--82e1629d-2f62-409c-a0a2-3827123dca01--6734af81-35ed-4937-9351-4b4af96675e5>'}\n",
      "INFO:root:{'function_name': 'map.plus', 'data': '<Future: pending, key: plus--82e1629d-2f62-409c-a0a2-3827123dca01--ce3d84e3-5bb7-4672-bf1b-14abe1745942>'}\n",
      "INFO:root:{'function_name': 'gather', 'data': \"[({'partition': 4, 'offset': 104, 'topic': 'testing'}, 5), ({'partition': 4, 'offset': 105, 'topic': 'testing'}, 15), ({'partition': 4, 'offset': 106, 'topic': 'testing'}, 25)]\"}\n",
      "INFO:root:{'function_name': 'flatten', 'data': \"({'partition': 4, 'offset': 104, 'topic': 'testing'}, 5)\"}\n",
      "INFO:root:{'function_name': 'flatten', 'data': \"({'partition': 4, 'offset': 105, 'topic': 'testing'}, 15)\"}\n",
      "INFO:root:{'function_name': 'flatten', 'data': \"({'partition': 4, 'offset': 106, 'topic': 'testing'}, 25)\"}\n",
      "INFO:root:{'function_name': 'buffer', 'data': '<Future: finished, type: builtins.list, key: plus--09ffb812-243b-46bb-b9dd-cc127e332f17--772b7715-9255-4d9f-a9d5-bbb02beb7f89>'}\n",
      "INFO:root:{'function_name': 'gather', 'data': \"[({'partition': 5, 'offset': 78, 'topic': 'testing'}, 6), ({'partition': 5, 'offset': 79, 'topic': 'testing'}, 16), ({'partition': 5, 'offset': 80, 'topic': 'testing'}, 26)]\"}\n",
      "INFO:root:{'function_name': 'flatten', 'data': \"({'partition': 5, 'offset': 78, 'topic': 'testing'}, 6)\"}\n",
      "INFO:root:{'function_name': 'flatten', 'data': \"({'partition': 5, 'offset': 79, 'topic': 'testing'}, 16)\"}\n",
      "INFO:root:{'function_name': 'flatten', 'data': \"({'partition': 5, 'offset': 80, 'topic': 'testing'}, 26)\"}\n",
      "INFO:root:{'function_name': 'buffer', 'data': '<Future: finished, type: builtins.list, key: plus--2e1a7096-e2e8-4d1c-a520-fdbbc8341049--14e7f04d-3ece-42ec-9026-c82c8fb7b8cb>'}\n",
      "INFO:root:{'function_name': 'gather', 'data': \"[({'partition': 6, 'offset': 78, 'topic': 'testing'}, 7), ({'partition': 6, 'offset': 79, 'topic': 'testing'}, 17), ({'partition': 6, 'offset': 80, 'topic': 'testing'}, 27)]\"}\n",
      "INFO:root:{'function_name': 'flatten', 'data': \"({'partition': 6, 'offset': 78, 'topic': 'testing'}, 7)\"}\n",
      "INFO:root:{'function_name': 'flatten', 'data': \"({'partition': 6, 'offset': 79, 'topic': 'testing'}, 17)\"}\n",
      "INFO:root:{'function_name': 'flatten', 'data': \"({'partition': 6, 'offset': 80, 'topic': 'testing'}, 27)\"}\n",
      "INFO:root:{'function_name': 'buffer', 'data': '<Future: finished, type: builtins.list, key: plus--7d1d0b81-b880-4da6-ac40-6a6c99d61a8a--338bbc4f-d9c4-43dc-b678-77caa1908437>'}\n",
      "INFO:root:{'function_name': 'gather', 'data': \"[({'partition': 7, 'offset': 78, 'topic': 'testing'}, 8), ({'partition': 7, 'offset': 79, 'topic': 'testing'}, 18), ({'partition': 7, 'offset': 80, 'topic': 'testing'}, 28)]\"}\n",
      "INFO:root:{'function_name': 'flatten', 'data': \"({'partition': 7, 'offset': 78, 'topic': 'testing'}, 8)\"}\n",
      "INFO:root:{'function_name': 'flatten', 'data': \"({'partition': 7, 'offset': 79, 'topic': 'testing'}, 18)\"}\n",
      "INFO:root:{'function_name': 'flatten', 'data': \"({'partition': 7, 'offset': 80, 'topic': 'testing'}, 28)\"}\n",
      "INFO:root:{'function_name': 'buffer', 'data': '<Future: finished, type: builtins.list, key: plus--71dfcda4-b47f-4a3e-9ffa-6a776b1fb4b5--98ad8f2c-e686-42f8-b062-6b3beca8abd2>'}\n",
      "INFO:root:{'function_name': 'gather', 'data': \"[({'partition': 8, 'offset': 78, 'topic': 'testing'}, 9), ({'partition': 8, 'offset': 79, 'topic': 'testing'}, 19), ({'partition': 8, 'offset': 80, 'topic': 'testing'}, 29)]\"}\n",
      "INFO:root:{'function_name': 'flatten', 'data': \"({'partition': 8, 'offset': 78, 'topic': 'testing'}, 9)\"}\n",
      "INFO:root:{'function_name': 'flatten', 'data': \"({'partition': 8, 'offset': 79, 'topic': 'testing'}, 19)\"}\n",
      "INFO:root:{'function_name': 'flatten', 'data': \"({'partition': 8, 'offset': 80, 'topic': 'testing'}, 29)\"}\n",
      "INFO:root:{'function_name': 'buffer', 'data': '<Future: pending, key: plus--82e1629d-2f62-409c-a0a2-3827123dca01--ce3d84e3-5bb7-4672-bf1b-14abe1745942>'}\n",
      "INFO:root:{'function_name': 'gather', 'data': \"[({'partition': 9, 'offset': 78, 'topic': 'testing'}, 10), ({'partition': 9, 'offset': 79, 'topic': 'testing'}, 20), ({'partition': 9, 'offset': 80, 'topic': 'testing'}, 30)]\"}\n",
      "INFO:root:{'function_name': 'flatten', 'data': \"({'partition': 9, 'offset': 78, 'topic': 'testing'}, 10)\"}\n",
      "INFO:root:{'function_name': 'flatten', 'data': \"({'partition': 9, 'offset': 79, 'topic': 'testing'}, 20)\"}\n",
      "INFO:root:{'function_name': 'flatten', 'data': \"({'partition': 9, 'offset': 80, 'topic': 'testing'}, 30)\"}\n"
     ]
    },
    {
     "name": "stderr",
     "output_type": "stream",
     "text": [
      "INFO:root:healing successful: True, 2021-12-04 16:14:52.606274\n",
      "INFO:root:{'function_name': 'healing', 'data': \"[{'topic': 'testing', 'partition': 0, 'offset': 104}, {'topic': 'testing', 'partition': 0, 'offset': 105}, {'topic': 'testing', 'partition': 0, 'offset': 106}, {'topic': 'testing', 'partition': 0, 'offset': 107}, {'topic': 'testing', 'partition': 1, 'offset': 104}, {'topic': 'testing', 'partition': 1, 'offset': 105}, {'topic': 'testing', 'partition': 1, 'offset': 106}, {'topic': 'testing', 'partition': 2, 'offset': 104}, {'topic': 'testing', 'partition': 2, 'offset': 105}, {'topic': 'testing', 'partition': 2, 'offset': 106}, {'topic': 'testing', 'partition': 3, 'offset': 104}, {'topic': 'testing', 'partition': 3, 'offset': 105}, {'topic': 'testing', 'partition': 3, 'offset': 106}, {'topic': 'testing', 'partition': 4, 'offset': 104}, {'topic': 'testing', 'partition': 4, 'offset': 105}, {'topic': 'testing', 'partition': 4, 'offset': 106}, {'topic': 'testing', 'partition': 5, 'offset': 78}, {'topic': 'testing', 'partition': 5, 'offset': 79}, {'topic': 'testing', 'partition': 5, 'offset': 80}, {'topic': 'testing', 'partition': 6, 'offset': 78}, {'topic': 'testing', 'partition': 6, 'offset': 79}, {'topic': 'testing', 'partition': 6, 'offset': 80}, {'topic': 'testing', 'partition': 7, 'offset': 78}, {'topic': 'testing', 'partition': 7, 'offset': 79}, {'topic': 'testing', 'partition': 7, 'offset': 80}, {'topic': 'testing', 'partition': 8, 'offset': 78}, {'topic': 'testing', 'partition': 8, 'offset': 79}, {'topic': 'testing', 'partition': 8, 'offset': 80}, {'topic': 'testing', 'partition': 9, 'offset': 78}, {'topic': 'testing', 'partition': 9, 'offset': 79}, {'topic': 'testing', 'partition': 9, 'offset': 80}]\"}\n",
      "INFO:root:{'function_name': 'FromKafkaBatched', 'data': \"({'bootstrap.servers': 'localhost:29092', 'group.id': 'group-test-16', 'auto.offset.reset': 'latest', 'enable.auto.commit': False}, 'testing', 1, 107, 107, {'db': 0, 'username': None, 'password': None, 'socket_timeout': None, 'encoding': 'utf-8', 'encoding_errors': 'strict', 'decode_responses': False, 'retry_on_timeout': False, 'health_check_interval': 0, 'client_name': None, 'host': 'localhost', 'port': 6379, 'socket_connect_timeout': None, 'socket_keepalive': None, 'socket_keepalive_options': None})\"}\n",
      "INFO:root:{'function_name': 'scatter', 'data': '<Future: finished, type: builtins.tuple, key: tuple-ca321ac8df654818b900c172b7aca36a>'}\n",
      "INFO:root:{'function_name': 'starmap.get_message_batch', 'data': '<Future: pending, key: apply-35163920-3564-4490-a9b3-affefe63e8b1>'}\n",
      "INFO:root:{'function_name': 'map.json_loads', 'data': '<Future: pending, key: json_loads--4fa101d7-e519-459e-9f28-925678dc197e--69347e66-3ea2-4f85-8d09-08e092035769>'}\n",
      "INFO:root:{'function_name': 'map.plus', 'data': '<Future: pending, key: plus--4fa101d7-e519-459e-9f28-925678dc197e--d4f8c02c-3437-402e-91d7-c8aa23a57725>'}\n",
      "INFO:root:{'function_name': 'buffer', 'data': '<Future: pending, key: plus--4fa101d7-e519-459e-9f28-925678dc197e--d4f8c02c-3437-402e-91d7-c8aa23a57725>'}\n",
      "INFO:root:{'function_name': 'FromKafkaBatched', 'data': \"({'bootstrap.servers': 'localhost:29092', 'group.id': 'group-test-16', 'auto.offset.reset': 'latest', 'enable.auto.commit': False}, 'testing', 2, 107, 107, {'db': 0, 'username': None, 'password': None, 'socket_timeout': None, 'encoding': 'utf-8', 'encoding_errors': 'strict', 'decode_responses': False, 'retry_on_timeout': False, 'health_check_interval': 0, 'client_name': None, 'host': 'localhost', 'port': 6379, 'socket_connect_timeout': None, 'socket_keepalive': None, 'socket_keepalive_options': None})\"}\n",
      "INFO:root:{'function_name': 'scatter', 'data': '<Future: finished, type: builtins.tuple, key: tuple-8065f8d6a83647589abb6d83093e1e59>'}\n",
      "INFO:root:{'function_name': 'starmap.get_message_batch', 'data': '<Future: pending, key: apply-0624558a-fb77-46ab-9e1b-2d8387f90974>'}\n",
      "INFO:root:{'function_name': 'map.json_loads', 'data': '<Future: pending, key: json_loads--64a9e0cb-801a-405e-9b16-c5fc8cb720ca--3036bcc2-13fa-4a29-a8b3-bda56adfed5b>'}\n",
      "INFO:root:{'function_name': 'map.plus', 'data': '<Future: pending, key: plus--64a9e0cb-801a-405e-9b16-c5fc8cb720ca--ab8c6133-e62a-4a15-b90e-6cf9f6cede84>'}\n",
      "INFO:root:{'function_name': 'FromKafkaBatched', 'data': \"({'bootstrap.servers': 'localhost:29092', 'group.id': 'group-test-16', 'auto.offset.reset': 'latest', 'enable.auto.commit': False}, 'testing', 3, 107, 107, {'db': 0, 'username': None, 'password': None, 'socket_timeout': None, 'encoding': 'utf-8', 'encoding_errors': 'strict', 'decode_responses': False, 'retry_on_timeout': False, 'health_check_interval': 0, 'client_name': None, 'host': 'localhost', 'port': 6379, 'socket_connect_timeout': None, 'socket_keepalive': None, 'socket_keepalive_options': None})\"}\n",
      "INFO:root:{'function_name': 'scatter', 'data': '<Future: finished, type: builtins.tuple, key: tuple-3d79ffedde794d39809781d727c9214e>'}\n",
      "INFO:root:{'function_name': 'starmap.get_message_batch', 'data': '<Future: pending, key: apply-86276fc7-d8a6-4f55-804d-9a323b60b0f2>'}\n",
      "INFO:root:{'function_name': 'map.json_loads', 'data': '<Future: pending, key: json_loads--0bd05e27-d8b6-4b1a-9d63-3300d5f75416--53e10622-2f95-4c1d-8eb4-7fd2f4638696>'}\n",
      "INFO:root:{'function_name': 'map.plus', 'data': '<Future: pending, key: plus--0bd05e27-d8b6-4b1a-9d63-3300d5f75416--5aa942f9-40ac-4799-8b8c-b3226af65818>'}\n",
      "INFO:root:{'function_name': 'FromKafkaBatched', 'data': \"({'bootstrap.servers': 'localhost:29092', 'group.id': 'group-test-16', 'auto.offset.reset': 'latest', 'enable.auto.commit': False}, 'testing', 4, 107, 107, {'db': 0, 'username': None, 'password': None, 'socket_timeout': None, 'encoding': 'utf-8', 'encoding_errors': 'strict', 'decode_responses': False, 'retry_on_timeout': False, 'health_check_interval': 0, 'client_name': None, 'host': 'localhost', 'port': 6379, 'socket_connect_timeout': None, 'socket_keepalive': None, 'socket_keepalive_options': None})\"}\n",
      "INFO:root:{'function_name': 'scatter', 'data': '<Future: finished, type: builtins.tuple, key: tuple-952b1b4f927d46a9bff54474252f1597>'}\n",
      "INFO:root:{'function_name': 'starmap.get_message_batch', 'data': '<Future: pending, key: apply-9c86ea6a-2050-4e94-8a03-9374b5feca87>'}\n",
      "INFO:root:{'function_name': 'map.json_loads', 'data': '<Future: pending, key: json_loads--929c8484-b8c4-469e-8436-3c3a78772dab--cb90c1cd-f451-4b1e-962e-89727b6d39fe>'}\n",
      "INFO:root:{'function_name': 'map.plus', 'data': '<Future: pending, key: plus--929c8484-b8c4-469e-8436-3c3a78772dab--f1b8c231-eda8-49ed-ab26-687a204d2ad8>'}\n",
      "tornado.application - ERROR - Exception in callback functools.partial(<function wrap.<locals>.null_wrapper at 0x12946aa70>, <Future finished exception=Exception(\"({'partition': 1, 'offset': 107, 'topic': 'testing'}, {'no': 31, 'datetime': '2021-12-04 16:14:48.537194'}), 31 is bigger than 30\")>)\n",
      "Traceback (most recent call last):\n",
      "  File \"/Library/Frameworks/Python.framework/Versions/3.7/lib/python3.7/site-packages/tornado/ioloop.py\", line 758, in _run_callback\n",
      "    ret = callback()\n",
      "  File \"/Library/Frameworks/Python.framework/Versions/3.7/lib/python3.7/site-packages/tornado/stack_context.py\", line 300, in null_wrapper\n",
      "    return fn(*args, **kwargs)\n",
      "  File \"/Library/Frameworks/Python.framework/Versions/3.7/lib/python3.7/site-packages/tornado/ioloop.py\", line 779, in _discard_future_result\n",
      "    future.result()\n",
      "  File \"/Library/Frameworks/Python.framework/Versions/3.7/lib/python3.7/site-packages/tornado/gen.py\", line 1141, in run\n",
      "    yielded = self.gen.throw(*exc_info)\n",
      "  File \"/Users/huseinzolkepli/Documents/water-healer/waterhealer/core.py\", line 1292, in cb\n",
      "    yield self._emit(x, emit_id=self.last_emit_id)\n",
      "  File \"/Library/Frameworks/Python.framework/Versions/3.7/lib/python3.7/site-packages/tornado/gen.py\", line 1133, in run\n",
      "    value = future.result()\n",
      "  File \"/Library/Frameworks/Python.framework/Versions/3.7/lib/python3.7/site-packages/tornado/gen.py\", line 883, in callback\n",
      "    result_list.append(f.result())\n",
      "  File \"/Library/Frameworks/Python.framework/Versions/3.7/lib/python3.7/site-packages/tornado/gen.py\", line 1141, in run\n",
      "    yielded = self.gen.throw(*exc_info)\n",
      "  File \"/Users/huseinzolkepli/Documents/water-healer/waterhealer/dask.py\", line 155, in update\n",
      "    result = yield client.gather(x, asynchronous=True)\n",
      "  File \"/Library/Frameworks/Python.framework/Versions/3.7/lib/python3.7/site-packages/tornado/gen.py\", line 1133, in run\n",
      "    value = future.result()\n",
      "  File \"/Library/Frameworks/Python.framework/Versions/3.7/lib/python3.7/site-packages/distributed/client.py\", line 1890, in _gather\n",
      "    raise exception.with_traceback(traceback)\n",
      "  File \"<ipython-input-9-945755a73b6b>\", line 12, in plus\n",
      "    raise Exception(f'{row}, {no} is bigger than {m}')\n",
      "Exception: ({'partition': 1, 'offset': 107, 'topic': 'testing'}, {'no': 31, 'datetime': '2021-12-04 16:14:48.537194'}), 31 is bigger than 30\n"
     ]
    },
    {
     "name": "stderr",
     "output_type": "stream",
     "text": [
      "INFO:root:healing successful: False, 2021-12-04 16:14:57.802519\n",
      "INFO:root:healing successful: False, 2021-12-04 16:15:02.860316\n",
      "INFO:root:healing successful: False, 2021-12-04 16:15:07.915166\n",
      "INFO:root:healing successful: False, 2021-12-04 16:15:12.972389\n"
     ]
    }
   ],
   "source": [
    "from waterhealer.healing import get_memory"
   ]
  },
  {
   "cell_type": "code",
   "execution_count": 21,
   "metadata": {},
   "outputs": [
    {
     "data": {
      "text/plain": [
       "<cimpl.Consumer at 0x11d60c690>"
      ]
     },
     "execution_count": 21,
     "metadata": {},
     "output_type": "execute_result"
    }
   ],
   "source": [
    "_, consumer, memory = get_memory(source)\n",
    "consumer"
   ]
  },
  {
   "cell_type": "code",
   "execution_count": 22,
   "metadata": {},
   "outputs": [
    {
     "data": {
      "text/plain": [
       "{}"
      ]
     },
     "execution_count": 22,
     "metadata": {},
     "output_type": "execute_result"
    }
   ],
   "source": [
    "offsets = consumer.committed(consumer.assignment())\n",
    "lags = {}\n",
    "for offset in offsets:\n",
    "    _, high_offset = consumer.get_watermark_offsets(offset)\n",
    "    lags[offset.partition] = high_offset - offset.offset\n",
    "lags"
   ]
  },
  {
   "cell_type": "code",
   "execution_count": 23,
   "metadata": {},
   "outputs": [
    {
     "data": {
      "text/plain": [
       "{'': <redis_collections.Dict at group-test-16- {}>,\n",
       " 'testing<!>0': <redis_collections.Dict at group-test-16-testing<!>0 {}>,\n",
       " 'testing<!>1': <redis_collections.Dict at group-test-16-testing<!>1 {107: 0}>,\n",
       " 'testing<!>2': <redis_collections.Dict at group-test-16-testing<!>2 {107: 0}>,\n",
       " 'testing<!>3': <redis_collections.Dict at group-test-16-testing<!>3 {107: 0}>,\n",
       " 'testing<!>4': <redis_collections.Dict at group-test-16-testing<!>4 {107: 0}>,\n",
       " 'testing<!>5': <redis_collections.Dict at group-test-16-testing<!>5 {}>,\n",
       " 'testing<!>6': <redis_collections.Dict at group-test-16-testing<!>6 {}>,\n",
       " 'testing<!>7': <redis_collections.Dict at group-test-16-testing<!>7 {}>,\n",
       " 'testing<!>8': <redis_collections.Dict at group-test-16-testing<!>8 {}>,\n",
       " 'testing<!>9': <redis_collections.Dict at group-test-16-testing<!>9 {}>}"
      ]
     },
     "execution_count": 23,
     "metadata": {},
     "output_type": "execute_result"
    },
    {
     "name": "stderr",
     "output_type": "stream",
     "text": [
      "INFO:root:healing successful: False, 2021-12-04 16:15:18.035541\n",
      "INFO:root:healing successful: False, 2021-12-04 16:15:23.094135\n",
      "INFO:root:healing successful: False, 2021-12-04 16:15:28.148359\n",
      "INFO:root:healing successful: False, 2021-12-04 16:15:33.230329\n",
      "INFO:root:healing successful: False, 2021-12-04 16:15:38.277788\n",
      "INFO:root:healing successful: False, 2021-12-04 16:15:43.335195\n",
      "INFO:root:healing successful: False, 2021-12-04 16:15:48.398366\n",
      "INFO:root:healing successful: False, 2021-12-04 16:15:53.450941\n",
      "INFO:root:healing successful: False, 2021-12-04 16:15:58.502206\n",
      "INFO:root:healing successful: False, 2021-12-04 16:16:03.558151\n",
      "INFO:root:healing successful: False, 2021-12-04 16:16:08.611441\n",
      "INFO:root:healing successful: False, 2021-12-04 16:16:13.667119\n",
      "INFO:root:healing successful: False, 2021-12-04 16:16:18.728172\n",
      "INFO:root:healing successful: False, 2021-12-04 16:16:23.780963\n",
      "INFO:root:healing successful: False, 2021-12-04 16:16:28.842115\n",
      "INFO:root:healing successful: False, 2021-12-04 16:16:33.899067\n",
      "INFO:root:healing successful: False, 2021-12-04 16:16:38.953486\n",
      "INFO:root:healing successful: False, 2021-12-04 16:16:44.019801\n",
      "INFO:root:healing successful: False, 2021-12-04 16:16:49.083500\n",
      "INFO:root:healing successful: False, 2021-12-04 16:16:54.150091\n",
      "INFO:root:healing successful: False, 2021-12-04 16:16:59.216757\n",
      "INFO:root:healing successful: False, 2021-12-04 16:17:04.274852\n",
      "INFO:root:healing successful: False, 2021-12-04 16:17:09.326320\n",
      "INFO:root:healing successful: False, 2021-12-04 16:17:14.441311\n",
      "INFO:root:healing successful: False, 2021-12-04 16:17:19.486615\n",
      "INFO:root:healing successful: False, 2021-12-04 16:17:24.547415\n",
      "INFO:root:healing successful: False, 2021-12-04 16:17:29.621238\n",
      "INFO:root:healing successful: False, 2021-12-04 16:17:34.672416\n",
      "INFO:root:healing successful: False, 2021-12-04 16:17:39.724533\n",
      "INFO:root:healing successful: False, 2021-12-04 16:17:44.780693\n",
      "INFO:root:healing successful: False, 2021-12-04 16:17:49.841880\n",
      "INFO:root:healing successful: False, 2021-12-04 16:17:54.901316\n",
      "INFO:root:healing successful: False, 2021-12-04 16:17:59.969906\n",
      "INFO:root:healing successful: False, 2021-12-04 16:18:05.014240\n",
      "INFO:root:healing successful: False, 2021-12-04 16:18:10.069067\n",
      "INFO:root:healing successful: False, 2021-12-04 16:18:15.124310\n",
      "INFO:root:healing successful: False, 2021-12-04 16:18:20.172538\n",
      "INFO:root:healing successful: False, 2021-12-04 16:18:25.224562\n",
      "INFO:root:healing successful: False, 2021-12-04 16:18:30.273005\n",
      "INFO:root:healing successful: False, 2021-12-04 16:18:35.329261\n",
      "INFO:root:healing successful: False, 2021-12-04 16:18:40.380681\n",
      "INFO:root:healing successful: False, 2021-12-04 16:18:45.435412\n",
      "INFO:root:healing successful: False, 2021-12-04 16:18:50.500278\n",
      "INFO:root:healing successful: False, 2021-12-04 16:18:55.550719\n",
      "INFO:root:healing successful: False, 2021-12-04 16:19:00.601733\n",
      "INFO:root:healing successful: False, 2021-12-04 16:19:05.663964\n",
      "INFO:root:healing successful: False, 2021-12-04 16:19:10.719056\n",
      "INFO:root:healing successful: False, 2021-12-04 16:19:15.773760\n",
      "INFO:root:healing successful: False, 2021-12-04 16:19:20.831065\n",
      "INFO:root:healing successful: False, 2021-12-04 16:19:25.892539\n",
      "INFO:root:healing successful: False, 2021-12-04 16:19:30.961925\n",
      "INFO:root:healing successful: False, 2021-12-04 16:19:36.028661\n",
      "INFO:root:healing successful: False, 2021-12-04 16:19:41.079933\n",
      "INFO:root:healing successful: False, 2021-12-04 16:19:46.131669\n",
      "INFO:root:healing successful: False, 2021-12-04 16:19:51.189887\n",
      "INFO:root:healing successful: False, 2021-12-04 16:19:56.256212\n",
      "INFO:root:healing successful: False, 2021-12-04 16:20:01.320039\n",
      "INFO:root:healing successful: False, 2021-12-04 16:20:06.373425\n",
      "INFO:root:healing successful: False, 2021-12-04 16:20:11.454065\n",
      "INFO:root:healing successful: False, 2021-12-04 16:20:16.524566\n",
      "INFO:root:healing successful: False, 2021-12-04 16:20:21.579047\n",
      "INFO:root:healing successful: False, 2021-12-04 16:20:26.646134\n",
      "INFO:root:healing successful: False, 2021-12-04 16:20:31.705915\n",
      "INFO:root:healing successful: False, 2021-12-04 16:20:36.751879\n",
      "INFO:root:healing successful: False, 2021-12-04 16:20:41.804313\n",
      "INFO:root:healing successful: False, 2021-12-04 16:20:46.875793\n",
      "INFO:root:healing successful: False, 2021-12-04 16:20:51.933132\n",
      "INFO:root:healing successful: False, 2021-12-04 16:20:56.988743\n",
      "INFO:root:healing successful: False, 2021-12-04 16:21:02.040551\n",
      "INFO:root:healing successful: False, 2021-12-04 16:21:07.095523\n",
      "INFO:root:healing successful: False, 2021-12-04 16:21:12.156661\n",
      "INFO:root:healing successful: False, 2021-12-04 16:21:17.198983\n",
      "INFO:root:healing successful: False, 2021-12-04 16:21:22.252442\n",
      "INFO:root:healing successful: False, 2021-12-04 16:21:27.302718\n",
      "INFO:root:healing successful: False, 2021-12-04 16:21:32.350451\n",
      "INFO:root:healing successful: False, 2021-12-04 16:21:37.403803\n",
      "INFO:root:healing successful: False, 2021-12-04 16:21:42.459866\n",
      "INFO:root:healing successful: False, 2021-12-04 16:21:47.516253\n",
      "INFO:root:healing successful: False, 2021-12-04 16:21:52.572354\n",
      "INFO:root:healing successful: False, 2021-12-04 16:21:57.622093\n",
      "INFO:root:healing successful: False, 2021-12-04 16:22:02.678814\n",
      "INFO:root:healing successful: False, 2021-12-04 16:22:07.735077\n",
      "INFO:root:healing successful: False, 2021-12-04 16:22:12.782662\n",
      "INFO:root:healing successful: False, 2021-12-04 16:22:17.839736\n",
      "INFO:root:healing successful: False, 2021-12-04 16:22:22.902832\n",
      "INFO:root:healing successful: False, 2021-12-04 16:22:27.967701\n",
      "INFO:root:healing successful: False, 2021-12-04 16:22:33.020319\n",
      "INFO:root:healing successful: False, 2021-12-04 16:22:38.078855\n",
      "INFO:root:healing successful: False, 2021-12-04 16:22:43.145428\n",
      "INFO:root:healing successful: False, 2021-12-04 16:22:48.195653\n",
      "INFO:root:healing successful: False, 2021-12-04 16:22:53.243715\n",
      "INFO:root:healing successful: False, 2021-12-04 16:22:58.314883\n",
      "INFO:root:healing successful: False, 2021-12-04 16:23:03.363014\n",
      "INFO:root:healing successful: False, 2021-12-04 16:23:08.413608\n",
      "INFO:root:healing successful: False, 2021-12-04 16:23:13.465135\n",
      "INFO:root:healing successful: False, 2021-12-04 16:23:18.523481\n",
      "INFO:root:healing successful: False, 2021-12-04 16:23:23.585239\n",
      "INFO:root:healing successful: False, 2021-12-04 16:23:28.644341\n",
      "INFO:root:healing successful: False, 2021-12-04 16:23:33.692568\n",
      "INFO:root:healing successful: False, 2021-12-04 16:23:38.753334\n",
      "INFO:root:healing successful: False, 2021-12-04 16:23:43.809454\n",
      "INFO:root:healing successful: False, 2021-12-04 16:23:48.863849\n",
      "INFO:root:healing successful: False, 2021-12-04 16:23:53.917749\n",
      "INFO:root:healing successful: False, 2021-12-04 16:23:58.975869\n",
      "INFO:root:healing successful: False, 2021-12-04 16:24:04.031182\n",
      "INFO:root:healing successful: False, 2021-12-04 16:24:09.084180\n",
      "INFO:root:healing successful: False, 2021-12-04 16:24:14.138746\n",
      "INFO:root:healing successful: False, 2021-12-04 16:24:19.190135\n",
      "INFO:root:healing successful: False, 2021-12-04 16:24:24.240969\n",
      "INFO:root:healing successful: False, 2021-12-04 16:24:29.293757\n",
      "INFO:root:healing successful: False, 2021-12-04 16:24:34.344716\n",
      "INFO:root:healing successful: False, 2021-12-04 16:24:39.403907\n",
      "INFO:root:healing successful: False, 2021-12-04 16:24:44.462176\n",
      "INFO:root:healing successful: False, 2021-12-04 16:24:49.517718\n",
      "INFO:root:healing successful: False, 2021-12-04 16:24:54.571777\n",
      "INFO:root:healing successful: False, 2021-12-04 16:24:59.632299\n",
      "INFO:root:healing successful: False, 2021-12-04 16:25:04.687873\n",
      "INFO:root:healing successful: False, 2021-12-04 16:25:09.777407\n",
      "INFO:root:healing successful: False, 2021-12-04 16:25:14.836236\n",
      "INFO:root:healing successful: False, 2021-12-04 16:25:19.890125\n",
      "INFO:root:healing successful: False, 2021-12-04 16:25:24.941513\n",
      "INFO:root:healing successful: False, 2021-12-04 16:25:30.005647\n",
      "INFO:root:healing successful: False, 2021-12-04 16:25:35.062433\n",
      "INFO:root:healing successful: False, 2021-12-04 16:25:40.114292\n",
      "INFO:root:healing successful: False, 2021-12-04 16:25:45.169196\n",
      "INFO:root:healing successful: False, 2021-12-04 16:25:50.215338\n",
      "INFO:root:healing successful: False, 2021-12-04 16:25:55.264829\n",
      "INFO:root:healing successful: False, 2021-12-04 16:26:00.360332\n",
      "INFO:root:healing successful: False, 2021-12-04 16:26:05.413985\n"
     ]
    },
    {
     "name": "stderr",
     "output_type": "stream",
     "text": [
      "INFO:root:healing successful: False, 2021-12-04 16:26:10.477014\n",
      "INFO:root:healing successful: False, 2021-12-04 16:26:15.535571\n",
      "INFO:root:healing successful: False, 2021-12-04 16:26:20.584458\n",
      "INFO:root:healing successful: False, 2021-12-04 16:26:25.639186\n",
      "INFO:root:healing successful: False, 2021-12-04 16:26:30.690880\n",
      "INFO:root:healing successful: False, 2021-12-04 16:26:35.745279\n",
      "INFO:root:healing successful: False, 2021-12-04 16:26:40.795906\n",
      "INFO:root:healing successful: False, 2021-12-04 16:26:45.853403\n",
      "INFO:root:healing successful: False, 2021-12-04 16:26:50.902516\n",
      "INFO:root:healing successful: False, 2021-12-04 16:26:55.964658\n",
      "INFO:root:healing successful: False, 2021-12-04 16:27:01.019482\n",
      "INFO:root:healing successful: False, 2021-12-04 16:27:06.078916\n",
      "INFO:root:healing successful: False, 2021-12-04 16:27:11.130883\n",
      "INFO:root:healing successful: False, 2021-12-04 16:27:16.188667\n",
      "INFO:root:healing successful: False, 2021-12-04 16:27:21.243996\n",
      "INFO:root:healing successful: False, 2021-12-04 16:27:26.311099\n",
      "INFO:root:healing successful: False, 2021-12-04 16:27:31.360840\n",
      "INFO:root:healing successful: False, 2021-12-04 16:27:36.415729\n",
      "INFO:root:healing successful: False, 2021-12-04 16:27:41.465030\n",
      "INFO:root:healing successful: False, 2021-12-04 16:27:46.525611\n",
      "INFO:root:healing successful: False, 2021-12-04 16:27:51.574033\n",
      "INFO:root:healing successful: False, 2021-12-04 16:27:56.622158\n",
      "INFO:root:healing successful: False, 2021-12-04 16:28:01.674202\n",
      "INFO:root:healing successful: False, 2021-12-04 16:28:06.731463\n",
      "INFO:root:healing successful: False, 2021-12-04 16:28:11.785211\n",
      "INFO:root:healing successful: False, 2021-12-04 16:28:16.841494\n",
      "INFO:root:healing successful: False, 2021-12-04 16:28:21.897304\n",
      "INFO:root:healing successful: False, 2021-12-04 16:28:26.956697\n",
      "INFO:root:healing successful: False, 2021-12-04 16:28:32.016345\n",
      "INFO:root:healing successful: False, 2021-12-04 16:28:37.074610\n",
      "INFO:root:healing successful: False, 2021-12-04 16:28:42.136030\n",
      "INFO:root:healing successful: False, 2021-12-04 16:28:47.182217\n",
      "INFO:root:healing successful: False, 2021-12-04 16:28:52.246070\n",
      "INFO:root:healing successful: False, 2021-12-04 16:28:57.307392\n",
      "INFO:root:healing successful: False, 2021-12-04 16:29:02.379497\n",
      "INFO:root:healing successful: False, 2021-12-04 16:29:07.439318\n",
      "INFO:root:healing successful: False, 2021-12-04 16:29:12.500761\n",
      "INFO:root:healing successful: False, 2021-12-04 16:29:17.556243\n",
      "INFO:root:healing successful: False, 2021-12-04 16:29:22.615503\n",
      "INFO:root:healing successful: False, 2021-12-04 16:29:27.661113\n",
      "INFO:root:healing successful: False, 2021-12-04 16:29:32.719068\n",
      "INFO:root:healing successful: False, 2021-12-04 16:29:37.770532\n",
      "INFO:root:healing successful: False, 2021-12-04 16:29:42.828998\n",
      "INFO:root:healing successful: False, 2021-12-04 16:29:47.888826\n",
      "INFO:root:healing successful: False, 2021-12-04 16:29:52.943226\n",
      "INFO:root:healing successful: False, 2021-12-04 16:29:57.993840\n",
      "INFO:root:healing successful: False, 2021-12-04 16:30:03.055912\n",
      "INFO:root:healing successful: False, 2021-12-04 16:30:08.112394\n",
      "INFO:root:healing successful: False, 2021-12-04 16:30:13.167885\n",
      "INFO:root:healing successful: False, 2021-12-04 16:30:18.225768\n",
      "INFO:root:healing successful: False, 2021-12-04 16:30:23.276785\n",
      "INFO:root:healing successful: False, 2021-12-04 16:30:28.337415\n",
      "INFO:root:healing successful: False, 2021-12-04 16:30:33.395124\n",
      "INFO:root:healing successful: False, 2021-12-04 16:30:38.456886\n",
      "INFO:root:healing successful: False, 2021-12-04 16:30:43.507407\n",
      "INFO:root:healing successful: False, 2021-12-04 16:30:48.564606\n",
      "INFO:root:healing successful: False, 2021-12-04 16:30:53.621861\n",
      "INFO:root:healing successful: False, 2021-12-04 16:30:58.670138\n",
      "INFO:root:healing successful: False, 2021-12-04 16:31:03.727443\n",
      "INFO:root:healing successful: False, 2021-12-04 16:31:08.776490\n",
      "INFO:root:healing successful: False, 2021-12-04 16:31:13.828662\n",
      "INFO:root:healing successful: False, 2021-12-04 16:31:18.883879\n",
      "INFO:root:healing successful: False, 2021-12-04 16:31:23.942425\n",
      "INFO:root:healing successful: False, 2021-12-04 16:31:28.996806\n",
      "INFO:root:healing successful: False, 2021-12-04 16:31:34.062104\n",
      "INFO:root:healing successful: False, 2021-12-04 16:31:39.114434\n",
      "INFO:root:healing successful: False, 2021-12-04 16:31:44.175761\n",
      "INFO:root:healing successful: False, 2021-12-04 16:31:49.228696\n",
      "INFO:root:healing successful: False, 2021-12-04 16:31:54.288026\n",
      "INFO:root:healing successful: False, 2021-12-04 16:31:59.340764\n",
      "INFO:root:healing successful: False, 2021-12-04 16:32:04.429675\n",
      "INFO:root:healing successful: False, 2021-12-04 16:32:09.508521\n",
      "INFO:root:healing successful: False, 2021-12-04 16:32:14.567772\n",
      "INFO:root:healing successful: False, 2021-12-04 16:32:19.653689\n",
      "INFO:root:healing successful: False, 2021-12-04 16:32:24.708010\n",
      "INFO:root:healing successful: False, 2021-12-04 16:32:29.755917\n",
      "INFO:root:healing successful: False, 2021-12-04 16:32:34.805697\n",
      "INFO:root:healing successful: False, 2021-12-04 16:32:39.853787\n",
      "INFO:root:healing successful: False, 2021-12-04 16:32:44.903891\n",
      "INFO:root:healing successful: False, 2021-12-04 16:32:49.946729\n",
      "INFO:root:healing successful: False, 2021-12-04 16:32:55.008043\n",
      "INFO:root:healing successful: False, 2021-12-04 16:33:00.054774\n",
      "INFO:root:healing successful: False, 2021-12-04 16:33:05.102189\n",
      "INFO:root:healing successful: False, 2021-12-04 16:33:10.164980\n",
      "INFO:root:healing successful: False, 2021-12-04 16:33:15.217265\n",
      "INFO:root:healing successful: False, 2021-12-04 16:33:20.272610\n",
      "INFO:root:healing successful: False, 2021-12-04 16:33:25.329099\n",
      "INFO:root:healing successful: False, 2021-12-04 16:33:30.383039\n",
      "INFO:root:healing successful: False, 2021-12-04 16:33:35.438371\n",
      "INFO:root:healing successful: False, 2021-12-04 16:33:40.491090\n",
      "INFO:root:healing successful: False, 2021-12-04 16:33:45.544367\n",
      "INFO:root:healing successful: False, 2021-12-04 16:33:50.597132\n",
      "INFO:root:healing successful: False, 2021-12-04 16:33:55.673506\n",
      "INFO:root:healing successful: False, 2021-12-04 16:34:00.798044\n",
      "INFO:root:healing successful: False, 2021-12-04 16:34:05.852349\n",
      "INFO:root:healing successful: False, 2021-12-04 16:34:10.897564\n",
      "INFO:root:healing successful: False, 2021-12-04 16:34:15.941574\n",
      "INFO:root:healing successful: False, 2021-12-04 16:34:21.001101\n",
      "INFO:root:healing successful: False, 2021-12-04 16:34:26.054311\n",
      "INFO:root:healing successful: False, 2021-12-04 16:34:31.110151\n",
      "INFO:root:healing successful: False, 2021-12-04 16:34:36.169161\n",
      "INFO:root:healing successful: False, 2021-12-04 16:34:41.225872\n",
      "INFO:root:healing successful: False, 2021-12-04 16:34:46.289936\n",
      "INFO:root:healing successful: False, 2021-12-04 16:34:51.338163\n",
      "INFO:root:healing successful: False, 2021-12-04 16:34:56.394844\n",
      "INFO:root:healing successful: False, 2021-12-04 16:35:01.442780\n",
      "INFO:root:healing successful: False, 2021-12-04 16:35:06.495652\n",
      "INFO:root:healing successful: False, 2021-12-04 16:35:11.541101\n",
      "INFO:root:healing successful: False, 2021-12-04 16:35:16.591582\n",
      "INFO:root:healing successful: False, 2021-12-04 16:35:21.642150\n",
      "INFO:root:healing successful: False, 2021-12-04 16:35:26.716580\n",
      "INFO:root:healing successful: False, 2021-12-04 16:35:31.775154\n",
      "INFO:root:healing successful: False, 2021-12-04 16:35:36.834566\n",
      "INFO:root:healing successful: False, 2021-12-04 16:35:41.893976\n",
      "INFO:root:healing successful: False, 2021-12-04 16:35:46.936875\n",
      "INFO:root:healing successful: False, 2021-12-04 16:35:51.998414\n",
      "INFO:root:healing successful: False, 2021-12-04 16:35:57.051064\n",
      "INFO:root:healing successful: False, 2021-12-04 16:36:02.096852\n",
      "INFO:root:healing successful: False, 2021-12-04 16:36:07.151483\n",
      "INFO:root:healing successful: False, 2021-12-04 16:36:12.207929\n",
      "INFO:root:healing successful: False, 2021-12-04 16:36:17.258031\n",
      "INFO:root:healing successful: False, 2021-12-04 16:36:22.323310\n",
      "INFO:root:healing successful: False, 2021-12-04 16:36:27.378046\n",
      "INFO:root:healing successful: False, 2021-12-04 16:36:32.434667\n",
      "INFO:root:healing successful: False, 2021-12-04 16:36:37.489498\n",
      "INFO:root:healing successful: False, 2021-12-04 16:36:42.545764\n",
      "INFO:root:healing successful: False, 2021-12-04 16:36:47.596039\n",
      "INFO:root:healing successful: False, 2021-12-04 16:36:52.652276\n",
      "INFO:root:healing successful: False, 2021-12-04 16:36:57.710494\n"
     ]
    },
    {
     "name": "stderr",
     "output_type": "stream",
     "text": [
      "INFO:root:healing successful: False, 2021-12-04 16:37:02.763310\n",
      "INFO:root:healing successful: False, 2021-12-04 16:37:07.815243\n",
      "INFO:root:healing successful: False, 2021-12-04 16:37:12.867007\n",
      "INFO:root:healing successful: False, 2021-12-04 16:37:17.926700\n",
      "INFO:root:healing successful: False, 2021-12-04 16:37:22.988262\n",
      "INFO:root:healing successful: False, 2021-12-04 16:37:28.051064\n",
      "INFO:root:healing successful: False, 2021-12-04 16:37:33.106025\n",
      "INFO:root:healing successful: False, 2021-12-04 16:37:38.156764\n",
      "INFO:root:healing successful: False, 2021-12-04 16:37:43.212893\n",
      "INFO:root:healing successful: False, 2021-12-04 16:37:48.262424\n",
      "INFO:root:healing successful: False, 2021-12-04 16:37:53.310092\n",
      "INFO:root:healing successful: False, 2021-12-04 16:37:58.366512\n",
      "INFO:root:healing successful: False, 2021-12-04 16:38:03.417711\n",
      "INFO:root:healing successful: False, 2021-12-04 16:38:08.483974\n",
      "INFO:root:healing successful: False, 2021-12-04 16:38:13.546802\n",
      "INFO:root:healing successful: False, 2021-12-04 16:38:18.595362\n",
      "INFO:root:healing successful: False, 2021-12-04 16:38:23.649501\n",
      "INFO:root:healing successful: False, 2021-12-04 16:38:28.709720\n",
      "INFO:root:healing successful: False, 2021-12-04 16:38:33.760324\n",
      "INFO:root:healing successful: False, 2021-12-04 16:38:38.824464\n",
      "INFO:root:healing successful: False, 2021-12-04 16:38:43.880789\n",
      "INFO:root:healing successful: False, 2021-12-04 16:38:48.992156\n",
      "INFO:root:healing successful: False, 2021-12-04 16:38:54.040179\n",
      "INFO:root:healing successful: False, 2021-12-04 16:38:59.098206\n",
      "INFO:root:healing successful: False, 2021-12-04 16:39:04.167503\n",
      "INFO:root:healing successful: False, 2021-12-04 16:39:09.235811\n",
      "INFO:root:healing successful: False, 2021-12-04 16:39:14.292914\n",
      "INFO:root:healing successful: False, 2021-12-04 16:39:19.336020\n",
      "INFO:root:healing successful: False, 2021-12-04 16:39:24.390041\n",
      "INFO:root:healing successful: False, 2021-12-04 16:39:29.450879\n"
     ]
    }
   ],
   "source": [
    "memory.partitions"
   ]
  }
 ],
 "metadata": {
  "kernelspec": {
   "display_name": "Python 3",
   "language": "python",
   "name": "python3"
  },
  "language_info": {
   "codemirror_mode": {
    "name": "ipython",
    "version": 3
   },
   "file_extension": ".py",
   "mimetype": "text/x-python",
   "name": "python",
   "nbconvert_exporter": "python",
   "pygments_lexer": "ipython3",
   "version": "3.7.7"
  }
 },
 "nbformat": 4,
 "nbformat_minor": 2
}
