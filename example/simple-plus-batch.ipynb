{
 "cells": [
  {
   "cell_type": "code",
   "execution_count": 1,
   "metadata": {},
   "outputs": [],
   "source": [
    "import waterhealer as wh\n",
    "import json"
   ]
  },
  {
   "cell_type": "code",
   "execution_count": 2,
   "metadata": {},
   "outputs": [],
   "source": [
    "source = wh.from_kafka(\n",
    "    ['testing'],\n",
    "    {\n",
    "        'bootstrap.servers': 'localhost:9095, localhost:9096',\n",
    "        'group.id': 'group3',\n",
    "        'auto.offset.reset': 'latest',\n",
    "    })"
   ]
  },
  {
   "cell_type": "code",
   "execution_count": 3,
   "metadata": {},
   "outputs": [],
   "source": [
    "def json_loads(row):\n",
    "    return (row[0], json.loads(row[1]))\n",
    "\n",
    "def plus(row):\n",
    "    no = row[1]['no']\n",
    "    if no > 12:\n",
    "        raise Exception('row is bigger than 12')\n",
    "    return (row[0], no + 1)"
   ]
  },
  {
   "cell_type": "code",
   "execution_count": 4,
   "metadata": {},
   "outputs": [
    {
     "data": {
      "application/vnd.jupyter.widget-view+json": {
       "model_id": "bd52bc4dc2f14ee5b7775ef4e59fc2ab",
       "version_major": 2,
       "version_minor": 0
      },
      "text/plain": [
       "Output()"
      ]
     },
     "metadata": {},
     "output_type": "display_data"
    }
   ],
   "source": [
    "outputs = []\n",
    "source.map(json_loads).map(plus).partition(5)\\\n",
    ".map(wh.healing_batch, stream = source, callback = print)\\\n",
    ".flatten().sink(outputs.append)"
   ]
  },
  {
   "cell_type": "code",
   "execution_count": 5,
   "metadata": {},
   "outputs": [],
   "source": [
    "source.start()"
   ]
  },
  {
   "cell_type": "code",
   "execution_count": 6,
   "metadata": {},
   "outputs": [],
   "source": [
    "from kafka import KafkaProducer\n",
    "from kafka.partitioner import RoundRobinPartitioner"
   ]
  },
  {
   "cell_type": "code",
   "execution_count": 7,
   "metadata": {},
   "outputs": [],
   "source": [
    "producer = KafkaProducer(\n",
    "    bootstrap_servers = ['localhost:9095', 'localhost:9096'],\n",
    "    api_version = (0, 10),\n",
    "    partitioner = RoundRobinPartitioner(),\n",
    ")"
   ]
  },
  {
   "cell_type": "code",
   "execution_count": 8,
   "metadata": {},
   "outputs": [
    {
     "data": {
      "text/plain": [
       "True"
      ]
     },
     "execution_count": 8,
     "metadata": {},
     "output_type": "execute_result"
    }
   ],
   "source": [
    "producer.bootstrap_connected()"
   ]
  },
  {
   "cell_type": "code",
   "execution_count": 9,
   "metadata": {},
   "outputs": [],
   "source": [
    "from datetime import datetime\n",
    "import json\n",
    "from itertools import cycle\n",
    "\n",
    "def publish_message(producer_instance, topic_name, key, value):\n",
    "    try:\n",
    "        key_bytes = bytes(key, encoding = 'utf-8')\n",
    "        value_bytes = bytes(value, encoding = 'utf-8')\n",
    "        x = producer_instance.send(topic_name, value = value_bytes)\n",
    "        return True\n",
    "    except Exception as ex:\n",
    "        print('Exception in publishing message')\n",
    "        print(str(ex))\n",
    "        return False"
   ]
  },
  {
   "cell_type": "markdown",
   "metadata": {},
   "source": [
    "## purposely raise the error\n",
    "\n",
    "Based on function `plus`, if input bigger than 10, it will throw error."
   ]
  },
  {
   "cell_type": "code",
   "execution_count": 10,
   "metadata": {},
   "outputs": [
    {
     "data": {
      "text/plain": [
       "-1001"
      ]
     },
     "execution_count": 10,
     "metadata": {},
     "output_type": "execute_result"
    }
   ],
   "source": [
    "import confluent_kafka as ck\n",
    "\n",
    "source.consumer.committed([ck.TopicPartition('testing', 0)])[0].offset"
   ]
  },
  {
   "cell_type": "code",
   "execution_count": 20,
   "metadata": {
    "scrolled": true
   },
   "outputs": [
    {
     "name": "stdout",
     "output_type": "stream",
     "text": [
      "ExpiringDict([('4-54-testing', {'partition': 4, 'offset': 54, 'topic': 'testing'}), ('4-55-testing', {'partition': 4, 'offset': 55, 'topic': 'testing'})]) 2\n",
      "ExpiringDict([('4-54-testing', {'partition': 4, 'offset': 54, 'topic': 'testing'}), ('4-55-testing', {'partition': 4, 'offset': 55, 'topic': 'testing'})]) 2\n",
      "ExpiringDict([('4-54-testing', {'partition': 4, 'offset': 54, 'topic': 'testing'}), ('4-55-testing', {'partition': 4, 'offset': 55, 'topic': 'testing'})]) 2\n",
      "ExpiringDict([('4-54-testing', {'partition': 4, 'offset': 54, 'topic': 'testing'}), ('4-55-testing', {'partition': 4, 'offset': 55, 'topic': 'testing'})]) 2\n",
      "ExpiringDict([('4-54-testing', {'partition': 4, 'offset': 54, 'topic': 'testing'}), ('4-55-testing', {'partition': 4, 'offset': 55, 'topic': 'testing'})]) 2\n",
      "ExpiringDict([('4-54-testing', {'partition': 4, 'offset': 54, 'topic': 'testing'}), ('4-55-testing', {'partition': 4, 'offset': 55, 'topic': 'testing'})]) 2\n",
      "ExpiringDict([('4-54-testing', {'partition': 4, 'offset': 54, 'topic': 'testing'}), ('4-55-testing', {'partition': 4, 'offset': 55, 'topic': 'testing'})]) 2\n",
      "ExpiringDict([('4-54-testing', {'partition': 4, 'offset': 54, 'topic': 'testing'}), ('4-55-testing', {'partition': 4, 'offset': 55, 'topic': 'testing'})]) 2\n",
      "ExpiringDict([('4-54-testing', {'partition': 4, 'offset': 54, 'topic': 'testing'}), ('4-55-testing', {'partition': 4, 'offset': 55, 'topic': 'testing'})]) 2\n",
      "ExpiringDict([('4-54-testing', {'partition': 4, 'offset': 54, 'topic': 'testing'}), ('4-55-testing', {'partition': 4, 'offset': 55, 'topic': 'testing'})]) 2\n",
      "ExpiringDict([('4-54-testing', {'partition': 4, 'offset': 54, 'topic': 'testing'}), ('4-55-testing', {'partition': 4, 'offset': 55, 'topic': 'testing'})]) 2\n",
      "ExpiringDict([('4-54-testing', {'partition': 4, 'offset': 54, 'topic': 'testing'}), ('4-55-testing', {'partition': 4, 'offset': 55, 'topic': 'testing'})]) 2\n",
      "ExpiringDict([('4-54-testing', {'partition': 4, 'offset': 54, 'topic': 'testing'}), ('4-55-testing', {'partition': 4, 'offset': 55, 'topic': 'testing'})]) 2\n",
      "ExpiringDict([('4-54-testing', {'partition': 4, 'offset': 54, 'topic': 'testing'}), ('4-55-testing', {'partition': 4, 'offset': 55, 'topic': 'testing'})]) 2\n"
     ]
    }
   ],
   "source": [
    "import time\n",
    "\n",
    "for count in range(14):\n",
    "    data = {'no': count, 'datetime': str(datetime.now())}\n",
    "    publish_message(\n",
    "        producer, 'testing', 'streaming', json.dumps(data)\n",
    "    )\n",
    "    print(source.memory, len(source.memory))\n",
    "    time.sleep(1.0)"
   ]
  },
  {
   "cell_type": "code",
   "execution_count": 21,
   "metadata": {},
   "outputs": [
    {
     "data": {
      "text/plain": [
       "ExpiringDict([('4-54-testing',\n",
       "               {'partition': 4, 'offset': 54, 'topic': 'testing'}),\n",
       "              ('4-55-testing',\n",
       "               {'partition': 4, 'offset': 55, 'topic': 'testing'})])"
      ]
     },
     "execution_count": 21,
     "metadata": {},
     "output_type": "execute_result"
    }
   ],
   "source": [
    "source.memory"
   ]
  }
 ],
 "metadata": {
  "kernelspec": {
   "display_name": "Python 3",
   "language": "python",
   "name": "python3"
  },
  "language_info": {
   "codemirror_mode": {
    "name": "ipython",
    "version": 3
   },
   "file_extension": ".py",
   "mimetype": "text/x-python",
   "name": "python",
   "nbconvert_exporter": "python",
   "pygments_lexer": "ipython3",
   "version": "3.7.5"
  }
 },
 "nbformat": 4,
 "nbformat_minor": 2
}
