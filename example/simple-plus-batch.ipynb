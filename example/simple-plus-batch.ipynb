{
 "cells": [
  {
   "cell_type": "code",
   "execution_count": 1,
   "metadata": {},
   "outputs": [],
   "source": [
    "import waterhealer as wh\n",
    "import json"
   ]
  },
  {
   "cell_type": "code",
   "execution_count": 2,
   "metadata": {},
   "outputs": [],
   "source": [
    "source = wh.from_kafka(\n",
    "    ['testing'],\n",
    "    {\n",
    "        'bootstrap.servers': 'localhost:9095, localhost:9096',\n",
    "        'group.id': 'group-test-3',\n",
    "        'auto.offset.reset': 'latest',\n",
    "    },\n",
    "    debug = True)"
   ]
  },
  {
   "cell_type": "code",
   "execution_count": 3,
   "metadata": {},
   "outputs": [],
   "source": [
    "def json_loads(row):\n",
    "    return (row[0], json.loads(row[1]))\n",
    "\n",
    "def plus(row):\n",
    "    no = row[1]['no']\n",
    "    if no > 12:\n",
    "        raise Exception('row is bigger than 12')\n",
    "    return (row[0], no + 1)"
   ]
  },
  {
   "cell_type": "code",
   "execution_count": 4,
   "metadata": {},
   "outputs": [
    {
     "data": {
      "application/vnd.jupyter.widget-view+json": {
       "model_id": "25f2f2a5e7db4fd1826f1c6124a35896",
       "version_major": 2,
       "version_minor": 0
      },
      "text/plain": [
       "Output()"
      ]
     },
     "metadata": {},
     "output_type": "display_data"
    }
   ],
   "source": [
    "outputs = []\n",
    "source.map(json_loads).map(plus).partition(5)\\\n",
    ".map(wh.healing_batch, stream = source)\\\n",
    ".flatten().sink(outputs.append)"
   ]
  },
  {
   "cell_type": "code",
   "execution_count": 5,
   "metadata": {},
   "outputs": [],
   "source": [
    "source.start()"
   ]
  },
  {
   "cell_type": "code",
   "execution_count": 6,
   "metadata": {},
   "outputs": [],
   "source": [
    "from kafka import KafkaProducer\n",
    "from kafka.partitioner import RoundRobinPartitioner"
   ]
  },
  {
   "cell_type": "code",
   "execution_count": 7,
   "metadata": {},
   "outputs": [],
   "source": [
    "producer = KafkaProducer(\n",
    "    bootstrap_servers = ['localhost:9095', 'localhost:9096'],\n",
    "    api_version = (0, 10),\n",
    "    partitioner = RoundRobinPartitioner(),\n",
    ")"
   ]
  },
  {
   "cell_type": "code",
   "execution_count": 8,
   "metadata": {},
   "outputs": [
    {
     "data": {
      "text/plain": [
       "True"
      ]
     },
     "execution_count": 8,
     "metadata": {},
     "output_type": "execute_result"
    }
   ],
   "source": [
    "producer.bootstrap_connected()"
   ]
  },
  {
   "cell_type": "code",
   "execution_count": 9,
   "metadata": {},
   "outputs": [],
   "source": [
    "from datetime import datetime\n",
    "import json\n",
    "from itertools import cycle\n",
    "\n",
    "def publish_message(producer_instance, topic_name, key, value):\n",
    "    try:\n",
    "        key_bytes = bytes(key, encoding = 'utf-8')\n",
    "        value_bytes = bytes(value, encoding = 'utf-8')\n",
    "        x = producer_instance.send(topic_name, value = value_bytes)\n",
    "        return True\n",
    "    except Exception as ex:\n",
    "        print('Exception in publishing message')\n",
    "        print(str(ex))\n",
    "        return False"
   ]
  },
  {
   "cell_type": "markdown",
   "metadata": {},
   "source": [
    "## purposely raise the error\n",
    "\n",
    "Based on function `plus`, if input bigger than 10, it will throw error."
   ]
  },
  {
   "cell_type": "code",
   "execution_count": 10,
   "metadata": {},
   "outputs": [
    {
     "data": {
      "text/plain": [
       "-1001"
      ]
     },
     "execution_count": 10,
     "metadata": {},
     "output_type": "execute_result"
    }
   ],
   "source": [
    "import confluent_kafka as ck\n",
    "\n",
    "source.consumer.committed([ck.TopicPartition('testing', 0)])[0].offset"
   ]
  },
  {
   "cell_type": "code",
   "execution_count": 11,
   "metadata": {
    "scrolled": false
   },
   "outputs": [
    {
     "name": "stdout",
     "output_type": "stream",
     "text": [
      "{'no': 0, 'datetime': '2020-03-07 20:19:08.037626'}\n"
     ]
    },
    {
     "name": "stderr",
     "output_type": "stream",
     "text": [
      "topic: testing, partition: 0, offset: 197, data: b'{\"no\": 0, \"datetime\": \"2020-03-07 20:19:08.037626\"}'\n"
     ]
    },
    {
     "name": "stdout",
     "output_type": "stream",
     "text": [
      "{'no': 1, 'datetime': '2020-03-07 20:19:09.043994'}\n"
     ]
    },
    {
     "name": "stderr",
     "output_type": "stream",
     "text": [
      "topic: testing, partition: 1, offset: 175, data: b'{\"no\": 1, \"datetime\": \"2020-03-07 20:19:09.043994\"}'\n",
      "topic: testing, partition: 2, offset: 183, data: b'{\"no\": 2, \"datetime\": \"2020-03-07 20:19:10.047402\"}'\n"
     ]
    },
    {
     "name": "stdout",
     "output_type": "stream",
     "text": [
      "{'no': 2, 'datetime': '2020-03-07 20:19:10.047402'}\n"
     ]
    },
    {
     "name": "stderr",
     "output_type": "stream",
     "text": [
      "topic: testing, partition: 3, offset: 163, data: b'{\"no\": 3, \"datetime\": \"2020-03-07 20:19:11.050406\"}'\n"
     ]
    },
    {
     "name": "stdout",
     "output_type": "stream",
     "text": [
      "{'no': 3, 'datetime': '2020-03-07 20:19:11.050406'}\n"
     ]
    },
    {
     "name": "stderr",
     "output_type": "stream",
     "text": [
      "topic: testing, partition: 4, offset: 156, data: b'{\"no\": 4, \"datetime\": \"2020-03-07 20:19:12.053250\"}'\n"
     ]
    },
    {
     "name": "stdout",
     "output_type": "stream",
     "text": [
      "{'no': 4, 'datetime': '2020-03-07 20:19:12.053250'}\n",
      "{'no': 5, 'datetime': '2020-03-07 20:19:13.055263'}\n"
     ]
    },
    {
     "name": "stderr",
     "output_type": "stream",
     "text": [
      "topic: testing, partition: 5, offset: 143, data: b'{\"no\": 5, \"datetime\": \"2020-03-07 20:19:13.055263\"}'\n",
      "topic: testing, partition: 6, offset: 145, data: b'{\"no\": 6, \"datetime\": \"2020-03-07 20:19:14.056946\"}'\n"
     ]
    },
    {
     "name": "stdout",
     "output_type": "stream",
     "text": [
      "{'no': 6, 'datetime': '2020-03-07 20:19:14.056946'}\n"
     ]
    },
    {
     "name": "stderr",
     "output_type": "stream",
     "text": [
      "topic: testing, partition: 7, offset: 139, data: b'{\"no\": 7, \"datetime\": \"2020-03-07 20:19:15.061254\"}'\n"
     ]
    },
    {
     "name": "stdout",
     "output_type": "stream",
     "text": [
      "{'no': 7, 'datetime': '2020-03-07 20:19:15.061254'}\n"
     ]
    },
    {
     "name": "stderr",
     "output_type": "stream",
     "text": [
      "topic: testing, partition: 8, offset: 142, data: b'{\"no\": 8, \"datetime\": \"2020-03-07 20:19:16.066406\"}'\n"
     ]
    },
    {
     "name": "stdout",
     "output_type": "stream",
     "text": [
      "{'no': 8, 'datetime': '2020-03-07 20:19:16.066406'}\n"
     ]
    },
    {
     "name": "stderr",
     "output_type": "stream",
     "text": [
      "topic: testing, partition: 9, offset: 135, data: b'{\"no\": 9, \"datetime\": \"2020-03-07 20:19:17.068088\"}'\n"
     ]
    },
    {
     "name": "stdout",
     "output_type": "stream",
     "text": [
      "{'no': 9, 'datetime': '2020-03-07 20:19:17.068088'}\n",
      "{'no': 10, 'datetime': '2020-03-07 20:19:18.069403'}\n"
     ]
    },
    {
     "name": "stderr",
     "output_type": "stream",
     "text": [
      "topic: testing, partition: 0, offset: 198, data: b'{\"no\": 10, \"datetime\": \"2020-03-07 20:19:18.069403\"}'\n",
      "topic: testing, partition: 1, offset: 176, data: b'{\"no\": 11, \"datetime\": \"2020-03-07 20:19:19.074100\"}'\n"
     ]
    },
    {
     "name": "stdout",
     "output_type": "stream",
     "text": [
      "{'no': 11, 'datetime': '2020-03-07 20:19:19.074100'}\n"
     ]
    },
    {
     "name": "stderr",
     "output_type": "stream",
     "text": [
      "topic: testing, partition: 2, offset: 184, data: b'{\"no\": 12, \"datetime\": \"2020-03-07 20:19:20.077335\"}'\n"
     ]
    },
    {
     "name": "stdout",
     "output_type": "stream",
     "text": [
      "{'no': 12, 'datetime': '2020-03-07 20:19:20.077335'}\n"
     ]
    },
    {
     "name": "stderr",
     "output_type": "stream",
     "text": [
      "topic: testing, partition: 3, offset: 164, data: b'{\"no\": 13, \"datetime\": \"2020-03-07 20:19:21.078260\"}'\n",
      "row is bigger than 12\n",
      "Traceback (most recent call last):\n",
      "  File \"/usr/local/lib/python3.7/site-packages/streamz/core.py\", line 578, in update\n",
      "    result = self.func(x, *self.args, **self.kwargs)\n",
      "  File \"<ipython-input-3-f850c9be8189>\", line 7, in plus\n",
      "    raise Exception('row is bigger than 12')\n",
      "Exception: row is bigger than 12\n",
      "tornado.application - ERROR - Exception in callback functools.partial(<bound method IOLoop._discard_future_result of <zmq.eventloop.ioloop.ZMQIOLoop object at 0x112d177d0>>, <Future finished exception=Exception('row is bigger than 12')>)\n",
      "Traceback (most recent call last):\n",
      "  File \"/usr/local/lib/python3.7/site-packages/tornado/ioloop.py\", line 743, in _run_callback\n",
      "    ret = callback()\n",
      "  File \"/usr/local/lib/python3.7/site-packages/tornado/ioloop.py\", line 767, in _discard_future_result\n",
      "    future.result()\n",
      "  File \"/usr/local/lib/python3.7/site-packages/tornado/gen.py\", line 748, in run\n",
      "    yielded = self.gen.send(value)\n",
      "  File \"/Users/huseinzolkepli/Documents/water-healer/waterhealer/core.py\", line 232, in poll_kafka\n",
      "    yield self._emit((id_val, val))\n",
      "  File \"/usr/local/lib/python3.7/site-packages/streamz/core.py\", line 325, in _emit\n",
      "    r = downstream.update(x, who=self)\n",
      "  File \"/usr/local/lib/python3.7/site-packages/streamz/core.py\", line 583, in update\n",
      "    return self._emit(result)\n",
      "  File \"/usr/local/lib/python3.7/site-packages/streamz/core.py\", line 325, in _emit\n",
      "    r = downstream.update(x, who=self)\n",
      "  File \"/usr/local/lib/python3.7/site-packages/streamz/core.py\", line 578, in update\n",
      "    result = self.func(x, *self.args, **self.kwargs)\n",
      "  File \"<ipython-input-3-f850c9be8189>\", line 7, in plus\n",
      "    raise Exception('row is bigger than 12')\n",
      "Exception: row is bigger than 12\n"
     ]
    },
    {
     "name": "stdout",
     "output_type": "stream",
     "text": [
      "{'no': 13, 'datetime': '2020-03-07 20:19:21.078260'}\n"
     ]
    }
   ],
   "source": [
    "import time\n",
    "\n",
    "for count in range(14):\n",
    "    data = {'no': count, 'datetime': str(datetime.now())}\n",
    "    print(data)\n",
    "    publish_message(\n",
    "        producer, 'testing', 'streaming', json.dumps(data)\n",
    "    )\n",
    "    time.sleep(1.0)"
   ]
  },
  {
   "cell_type": "code",
   "execution_count": 12,
   "metadata": {},
   "outputs": [
    {
     "data": {
      "text/plain": [
       "[{'data': 1,\n",
       "  'success': True,\n",
       "  'reason': 'committed topic: testing partition: 0 offset: 197',\n",
       "  'partition': 0,\n",
       "  'offset': 197,\n",
       "  'topic': 'testing'},\n",
       " {'data': 2,\n",
       "  'success': True,\n",
       "  'reason': 'committed topic: testing partition: 1 offset: 175',\n",
       "  'partition': 1,\n",
       "  'offset': 175,\n",
       "  'topic': 'testing'},\n",
       " {'data': 3,\n",
       "  'success': True,\n",
       "  'reason': 'committed topic: testing partition: 2 offset: 183',\n",
       "  'partition': 2,\n",
       "  'offset': 183,\n",
       "  'topic': 'testing'},\n",
       " {'data': 4,\n",
       "  'success': True,\n",
       "  'reason': 'committed topic: testing partition: 3 offset: 163',\n",
       "  'partition': 3,\n",
       "  'offset': 163,\n",
       "  'topic': 'testing'},\n",
       " {'data': 5,\n",
       "  'success': True,\n",
       "  'reason': 'committed topic: testing partition: 4 offset: 156',\n",
       "  'partition': 4,\n",
       "  'offset': 156,\n",
       "  'topic': 'testing'},\n",
       " {'data': 6,\n",
       "  'success': True,\n",
       "  'reason': 'committed topic: testing partition: 5 offset: 143',\n",
       "  'partition': 5,\n",
       "  'offset': 143,\n",
       "  'topic': 'testing'},\n",
       " {'data': 7,\n",
       "  'success': True,\n",
       "  'reason': 'committed topic: testing partition: 6 offset: 145',\n",
       "  'partition': 6,\n",
       "  'offset': 145,\n",
       "  'topic': 'testing'},\n",
       " {'data': 8,\n",
       "  'success': True,\n",
       "  'reason': 'committed topic: testing partition: 7 offset: 139',\n",
       "  'partition': 7,\n",
       "  'offset': 139,\n",
       "  'topic': 'testing'},\n",
       " {'data': 9,\n",
       "  'success': True,\n",
       "  'reason': 'committed topic: testing partition: 8 offset: 142',\n",
       "  'partition': 8,\n",
       "  'offset': 142,\n",
       "  'topic': 'testing'},\n",
       " {'data': 10,\n",
       "  'success': True,\n",
       "  'reason': 'committed topic: testing partition: 9 offset: 135',\n",
       "  'partition': 9,\n",
       "  'offset': 135,\n",
       "  'topic': 'testing'}]"
      ]
     },
     "execution_count": 12,
     "metadata": {},
     "output_type": "execute_result"
    }
   ],
   "source": [
    "outputs"
   ]
  },
  {
   "cell_type": "markdown",
   "metadata": {},
   "source": [
    "Problem with `healing_batch`, if a message throw an exception, entire batch will not update.\n",
    "\n",
    "As you can see, we don't get data for 11 and 12."
   ]
  }
 ],
 "metadata": {
  "kernelspec": {
   "display_name": "Python 3",
   "language": "python",
   "name": "python3"
  },
  "language_info": {
   "codemirror_mode": {
    "name": "ipython",
    "version": 3
   },
   "file_extension": ".py",
   "mimetype": "text/x-python",
   "name": "python",
   "nbconvert_exporter": "python",
   "pygments_lexer": "ipython3",
   "version": "3.7.7"
  }
 },
 "nbformat": 4,
 "nbformat_minor": 2
}
