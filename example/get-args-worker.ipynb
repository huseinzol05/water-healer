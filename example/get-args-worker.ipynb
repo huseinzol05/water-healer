{
 "cells": [
  {
   "cell_type": "code",
   "execution_count": 1,
   "metadata": {},
   "outputs": [
    {
     "data": {
      "text/plain": [
       "'0.0.19'"
      ]
     },
     "execution_count": 1,
     "metadata": {},
     "output_type": "execute_result"
    }
   ],
   "source": [
    "from streamz import Stream\n",
    "from dask.distributed import Client\n",
    "import waterhealer as wh\n",
    "\n",
    "client = Client()\n",
    "source = Stream(loop = client.loop)\n",
    "wh.__version__"
   ]
  },
  {
   "cell_type": "code",
   "execution_count": 5,
   "metadata": {},
   "outputs": [],
   "source": [
    "class A:\n",
    "    def __init__(self):\n",
    "        self.data = []\n",
    "        \n",
    "aa = A()"
   ]
  },
  {
   "cell_type": "code",
   "execution_count": 6,
   "metadata": {},
   "outputs": [
    {
     "data": {
      "application/vnd.jupyter.widget-view+json": {
       "model_id": "4db5598f360043e69baba8c13a350ed1",
       "version_major": 2,
       "version_minor": 0
      },
      "text/plain": [
       "Output()"
      ]
     },
     "metadata": {},
     "output_type": "display_data"
    }
   ],
   "source": [
    "r = []\n",
    "\n",
    "source = Stream()\n",
    "s = source.scatter()\n",
    "a = s.partition_time(5).map(first, aa)\n",
    "a.map(second, aa).buffer(8).gather().flatten().sink(r.append)"
   ]
  },
  {
   "cell_type": "code",
   "execution_count": 16,
   "metadata": {
    "scrolled": true
   },
   "outputs": [
    {
     "data": {
      "text/plain": [
       "[[<Future: finished, type: builtins.str, key: str-46f1e42e5bea573c696a4ce64c5a813f>,\n",
       "  <Future: finished, type: builtins.str, key: str-63ae9bf806103bfff4424358b6338703>,\n",
       "  <Future: finished, type: builtins.str, key: str-1e78e4c68ba0604143ea3c0ded31f953>,\n",
       "  <Future: finished, type: builtins.str, key: str-59bf217ac7cb0c104062fdd0a48fe280>,\n",
       "  <Future: finished, type: builtins.str, key: str-25be16e8f076d8dffa79c9c424faa180>,\n",
       "  <Future: finished, type: builtins.str, key: str-5e2c48a9ecda2625f914c24dbc80ba7f>,\n",
       "  <Future: finished, type: builtins.str, key: str-d01b32e65e5cbc12cd25de6941ebb63c>,\n",
       "  <Future: finished, type: builtins.str, key: str-43ed5057be6689c0bb0260910283ed1d>,\n",
       "  <Future: finished, type: builtins.str, key: str-9c38a3c084ec03d6a1bd42e07a3b2d53>,\n",
       "  <Future: finished, type: builtins.str, key: str-a784c284128d84114d90c6f1423708af>,\n",
       "  <Future: finished, type: builtins.str, key: str-763fe7595e1aa7b19b0b1d21e976cebb>,\n",
       "  <Future: finished, type: builtins.str, key: str-d1d9dbd76f53dfd427bbf43e01957fdf>,\n",
       "  <Future: finished, type: builtins.str, key: str-d6bafc0afb058c60d4bbd9c8d422c69b>,\n",
       "  <Future: finished, type: builtins.str, key: str-30ba1ffdd1d74e57fcdb5152e3cb478a>,\n",
       "  <Future: finished, type: builtins.str, key: str-2b0eaed5b78b8ade1e2720f79b9cc052>,\n",
       "  <Future: finished, type: builtins.str, key: str-3c98228b8a19a77d09e123c64a1c7df1>,\n",
       "  <Future: finished, type: builtins.str, key: str-915420cc590ab0812f59250008f13952>,\n",
       "  <Future: finished, type: builtins.str, key: str-a83185e920a7d4aeac111284ce273345>,\n",
       "  <Future: finished, type: builtins.str, key: str-e25e0652fe4f256b3a08e09f5101daaa>,\n",
       "  <Future: finished, type: builtins.str, key: str-ed7513691e0f3faca43819433c1cb3a9>,\n",
       "  <Future: finished, type: builtins.str, key: str-20fc07adff5f96a9e58f36d41ca361b3>,\n",
       "  <Future: finished, type: builtins.str, key: str-fbcc6ef7485d9b039aa749bf442cb9a8>,\n",
       "  <Future: finished, type: builtins.str, key: str-83bec675816e26c57826e2453c5fae7c>,\n",
       "  <Future: finished, type: builtins.str, key: str-76d5340aca1ab7cc9b0a2856cd62bc9e>,\n",
       "  <Future: finished, type: builtins.str, key: str-762dab044cf2197efa91ea38a42a17ce>,\n",
       "  <Future: finished, type: builtins.str, key: str-feebb41a387055643d029d9c92ca7604>,\n",
       "  <Future: finished, type: builtins.str, key: str-2087ab6dd388b59693f53944d90d12c6>,\n",
       "  <Future: finished, type: builtins.str, key: str-8d3cd155fa37f357de5ac1aa9faa981f>,\n",
       "  <Future: finished, type: builtins.str, key: str-35a46d6b1787297a307119729fb771b6>,\n",
       "  <Future: finished, type: builtins.str, key: str-ca29b7fb639908541ad084f5ec007e37>,\n",
       "  <Future: finished, type: builtins.str, key: str-78047f80944d22fbe634a254b2ecd39d>,\n",
       "  <Future: finished, type: builtins.str, key: str-2852d14da35e6c7470b0f0a8eb3b3d36>,\n",
       "  <Future: finished, type: builtins.str, key: str-de5ad826d3e8364f54b8920ea0298601>,\n",
       "  <Future: finished, type: builtins.str, key: str-cefc8e7a3d7a6ce90efe19943d0f3664>,\n",
       "  <Future: finished, type: builtins.str, key: str-dc6e0dcdc63de0fd89a95b595ce8618b>,\n",
       "  <Future: finished, type: builtins.str, key: str-469d877887873f5dc1e60f06cc942776>,\n",
       "  <Future: finished, type: builtins.str, key: str-c11cf846cd66ab4c49bee8fcdf9d65dc>,\n",
       "  <Future: finished, type: builtins.str, key: str-0d148defbec8ce4a137bd5eb65a7a4ec>,\n",
       "  <Future: finished, type: builtins.str, key: str-77f8c7afcf162064e44fdf4ca3c2e6c0>,\n",
       "  <Future: finished, type: builtins.str, key: str-058c3b58c7afcb8a4ba46c10fab6f427>,\n",
       "  <Future: finished, type: builtins.str, key: str-6ea42abdfbad446057a7ef9a07fa9a70>,\n",
       "  <Future: finished, type: builtins.str, key: str-5e9497adea2238e33e672b6a48f3405e>,\n",
       "  <Future: finished, type: builtins.str, key: str-3beacbc5779aa54bb8ed42d9313866b4>,\n",
       "  <Future: finished, type: builtins.str, key: str-975751a1239c3bdfb3e63e9ed0470682>,\n",
       "  <Future: finished, type: builtins.str, key: str-160bf9eaafeb5821062f7605e7045c14>,\n",
       "  <Future: finished, type: builtins.str, key: str-cec919255789712d2fed292190ffabd5>,\n",
       "  <Future: finished, type: builtins.str, key: str-78fe7141c722a0e5ce28674dbbdb7fbe>,\n",
       "  <Future: finished, type: builtins.str, key: str-a2f06e26dfb2f88fb5c41c56bb712ad6>,\n",
       "  <Future: finished, type: builtins.str, key: str-5942f9ef76e4e3adaf5e5b1a674c7867>,\n",
       "  <Future: finished, type: builtins.str, key: str-e1a0a9789a2379e3f2c085eaa5a92174>],\n",
       " <Future: finished, type: builtins.list, key: first-9f4401c3a92644282e79c32120052b97>]"
      ]
     },
     "execution_count": 16,
     "metadata": {},
     "output_type": "execute_result"
    }
   ],
   "source": [
    "aa.data"
   ]
  },
  {
   "cell_type": "code",
   "execution_count": 10,
   "metadata": {},
   "outputs": [],
   "source": [
    "from distributed import Future\n",
    "first-9f4401c3a92644282e79c32120052b97"
   ]
  },
  {
   "cell_type": "code",
   "execution_count": 17,
   "metadata": {},
   "outputs": [
    {
     "data": {
      "text/plain": [
       "{'str-46f1e42e5bea573c696a4ce64c5a813f': <FutureState: finished>,\n",
       " 'str-63ae9bf806103bfff4424358b6338703': <FutureState: finished>,\n",
       " 'str-1e78e4c68ba0604143ea3c0ded31f953': <FutureState: finished>,\n",
       " 'str-59bf217ac7cb0c104062fdd0a48fe280': <FutureState: finished>,\n",
       " 'str-25be16e8f076d8dffa79c9c424faa180': <FutureState: finished>,\n",
       " 'str-5e2c48a9ecda2625f914c24dbc80ba7f': <FutureState: finished>,\n",
       " 'str-d01b32e65e5cbc12cd25de6941ebb63c': <FutureState: finished>,\n",
       " 'str-43ed5057be6689c0bb0260910283ed1d': <FutureState: finished>,\n",
       " 'str-9c38a3c084ec03d6a1bd42e07a3b2d53': <FutureState: finished>,\n",
       " 'str-a784c284128d84114d90c6f1423708af': <FutureState: finished>,\n",
       " 'str-763fe7595e1aa7b19b0b1d21e976cebb': <FutureState: finished>,\n",
       " 'str-d1d9dbd76f53dfd427bbf43e01957fdf': <FutureState: finished>,\n",
       " 'str-d6bafc0afb058c60d4bbd9c8d422c69b': <FutureState: finished>,\n",
       " 'str-30ba1ffdd1d74e57fcdb5152e3cb478a': <FutureState: finished>,\n",
       " 'str-2b0eaed5b78b8ade1e2720f79b9cc052': <FutureState: finished>,\n",
       " 'str-3c98228b8a19a77d09e123c64a1c7df1': <FutureState: finished>,\n",
       " 'str-915420cc590ab0812f59250008f13952': <FutureState: finished>,\n",
       " 'str-a83185e920a7d4aeac111284ce273345': <FutureState: finished>,\n",
       " 'str-e25e0652fe4f256b3a08e09f5101daaa': <FutureState: finished>,\n",
       " 'str-ed7513691e0f3faca43819433c1cb3a9': <FutureState: finished>,\n",
       " 'str-20fc07adff5f96a9e58f36d41ca361b3': <FutureState: finished>,\n",
       " 'str-fbcc6ef7485d9b039aa749bf442cb9a8': <FutureState: finished>,\n",
       " 'str-83bec675816e26c57826e2453c5fae7c': <FutureState: finished>,\n",
       " 'str-76d5340aca1ab7cc9b0a2856cd62bc9e': <FutureState: finished>,\n",
       " 'str-762dab044cf2197efa91ea38a42a17ce': <FutureState: finished>,\n",
       " 'str-feebb41a387055643d029d9c92ca7604': <FutureState: finished>,\n",
       " 'str-2087ab6dd388b59693f53944d90d12c6': <FutureState: finished>,\n",
       " 'str-8d3cd155fa37f357de5ac1aa9faa981f': <FutureState: finished>,\n",
       " 'str-35a46d6b1787297a307119729fb771b6': <FutureState: finished>,\n",
       " 'str-ca29b7fb639908541ad084f5ec007e37': <FutureState: finished>,\n",
       " 'str-78047f80944d22fbe634a254b2ecd39d': <FutureState: finished>,\n",
       " 'str-2852d14da35e6c7470b0f0a8eb3b3d36': <FutureState: finished>,\n",
       " 'str-de5ad826d3e8364f54b8920ea0298601': <FutureState: finished>,\n",
       " 'str-cefc8e7a3d7a6ce90efe19943d0f3664': <FutureState: finished>,\n",
       " 'str-dc6e0dcdc63de0fd89a95b595ce8618b': <FutureState: finished>,\n",
       " 'str-469d877887873f5dc1e60f06cc942776': <FutureState: finished>,\n",
       " 'str-c11cf846cd66ab4c49bee8fcdf9d65dc': <FutureState: finished>,\n",
       " 'str-0d148defbec8ce4a137bd5eb65a7a4ec': <FutureState: finished>,\n",
       " 'str-77f8c7afcf162064e44fdf4ca3c2e6c0': <FutureState: finished>,\n",
       " 'str-058c3b58c7afcb8a4ba46c10fab6f427': <FutureState: finished>,\n",
       " 'str-6ea42abdfbad446057a7ef9a07fa9a70': <FutureState: finished>,\n",
       " 'str-5e9497adea2238e33e672b6a48f3405e': <FutureState: finished>,\n",
       " 'str-3beacbc5779aa54bb8ed42d9313866b4': <FutureState: finished>,\n",
       " 'str-975751a1239c3bdfb3e63e9ed0470682': <FutureState: finished>,\n",
       " 'str-160bf9eaafeb5821062f7605e7045c14': <FutureState: finished>,\n",
       " 'str-cec919255789712d2fed292190ffabd5': <FutureState: finished>,\n",
       " 'str-78fe7141c722a0e5ce28674dbbdb7fbe': <FutureState: finished>,\n",
       " 'str-a2f06e26dfb2f88fb5c41c56bb712ad6': <FutureState: finished>,\n",
       " 'str-5942f9ef76e4e3adaf5e5b1a674c7867': <FutureState: finished>,\n",
       " 'str-e1a0a9789a2379e3f2c085eaa5a92174': <FutureState: finished>,\n",
       " 'first-9f4401c3a92644282e79c32120052b97': <FutureState: finished>,\n",
       " 'second-346115df47f8c9c7b0df27e50f8e790f': <FutureState: error>}"
      ]
     },
     "execution_count": 17,
     "metadata": {},
     "output_type": "execute_result"
    }
   ],
   "source": [
    "client.futures"
   ]
  },
  {
   "cell_type": "code",
   "execution_count": 19,
   "metadata": {},
   "outputs": [
    {
     "data": {
      "text/plain": [
       "[{'value': 0, 'timestamp': '2020-06-22 23:31:33.902997'},\n",
       " {'value': 1, 'timestamp': '2020-06-22 23:31:33.909163'},\n",
       " {'value': 2, 'timestamp': '2020-06-22 23:31:33.912458'},\n",
       " {'value': 3, 'timestamp': '2020-06-22 23:31:33.917560'},\n",
       " {'value': 4, 'timestamp': '2020-06-22 23:31:33.920857'},\n",
       " {'value': 5, 'timestamp': '2020-06-22 23:31:33.925142'},\n",
       " {'value': 6, 'timestamp': '2020-06-22 23:31:33.928960'},\n",
       " {'value': 7, 'timestamp': '2020-06-22 23:31:33.933338'},\n",
       " {'value': 8, 'timestamp': '2020-06-22 23:31:33.936515'},\n",
       " {'value': 9, 'timestamp': '2020-06-22 23:31:33.940032'},\n",
       " {'value': 10, 'timestamp': '2020-06-22 23:31:33.944021'},\n",
       " {'value': 11, 'timestamp': '2020-06-22 23:31:33.948011'},\n",
       " {'value': 12, 'timestamp': '2020-06-22 23:31:33.950977'},\n",
       " {'value': 13, 'timestamp': '2020-06-22 23:31:33.954376'},\n",
       " {'value': 14, 'timestamp': '2020-06-22 23:31:33.958813'},\n",
       " {'value': 15, 'timestamp': '2020-06-22 23:31:33.965596'},\n",
       " {'value': 16, 'timestamp': '2020-06-22 23:31:33.969243'},\n",
       " {'value': 17, 'timestamp': '2020-06-22 23:31:33.972121'},\n",
       " {'value': 18, 'timestamp': '2020-06-22 23:31:33.975026'},\n",
       " {'value': 19, 'timestamp': '2020-06-22 23:31:33.979443'},\n",
       " {'value': 20, 'timestamp': '2020-06-22 23:31:33.983524'},\n",
       " {'value': 21, 'timestamp': '2020-06-22 23:31:33.986863'},\n",
       " {'value': 22, 'timestamp': '2020-06-22 23:31:33.989751'},\n",
       " {'value': 23, 'timestamp': '2020-06-22 23:31:33.993278'},\n",
       " {'value': 24, 'timestamp': '2020-06-22 23:31:33.996974'},\n",
       " {'value': 25, 'timestamp': '2020-06-22 23:31:34.000791'},\n",
       " {'value': 26, 'timestamp': '2020-06-22 23:31:34.003527'},\n",
       " {'value': 27, 'timestamp': '2020-06-22 23:31:34.006161'},\n",
       " {'value': 28, 'timestamp': '2020-06-22 23:31:34.008870'},\n",
       " {'value': 29, 'timestamp': '2020-06-22 23:31:34.011576'},\n",
       " {'value': 30, 'timestamp': '2020-06-22 23:31:34.014375'},\n",
       " {'value': 31, 'timestamp': '2020-06-22 23:31:34.016901'},\n",
       " {'value': 32, 'timestamp': '2020-06-22 23:31:34.019392'},\n",
       " {'value': 33, 'timestamp': '2020-06-22 23:31:34.021768'},\n",
       " {'value': 34, 'timestamp': '2020-06-22 23:31:34.024211'},\n",
       " {'value': 35, 'timestamp': '2020-06-22 23:31:34.026727'},\n",
       " {'value': 36, 'timestamp': '2020-06-22 23:31:34.029088'},\n",
       " {'value': 37, 'timestamp': '2020-06-22 23:31:34.031816'},\n",
       " {'value': 38, 'timestamp': '2020-06-22 23:31:34.034126'},\n",
       " {'value': 39, 'timestamp': '2020-06-22 23:31:34.036570'},\n",
       " {'value': 40, 'timestamp': '2020-06-22 23:31:34.038798'},\n",
       " {'value': 41, 'timestamp': '2020-06-22 23:31:34.041258'},\n",
       " {'value': 42, 'timestamp': '2020-06-22 23:31:34.043780'},\n",
       " {'value': 43, 'timestamp': '2020-06-22 23:31:34.046855'},\n",
       " {'value': 44, 'timestamp': '2020-06-22 23:31:34.049710'},\n",
       " {'value': 45, 'timestamp': '2020-06-22 23:31:34.052381'},\n",
       " {'value': 46, 'timestamp': '2020-06-22 23:31:34.054696'},\n",
       " {'value': 47, 'timestamp': '2020-06-22 23:31:34.057146'},\n",
       " {'value': 48, 'timestamp': '2020-06-22 23:31:34.059504'},\n",
       " {'value': 49, 'timestamp': '2020-06-22 23:31:34.062122'}]"
      ]
     },
     "execution_count": 19,
     "metadata": {},
     "output_type": "execute_result"
    }
   ],
   "source": [
    "client.gather(Future('first-9f4401c3a92644282e79c32120052b97'))"
   ]
  },
  {
   "cell_type": "code",
   "execution_count": 7,
   "metadata": {
    "scrolled": true
   },
   "outputs": [
    {
     "name": "stdout",
     "output_type": "stream",
     "text": [
      "{'value': 0, 'timestamp': '2020-06-22 23:31:33.902997'}\n",
      "{'value': 1, 'timestamp': '2020-06-22 23:31:33.909163'}\n",
      "{'value': 2, 'timestamp': '2020-06-22 23:31:33.912458'}\n",
      "{'value': 3, 'timestamp': '2020-06-22 23:31:33.917560'}\n",
      "{'value': 4, 'timestamp': '2020-06-22 23:31:33.920857'}\n",
      "{'value': 5, 'timestamp': '2020-06-22 23:31:33.925142'}\n",
      "{'value': 6, 'timestamp': '2020-06-22 23:31:33.928960'}\n",
      "{'value': 7, 'timestamp': '2020-06-22 23:31:33.933338'}\n",
      "{'value': 8, 'timestamp': '2020-06-22 23:31:33.936515'}\n",
      "{'value': 9, 'timestamp': '2020-06-22 23:31:33.940032'}\n",
      "{'value': 10, 'timestamp': '2020-06-22 23:31:33.944021'}\n",
      "{'value': 11, 'timestamp': '2020-06-22 23:31:33.948011'}\n",
      "{'value': 12, 'timestamp': '2020-06-22 23:31:33.950977'}\n",
      "{'value': 13, 'timestamp': '2020-06-22 23:31:33.954376'}\n",
      "{'value': 14, 'timestamp': '2020-06-22 23:31:33.958813'}\n",
      "{'value': 15, 'timestamp': '2020-06-22 23:31:33.965596'}\n",
      "{'value': 16, 'timestamp': '2020-06-22 23:31:33.969243'}\n",
      "{'value': 17, 'timestamp': '2020-06-22 23:31:33.972121'}\n",
      "{'value': 18, 'timestamp': '2020-06-22 23:31:33.975026'}\n",
      "{'value': 19, 'timestamp': '2020-06-22 23:31:33.979443'}\n",
      "{'value': 20, 'timestamp': '2020-06-22 23:31:33.983524'}\n",
      "{'value': 21, 'timestamp': '2020-06-22 23:31:33.986863'}\n",
      "{'value': 22, 'timestamp': '2020-06-22 23:31:33.989751'}\n",
      "{'value': 23, 'timestamp': '2020-06-22 23:31:33.993278'}\n",
      "{'value': 24, 'timestamp': '2020-06-22 23:31:33.996974'}\n",
      "{'value': 25, 'timestamp': '2020-06-22 23:31:34.000791'}\n",
      "{'value': 26, 'timestamp': '2020-06-22 23:31:34.003527'}\n",
      "{'value': 27, 'timestamp': '2020-06-22 23:31:34.006161'}\n",
      "{'value': 28, 'timestamp': '2020-06-22 23:31:34.008870'}\n",
      "{'value': 29, 'timestamp': '2020-06-22 23:31:34.011576'}\n",
      "{'value': 30, 'timestamp': '2020-06-22 23:31:34.014375'}\n",
      "{'value': 31, 'timestamp': '2020-06-22 23:31:34.016901'}\n",
      "{'value': 32, 'timestamp': '2020-06-22 23:31:34.019392'}\n",
      "{'value': 33, 'timestamp': '2020-06-22 23:31:34.021768'}\n",
      "{'value': 34, 'timestamp': '2020-06-22 23:31:34.024211'}\n",
      "{'value': 35, 'timestamp': '2020-06-22 23:31:34.026727'}\n",
      "{'value': 36, 'timestamp': '2020-06-22 23:31:34.029088'}\n",
      "{'value': 37, 'timestamp': '2020-06-22 23:31:34.031816'}\n",
      "{'value': 38, 'timestamp': '2020-06-22 23:31:34.034126'}\n",
      "{'value': 39, 'timestamp': '2020-06-22 23:31:34.036570'}\n",
      "{'value': 40, 'timestamp': '2020-06-22 23:31:34.038798'}\n",
      "{'value': 41, 'timestamp': '2020-06-22 23:31:34.041258'}\n",
      "{'value': 42, 'timestamp': '2020-06-22 23:31:34.043780'}\n",
      "{'value': 43, 'timestamp': '2020-06-22 23:31:34.046855'}\n",
      "{'value': 44, 'timestamp': '2020-06-22 23:31:34.049710'}\n",
      "{'value': 45, 'timestamp': '2020-06-22 23:31:34.052381'}\n",
      "{'value': 46, 'timestamp': '2020-06-22 23:31:34.054696'}\n",
      "{'value': 47, 'timestamp': '2020-06-22 23:31:34.057146'}\n",
      "{'value': 48, 'timestamp': '2020-06-22 23:31:34.059504'}\n",
      "{'value': 49, 'timestamp': '2020-06-22 23:31:34.062122'}\n"
     ]
    },
    {
     "name": "stderr",
     "output_type": "stream",
     "text": [
      "tornado.application - ERROR - Exception in callback functools.partial(<bound method IOLoop._discard_future_result of <zmq.eventloop.ioloop.ZMQIOLoop object at 0x113a2c110>>, <Future finished exception=TypeError(\"'str' object does not support item assignment\")>)\n",
      "Traceback (most recent call last):\n",
      "  File \"/usr/local/lib/python3.7/site-packages/tornado/ioloop.py\", line 743, in _run_callback\n",
      "    ret = callback()\n",
      "  File \"/usr/local/lib/python3.7/site-packages/tornado/ioloop.py\", line 767, in _discard_future_result\n",
      "    future.result()\n",
      "  File \"/usr/local/lib/python3.7/site-packages/tornado/gen.py\", line 742, in run\n",
      "    yielded = self.gen.throw(*exc_info)  # type: ignore\n",
      "  File \"/usr/local/lib/python3.7/site-packages/streamz/core.py\", line 1009, in cb\n",
      "    yield self._emit(x)\n",
      "  File \"/usr/local/lib/python3.7/site-packages/tornado/gen.py\", line 735, in run\n",
      "    value = future.result()\n",
      "  File \"/usr/local/lib/python3.7/site-packages/tornado/gen.py\", line 501, in callback\n",
      "    result_list.append(f.result())\n",
      "  File \"/usr/local/lib/python3.7/site-packages/tornado/gen.py\", line 742, in run\n",
      "    yielded = self.gen.throw(*exc_info)  # type: ignore\n",
      "  File \"/usr/local/lib/python3.7/site-packages/streamz/dask.py\", line 123, in update\n",
      "    result = yield client.gather(x, asynchronous=True)\n",
      "  File \"/usr/local/lib/python3.7/site-packages/tornado/gen.py\", line 735, in run\n",
      "    value = future.result()\n",
      "  File \"/usr/local/lib/python3.7/site-packages/distributed/client.py\", line 1826, in _gather\n",
      "    raise exception.with_traceback(traceback)\n",
      "  File \"<ipython-input-2-f5f03e051437>\", line 17, in second\n",
      "    row['b'] = random.random()\n",
      "TypeError: 'str' object does not support item assignment\n"
     ]
    }
   ],
   "source": [
    "for i in range(50):\n",
    "    d = {'value': i, 'timestamp': str(datetime.now())}\n",
    "    print(d)\n",
    "    source.emit(json.dumps(d))"
   ]
  },
  {
   "cell_type": "code",
   "execution_count": null,
   "metadata": {
    "scrolled": true
   },
   "outputs": [],
   "source": [
    "import cloudpickle\n",
    "\n",
    "def get_args(client, key):\n",
    "    def _get_args(key, dask_scheduler = None):\n",
    "        ts = dask_scheduler.tasks.get(key)\n",
    "        return {'task': ts.run_spec}\n",
    "\n",
    "    s = client.run_on_scheduler(_get_args, key)\n",
    "    args = cloudpickle.loads(s['task']['args'])\n",
    "    \n",
    "    print(args)\n",
    "\n",
    "    if isinstance(args, tuple) or isinstance(args, list):\n",
    "        if len(args[0]) == 2:\n",
    "            if 'dict' not in args[0][1]:\n",
    "                data = args[0][0]\n",
    "            else:\n",
    "                data = args[0]\n",
    "        else:\n",
    "            data = args[0]\n",
    "    else:\n",
    "        data = args\n",
    "    return data"
   ]
  },
  {
   "cell_type": "code",
   "execution_count": null,
   "metadata": {},
   "outputs": [],
   "source": [
    "get_args(client, 'str-21678f8be93928df3782ba40da95f207')"
   ]
  },
  {
   "cell_type": "code",
   "execution_count": null,
   "metadata": {},
   "outputs": [],
   "source": [
    "def x(rows):\n",
    "    results = []\n",
    "    for row in rows:\n",
    "        results.append(row + 1)\n",
    "    return results\n",
    "\n",
    "def inc(x):\n",
    "    return x + 1"
   ]
  },
  {
   "cell_type": "code",
   "execution_count": null,
   "metadata": {},
   "outputs": [],
   "source": [
    "result = []\n",
    "source.partition_time(5).map(x).sink(result.append)"
   ]
  },
  {
   "cell_type": "code",
   "execution_count": null,
   "metadata": {},
   "outputs": [],
   "source": [
    "for i in range(10):\n",
    "    source.emit(i)"
   ]
  },
  {
   "cell_type": "code",
   "execution_count": null,
   "metadata": {},
   "outputs": [],
   "source": [
    "source.emit(1)"
   ]
  },
  {
   "cell_type": "code",
   "execution_count": null,
   "metadata": {},
   "outputs": [],
   "source": [
    "result"
   ]
  },
  {
   "cell_type": "code",
   "execution_count": null,
   "metadata": {},
   "outputs": [],
   "source": []
  }
 ],
 "metadata": {
  "kernelspec": {
   "display_name": "Python 3",
   "language": "python",
   "name": "python3"
  },
  "language_info": {
   "codemirror_mode": {
    "name": "ipython",
    "version": 3
   },
   "file_extension": ".py",
   "mimetype": "text/x-python",
   "name": "python",
   "nbconvert_exporter": "python",
   "pygments_lexer": "ipython3",
   "version": "3.7.5"
  }
 },
 "nbformat": 4,
 "nbformat_minor": 2
}
