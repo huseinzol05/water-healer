{
 "cells": [
  {
   "cell_type": "code",
   "execution_count": 1,
   "metadata": {},
   "outputs": [],
   "source": [
    "from dask.distributed import Client, LocalCluster\n",
    "from streamz import get_io_loop\n",
    "import waterhealer as wh\n",
    "import json"
   ]
  },
  {
   "cell_type": "code",
   "execution_count": 2,
   "metadata": {},
   "outputs": [],
   "source": [
    "loop = get_io_loop() # it is better took loop for each program."
   ]
  },
  {
   "cell_type": "code",
   "execution_count": 3,
   "metadata": {},
   "outputs": [
    {
     "data": {
      "text/html": [
       "<table style=\"border: 2px solid white;\">\n",
       "<tr>\n",
       "<td style=\"vertical-align: top; border: 0px solid white\">\n",
       "<h3 style=\"text-align: left;\">Client</h3>\n",
       "<ul style=\"text-align: left; list-style: none; margin: 0; padding: 0;\">\n",
       "  <li><b>Scheduler: </b>tcp://127.0.0.1:61195</li>\n",
       "  <li><b>Dashboard: </b><a href='http://127.0.0.1:8787/status' target='_blank'>http://127.0.0.1:8787/status</a>\n",
       "</ul>\n",
       "</td>\n",
       "<td style=\"vertical-align: top; border: 0px solid white\">\n",
       "<h3 style=\"text-align: left;\">Cluster</h3>\n",
       "<ul style=\"text-align: left; list-style:none; margin: 0; padding: 0;\">\n",
       "  <li><b>Workers: </b>4</li>\n",
       "  <li><b>Cores: </b>8</li>\n",
       "  <li><b>Memory: </b>17.18 GB</li>\n",
       "</ul>\n",
       "</td>\n",
       "</tr>\n",
       "</table>"
      ],
      "text/plain": [
       "<Client: 'tcp://127.0.0.1:61195' processes=4 threads=8, memory=17.18 GB>"
      ]
     },
     "execution_count": 3,
     "metadata": {},
     "output_type": "execute_result"
    }
   ],
   "source": [
    "client = Client('tcp://127.0.0.1:61195', loop = loop)\n",
    "client"
   ]
  },
  {
   "cell_type": "code",
   "execution_count": 4,
   "metadata": {},
   "outputs": [],
   "source": [
    "consumer_params = {\n",
    "    'bootstrap.servers': 'localhost:9095, localhost:9096',\n",
    "    'group.id': 'group-test-2',\n",
    "    'auto.offset.reset': 'latest',\n",
    "}\n",
    "\n",
    "source = wh.from_kafka_batched(\n",
    "    ['testing'],\n",
    "    consumer_params, dask = True, loop = loop, maxlen = 10)"
   ]
  },
  {
   "cell_type": "code",
   "execution_count": 5,
   "metadata": {},
   "outputs": [],
   "source": [
    "def json_loads(rows):\n",
    "    results = []\n",
    "    for row in rows:\n",
    "        results.append((row[0], json.loads(row[1])))\n",
    "    return results\n",
    "\n",
    "def plus(rows):\n",
    "    results = []\n",
    "    for row in rows:\n",
    "        no = row[1]['no']\n",
    "        if no > 200:\n",
    "            raise Exception('row is bigger than 50')\n",
    "        results.append((row[0], no + 1))\n",
    "    return results"
   ]
  },
  {
   "cell_type": "code",
   "execution_count": 6,
   "metadata": {},
   "outputs": [
    {
     "data": {
      "application/vnd.jupyter.widget-view+json": {
       "model_id": "c0ed1ff625004144a2d6a58f4d14cd1b",
       "version_major": 2,
       "version_minor": 0
      },
      "text/plain": [
       "Output()"
      ]
     },
     "metadata": {},
     "output_type": "display_data"
    }
   ],
   "source": [
    "outputs = []\n",
    "source.map(json_loads).map(plus)\\\n",
    ".buffer(5).gather().partition(5)\\\n",
    ".foreach_async(wh.healing_batch, stream = source, asynchronous = True)\\\n",
    ".flatten().flatten().sink(outputs.append)"
   ]
  },
  {
   "cell_type": "code",
   "execution_count": 7,
   "metadata": {},
   "outputs": [
    {
     "name": "stdout",
     "output_type": "stream",
     "text": [
      "TopicPartition{topic=testing,partition=0,offset=0,error=None}\n",
      "TopicPartition{topic=testing,partition=0,offset=0,error=None} 349 339\n",
      "TopicPartition{topic=testing,partition=1,offset=0,error=None}\n",
      "TopicPartition{topic=testing,partition=1,offset=0,error=None} 315 305\n",
      "TopicPartition{topic=testing,partition=2,offset=0,error=None}\n",
      "TopicPartition{topic=testing,partition=2,offset=0,error=None} 335 325\n",
      "TopicPartition{topic=testing,partition=3,offset=0,error=None}\n",
      "TopicPartition{topic=testing,partition=3,offset=0,error=None} 303 293\n",
      "TopicPartition{topic=testing,partition=4,offset=0,error=None}\n",
      "TopicPartition{topic=testing,partition=4,offset=0,error=None} 306 297\n",
      "TopicPartition{topic=testing,partition=5,offset=0,error=None}\n",
      "TopicPartition{topic=testing,partition=5,offset=0,error=None} 281 272\n",
      "TopicPartition{topic=testing,partition=6,offset=0,error=None}\n",
      "TopicPartition{topic=testing,partition=6,offset=0,error=None} 295 286\n",
      "TopicPartition{topic=testing,partition=7,offset=0,error=None}\n",
      "TopicPartition{topic=testing,partition=7,offset=0,error=None} 277 268\n",
      "TopicPartition{topic=testing,partition=8,offset=0,error=None}\n",
      "TopicPartition{topic=testing,partition=8,offset=0,error=None} 292 283\n",
      "TopicPartition{topic=testing,partition=9,offset=0,error=None}\n",
      "TopicPartition{topic=testing,partition=9,offset=0,error=None} 273 264\n",
      "TopicPartition{topic=testing,partition=0,offset=0,error=None}\n",
      "TopicPartition{topic=testing,partition=0,offset=0,error=None} 349 339\n",
      "TopicPartition{topic=testing,partition=1,offset=0,error=None}\n",
      "TopicPartition{topic=testing,partition=1,offset=0,error=None} 315 305\n",
      "TopicPartition{topic=testing,partition=2,offset=0,error=None}\n",
      "TopicPartition{topic=testing,partition=2,offset=0,error=None} 335 325\n",
      "TopicPartition{topic=testing,partition=3,offset=0,error=None}\n",
      "TopicPartition{topic=testing,partition=3,offset=0,error=None} 303 293\n",
      "TopicPartition{topic=testing,partition=4,offset=0,error=None}\n",
      "TopicPartition{topic=testing,partition=4,offset=0,error=None} 306 297\n",
      "2020-03-07 22:26:07.599934\n",
      "2020-03-07 22:26:07.600124\n",
      "2020-03-07 22:26:07.600244\n",
      "2020-03-07 22:26:14.051194\n",
      "TopicPartition{topic=testing,partition=5,offset=0,error=None}\n",
      "TopicPartition{topic=testing,partition=5,offset=0,error=None} 281 272\n",
      "TopicPartition{topic=testing,partition=6,offset=0,error=None}\n",
      "TopicPartition{topic=testing,partition=6,offset=0,error=None} 295 286\n",
      "TopicPartition{topic=testing,partition=7,offset=0,error=None}\n",
      "TopicPartition{topic=testing,partition=7,offset=0,error=None} 277 268\n",
      "TopicPartition{topic=testing,partition=8,offset=0,error=None}\n",
      "TopicPartition{topic=testing,partition=8,offset=0,error=None} 292 283\n",
      "TopicPartition{topic=testing,partition=9,offset=0,error=None}\n",
      "TopicPartition{topic=testing,partition=9,offset=0,error=None} 273 264\n",
      "2020-03-07 22:26:14.713582\n",
      "2020-03-07 22:26:14.713705\n",
      "2020-03-07 22:26:14.713751\n",
      "2020-03-07 22:26:20.601857\n"
     ]
    }
   ],
   "source": [
    "source.start()"
   ]
  },
  {
   "cell_type": "code",
   "execution_count": null,
   "metadata": {},
   "outputs": [],
   "source": [
    "len(outputs)"
   ]
  },
  {
   "cell_type": "code",
   "execution_count": null,
   "metadata": {},
   "outputs": [],
   "source": [
    "outputs"
   ]
  },
  {
   "cell_type": "code",
   "execution_count": null,
   "metadata": {},
   "outputs": [],
   "source": [
    "import streamz"
   ]
  },
  {
   "cell_type": "code",
   "execution_count": null,
   "metadata": {},
   "outputs": [],
   "source": [
    "type(source) == streamz.dask.starmap"
   ]
  },
  {
   "cell_type": "code",
   "execution_count": null,
   "metadata": {},
   "outputs": [],
   "source": [
    "from kafka import KafkaProducer\n",
    "from kafka.partitioner import RoundRobinPartitioner"
   ]
  },
  {
   "cell_type": "code",
   "execution_count": null,
   "metadata": {},
   "outputs": [],
   "source": [
    "producer = KafkaProducer(\n",
    "    bootstrap_servers = ['localhost:9095', 'localhost:9096'],\n",
    "    api_version = (0, 10),\n",
    "    partitioner = RoundRobinPartitioner(),\n",
    ")"
   ]
  },
  {
   "cell_type": "code",
   "execution_count": null,
   "metadata": {},
   "outputs": [],
   "source": [
    "producer.bootstrap_connected()"
   ]
  },
  {
   "cell_type": "code",
   "execution_count": null,
   "metadata": {},
   "outputs": [],
   "source": [
    "from datetime import datetime\n",
    "import json\n",
    "from itertools import cycle\n",
    "\n",
    "def publish_message(producer_instance, topic_name, key, value):\n",
    "    try:\n",
    "        key_bytes = bytes(key, encoding = 'utf-8')\n",
    "        value_bytes = bytes(value, encoding = 'utf-8')\n",
    "        x = producer_instance.send(topic_name, value = value_bytes)\n",
    "        return True\n",
    "    except Exception as ex:\n",
    "        print('Exception in publishing message')\n",
    "        print(str(ex))\n",
    "        return False"
   ]
  },
  {
   "cell_type": "markdown",
   "metadata": {},
   "source": [
    "## purposely raise the error\n",
    "\n",
    "Based on function `plus`, if input bigger than 10, it will throw error."
   ]
  },
  {
   "cell_type": "code",
   "execution_count": null,
   "metadata": {},
   "outputs": [],
   "source": [
    "# import confluent_kafka as ck\n",
    "\n",
    "# source.consumer.committed([ck.TopicPartition('testing', 0)])[0].offset"
   ]
  },
  {
   "cell_type": "code",
   "execution_count": null,
   "metadata": {
    "scrolled": false
   },
   "outputs": [],
   "source": [
    "import time\n",
    "\n",
    "while True:\n",
    "    count = 10\n",
    "    data = {'no': count, 'datetime': str(datetime.now())}\n",
    "    #print(data)\n",
    "    publish_message(\n",
    "        producer, 'testing', 'streaming', json.dumps(data)\n",
    "    )\n",
    "    time.sleep(0.4)"
   ]
  },
  {
   "cell_type": "code",
   "execution_count": null,
   "metadata": {},
   "outputs": [],
   "source": [
    "len(outputs)"
   ]
  },
  {
   "cell_type": "markdown",
   "metadata": {},
   "source": [
    "Problem with `healing_batch`, if a message throw an exception, entire batch will not update."
   ]
  },
  {
   "cell_type": "code",
   "execution_count": null,
   "metadata": {},
   "outputs": [],
   "source": [
    "outputs"
   ]
  },
  {
   "cell_type": "code",
   "execution_count": null,
   "metadata": {},
   "outputs": [],
   "source": []
  }
 ],
 "metadata": {
  "kernelspec": {
   "display_name": "Python 3",
   "language": "python",
   "name": "python3"
  },
  "language_info": {
   "codemirror_mode": {
    "name": "ipython",
    "version": 3
   },
   "file_extension": ".py",
   "mimetype": "text/x-python",
   "name": "python",
   "nbconvert_exporter": "python",
   "pygments_lexer": "ipython3",
   "version": "3.7.5"
  }
 },
 "nbformat": 4,
 "nbformat_minor": 2
}
