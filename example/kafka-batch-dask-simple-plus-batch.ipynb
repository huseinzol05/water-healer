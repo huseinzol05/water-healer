{
 "cells": [
  {
   "cell_type": "code",
   "execution_count": null,
   "metadata": {},
   "outputs": [],
   "source": [
    "from dask.distributed import Client, LocalCluster\n",
    "from streamz import get_io_loop\n",
    "import waterhealer as wh\n",
    "import json"
   ]
  },
  {
   "cell_type": "code",
   "execution_count": null,
   "metadata": {},
   "outputs": [],
   "source": [
    "loop = get_io_loop(False) # it is better took loop for each program.\n",
    "loop"
   ]
  },
  {
   "cell_type": "code",
   "execution_count": null,
   "metadata": {},
   "outputs": [],
   "source": [
    "client = Client('127.0.0.1:8786', loop = loop)\n",
    "client"
   ]
  },
  {
   "cell_type": "code",
   "execution_count": null,
   "metadata": {},
   "outputs": [],
   "source": [
    "consumer_params = {\n",
    "    'bootstrap.servers': 'localhost:9095, localhost:9096',\n",
    "    'group.id': 'group3',\n",
    "    'auto.offset.reset': 'latest',\n",
    "}\n",
    "\n",
    "source = wh.from_kafka_batched(\n",
    "    ['testing'],\n",
    "    consumer_params, dask = True)"
   ]
  },
  {
   "cell_type": "code",
   "execution_count": null,
   "metadata": {},
   "outputs": [],
   "source": [
    "def json_loads(rows):\n",
    "    results = []\n",
    "    for row in rows:\n",
    "        results.append((row[0], json.loads(row[1])))\n",
    "    return results\n",
    "\n",
    "def plus(rows):\n",
    "    results = []\n",
    "    for row in rows:\n",
    "        no = row[1]['no']\n",
    "        if no > 200:\n",
    "            raise Exception('row is bigger than 50')\n",
    "        results.append((row[0], no + 1))\n",
    "    return results"
   ]
  },
  {
   "cell_type": "code",
   "execution_count": null,
   "metadata": {},
   "outputs": [],
   "source": [
    "outputs = []\n",
    "s = source.map(json_loads).map(plus)\\\n",
    ".buffer(5).gather().partition(5)\\\n",
    ".foreach_async(wh.healing_batch, stream = source, asynchronous = True)\\\n",
    ".flatten().flatten().sink(outputs.append)"
   ]
  },
  {
   "cell_type": "code",
   "execution_count": null,
   "metadata": {
    "scrolled": true
   },
   "outputs": [],
   "source": [
    "source.start()"
   ]
  },
  {
   "cell_type": "code",
   "execution_count": null,
   "metadata": {},
   "outputs": [],
   "source": [
    "from kafka import KafkaProducer\n",
    "from kafka.partitioner import RoundRobinPartitioner"
   ]
  },
  {
   "cell_type": "code",
   "execution_count": null,
   "metadata": {},
   "outputs": [],
   "source": [
    "producer = KafkaProducer(\n",
    "    bootstrap_servers = ['localhost:9095', 'localhost:9096'],\n",
    "    api_version = (0, 10),\n",
    "    partitioner = RoundRobinPartitioner(),\n",
    ")"
   ]
  },
  {
   "cell_type": "code",
   "execution_count": null,
   "metadata": {},
   "outputs": [],
   "source": [
    "producer.bootstrap_connected()"
   ]
  },
  {
   "cell_type": "code",
   "execution_count": null,
   "metadata": {},
   "outputs": [],
   "source": [
    "from datetime import datetime\n",
    "import json\n",
    "from itertools import cycle\n",
    "\n",
    "def publish_message(producer_instance, topic_name, key, value):\n",
    "    try:\n",
    "        key_bytes = bytes(key, encoding = 'utf-8')\n",
    "        value_bytes = bytes(value, encoding = 'utf-8')\n",
    "        x = producer_instance.send(topic_name, value = value_bytes)\n",
    "        return True\n",
    "    except Exception as ex:\n",
    "        print('Exception in publishing message')\n",
    "        print(str(ex))\n",
    "        return False"
   ]
  },
  {
   "cell_type": "markdown",
   "metadata": {},
   "source": [
    "## purposely raise the error\n",
    "\n",
    "Based on function `plus`, if input bigger than 10, it will throw error."
   ]
  },
  {
   "cell_type": "code",
   "execution_count": null,
   "metadata": {},
   "outputs": [],
   "source": [
    "import confluent_kafka as ck\n",
    "\n",
    "source.consumer.committed([ck.TopicPartition('testing', 0)])[0].offset"
   ]
  },
  {
   "cell_type": "code",
   "execution_count": null,
   "metadata": {
    "scrolled": false
   },
   "outputs": [],
   "source": [
    "import time\n",
    "\n",
    "for count in range(100):\n",
    "    data = {'no': count, 'datetime': str(datetime.now())}\n",
    "    print(data)\n",
    "    publish_message(\n",
    "        producer, 'testing', 'streaming', json.dumps(data)\n",
    "    )\n",
    "    time.sleep(0.2)"
   ]
  },
  {
   "cell_type": "code",
   "execution_count": null,
   "metadata": {},
   "outputs": [],
   "source": [
    "len(outputs)"
   ]
  },
  {
   "cell_type": "markdown",
   "metadata": {},
   "source": [
    "Problem with `healing_batch`, if a message throw an exception, entire batch will not update."
   ]
  },
  {
   "cell_type": "code",
   "execution_count": null,
   "metadata": {},
   "outputs": [],
   "source": [
    "outputs"
   ]
  }
 ],
 "metadata": {
  "kernelspec": {
   "display_name": "Python 3",
   "language": "python",
   "name": "python3"
  },
  "language_info": {
   "codemirror_mode": {
    "name": "ipython",
    "version": 3
   },
   "file_extension": ".py",
   "mimetype": "text/x-python",
   "name": "python",
   "nbconvert_exporter": "python",
   "pygments_lexer": "ipython3",
   "version": "3.7.5"
  }
 },
 "nbformat": 4,
 "nbformat_minor": 2
}
