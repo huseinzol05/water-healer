{
 "cells": [
  {
   "cell_type": "code",
   "execution_count": 1,
   "metadata": {},
   "outputs": [],
   "source": [
    "import waterhealer as wh\n",
    "from waterhealer import Stream\n",
    "import json\n",
    "import time\n",
    "import confluent_kafka as ck"
   ]
  },
  {
   "cell_type": "code",
   "execution_count": 2,
   "metadata": {},
   "outputs": [],
   "source": [
    "source = wh.from_kafka(\n",
    "    ['testing'],\n",
    "    {\n",
    "        'bootstrap.servers': 'localhost:9095, localhost:9096',\n",
    "        'group.id': 'group-test-3',\n",
    "        'auto.offset.reset': 'earliest',\n",
    "    },\n",
    "    debug = True)"
   ]
  },
  {
   "cell_type": "code",
   "execution_count": 3,
   "metadata": {},
   "outputs": [
    {
     "data": {
      "text/html": [
       "<table style=\"border: 2px solid white;\">\n",
       "<tr>\n",
       "<td style=\"vertical-align: top; border: 0px solid white\">\n",
       "<h3 style=\"text-align: left;\">Client</h3>\n",
       "<ul style=\"text-align: left; list-style: none; margin: 0; padding: 0;\">\n",
       "  <li><b>Scheduler: </b>tcp://127.0.0.1:51722</li>\n",
       "  <li><b>Dashboard: </b><a href='http://127.0.0.1:8787/status' target='_blank'>http://127.0.0.1:8787/status</a></li>\n",
       "</ul>\n",
       "</td>\n",
       "<td style=\"vertical-align: top; border: 0px solid white\">\n",
       "<h3 style=\"text-align: left;\">Cluster</h3>\n",
       "<ul style=\"text-align: left; list-style:none; margin: 0; padding: 0;\">\n",
       "  <li><b>Workers: </b>4</li>\n",
       "  <li><b>Cores: </b>8</li>\n",
       "  <li><b>Memory: </b>17.18 GB</li>\n",
       "</ul>\n",
       "</td>\n",
       "</tr>\n",
       "</table>"
      ],
      "text/plain": [
       "<Client: 'tcp://127.0.0.1:51722' processes=4 threads=8, memory=17.18 GB>"
      ]
     },
     "execution_count": 3,
     "metadata": {},
     "output_type": "execute_result"
    }
   ],
   "source": [
    "from dask.distributed import Client\n",
    "\n",
    "client = Client(loop = source.loop)\n",
    "client"
   ]
  },
  {
   "cell_type": "code",
   "execution_count": 4,
   "metadata": {},
   "outputs": [],
   "source": [
    "def json_loads(rows):\n",
    "    results = []\n",
    "    for row in rows:\n",
    "        results.append(json.loads(row[1]))\n",
    "        \n",
    "    return results\n",
    "\n",
    "def increment_left(rows):\n",
    "    results = []\n",
    "    for row in rows:\n",
    "        row = row.copy()\n",
    "        time.sleep(1)\n",
    "        row['left'] = row['data'] + 1\n",
    "        results.append(row)\n",
    "    return results\n",
    "\n",
    "def increment_right(rows):\n",
    "    results = []\n",
    "    for row in rows:\n",
    "        row = row.copy()\n",
    "        time.sleep(1)\n",
    "        row['right'] = row['data'] + 1\n",
    "        results.append(row)\n",
    "    return results\n",
    "\n",
    "def combine(tuples):\n",
    "    \n",
    "    left, right = tuples\n",
    "    results = []\n",
    "    for i in range(len(left)):\n",
    "        time.sleep(1)\n",
    "        results.append(left[i]['left'] + right[i]['right'])\n",
    "        \n",
    "    return results"
   ]
  },
  {
   "cell_type": "code",
   "execution_count": 5,
   "metadata": {},
   "outputs": [
    {
     "data": {
      "application/vnd.jupyter.widget-view+json": {
       "model_id": "282e0e58274440f89e64fcd59efb40fa",
       "version_major": 2,
       "version_minor": 0
      },
      "text/plain": [
       "Output()"
      ]
     },
     "metadata": {},
     "output_type": "display_data"
    }
   ],
   "source": [
    "partition = source.scatter().partition_time(5, checkpoint = True)\n",
    "s = partition.map(json_loads, checkpoint = True)\n",
    "s.buffer(8).gather().flatten().partition_time(5, checkpoint = True)"
   ]
  },
  {
   "cell_type": "code",
   "execution_count": 6,
   "metadata": {
    "scrolled": false
   },
   "outputs": [],
   "source": [
    "# source.visualize()"
   ]
  },
  {
   "cell_type": "code",
   "execution_count": 7,
   "metadata": {},
   "outputs": [],
   "source": [
    "source.start()"
   ]
  },
  {
   "cell_type": "code",
   "execution_count": 8,
   "metadata": {},
   "outputs": [],
   "source": [
    "from kafka import KafkaProducer\n",
    "from kafka.partitioner import RoundRobinPartitioner"
   ]
  },
  {
   "cell_type": "code",
   "execution_count": 9,
   "metadata": {},
   "outputs": [],
   "source": [
    "producer = KafkaProducer(\n",
    "    bootstrap_servers = ['localhost:9095', 'localhost:9096'],\n",
    "    api_version = (0, 10),\n",
    "    partitioner = RoundRobinPartitioner(),\n",
    ")"
   ]
  },
  {
   "cell_type": "code",
   "execution_count": 10,
   "metadata": {},
   "outputs": [
    {
     "data": {
      "text/plain": [
       "True"
      ]
     },
     "execution_count": 10,
     "metadata": {},
     "output_type": "execute_result"
    }
   ],
   "source": [
    "producer.bootstrap_connected()"
   ]
  },
  {
   "cell_type": "code",
   "execution_count": 11,
   "metadata": {},
   "outputs": [],
   "source": [
    "from datetime import datetime\n",
    "import json\n",
    "from itertools import cycle\n",
    "\n",
    "def publish_message(producer_instance, topic_name, key, value):\n",
    "    try:\n",
    "        key_bytes = bytes(key, encoding = 'utf-8')\n",
    "        value_bytes = bytes(value, encoding = 'utf-8')\n",
    "        x = producer_instance.send(topic_name, value = value_bytes)\n",
    "        return True\n",
    "    except Exception as ex:\n",
    "        print('Exception in publishing message')\n",
    "        print(str(ex))\n",
    "        return False"
   ]
  },
  {
   "cell_type": "code",
   "execution_count": 12,
   "metadata": {},
   "outputs": [
    {
     "name": "stderr",
     "output_type": "stream",
     "text": [
      "topic: testing, partition: 0, offset: 3, data: b'{\"i\": 0, \"data\": 1}'\n"
     ]
    },
    {
     "name": "stdout",
     "output_type": "stream",
     "text": [
      "{'i': 0, 'data': 1}\n",
      "{'i': 1, 'data': 2}\n"
     ]
    },
    {
     "name": "stderr",
     "output_type": "stream",
     "text": [
      "topic: testing, partition: 2, offset: 2, data: b'{\"i\": 2, \"data\": 3}'\n",
      "topic: testing, partition: 1, offset: 2, data: b'{\"i\": 1, \"data\": 2}'\n",
      "topic: testing, partition: 3, offset: 2, data: b'{\"i\": 3, \"data\": 4}'\n"
     ]
    },
    {
     "name": "stdout",
     "output_type": "stream",
     "text": [
      "{'i': 2, 'data': 3}\n",
      "{'i': 3, 'data': 4}\n"
     ]
    },
    {
     "name": "stderr",
     "output_type": "stream",
     "text": [
      "topic: testing, partition: 4, offset: 2, data: b'{\"i\": 4, \"data\": 5}'\n",
      "topic: testing, partition: 5, offset: 2, data: b'{\"i\": 5, \"data\": 6}'\n"
     ]
    },
    {
     "name": "stdout",
     "output_type": "stream",
     "text": [
      "{'i': 4, 'data': 5}\n",
      "{'i': 5, 'data': 6}\n"
     ]
    },
    {
     "name": "stderr",
     "output_type": "stream",
     "text": [
      "topic: testing, partition: 6, offset: 2, data: b'{\"i\": 6, \"data\": 7}'\n",
      "topic: testing, partition: 7, offset: 2, data: b'{\"i\": 7, \"data\": 8}'\n"
     ]
    },
    {
     "name": "stdout",
     "output_type": "stream",
     "text": [
      "{'i': 6, 'data': 7}\n",
      "{'i': 7, 'data': 8}\n"
     ]
    },
    {
     "name": "stderr",
     "output_type": "stream",
     "text": [
      "topic: testing, partition: 8, offset: 2, data: b'{\"i\": 8, \"data\": 9}'\n",
      "topic: testing, partition: 9, offset: 2, data: b'{\"i\": 9, \"data\": 10}'\n"
     ]
    },
    {
     "name": "stdout",
     "output_type": "stream",
     "text": [
      "{'i': 8, 'data': 9}\n",
      "{'i': 9, 'data': 10}\n"
     ]
    }
   ],
   "source": [
    "import time\n",
    "\n",
    "for i in range(10):\n",
    "    data = {'i': i, 'data': i + 1}\n",
    "    print(data)\n",
    "    publish_message(\n",
    "        producer, 'testing', 'streaming', json.dumps(data)\n",
    "    )\n",
    "    time.sleep(0.1)"
   ]
  },
  {
   "cell_type": "code",
   "execution_count": 14,
   "metadata": {},
   "outputs": [
    {
     "name": "stdout",
     "output_type": "stream",
     "text": [
      "CPU times: user 12.6 ms, sys: 2.5 ms, total: 15.1 ms\n",
      "Wall time: 16.7 ms\n"
     ]
    },
    {
     "data": {
      "text/plain": [
       "True"
      ]
     },
     "execution_count": 14,
     "metadata": {},
     "output_type": "execute_result"
    }
   ],
   "source": [
    "%%time\n",
    "\n",
    "source.wait()"
   ]
  },
  {
   "cell_type": "code",
   "execution_count": 15,
   "metadata": {},
   "outputs": [
    {
     "data": {
      "text/plain": [
       "{'from_kafka.scatter.partition_time': [({'partition': 0,\n",
       "    'offset': 3,\n",
       "    'topic': 'testing'},\n",
       "   b'{\"i\": 0, \"data\": 1}'),\n",
       "  ({'partition': 2, 'offset': 2, 'topic': 'testing'}, b'{\"i\": 2, \"data\": 3}'),\n",
       "  ({'partition': 1, 'offset': 2, 'topic': 'testing'}, b'{\"i\": 1, \"data\": 2}'),\n",
       "  ({'partition': 3, 'offset': 2, 'topic': 'testing'}, b'{\"i\": 3, \"data\": 4}'),\n",
       "  ({'partition': 4, 'offset': 2, 'topic': 'testing'}, b'{\"i\": 4, \"data\": 5}'),\n",
       "  ({'partition': 5, 'offset': 2, 'topic': 'testing'}, b'{\"i\": 5, \"data\": 6}'),\n",
       "  ({'partition': 6, 'offset': 2, 'topic': 'testing'}, b'{\"i\": 6, \"data\": 7}'),\n",
       "  ({'partition': 7, 'offset': 2, 'topic': 'testing'}, b'{\"i\": 7, \"data\": 8}'),\n",
       "  ({'partition': 8, 'offset': 2, 'topic': 'testing'}, b'{\"i\": 8, \"data\": 9}'),\n",
       "  ({'partition': 9, 'offset': 2, 'topic': 'testing'},\n",
       "   b'{\"i\": 9, \"data\": 10}')],\n",
       " 'from_kafka.scatter.partition_time.map.json_loads': [{'i': 0, 'data': 1},\n",
       "  {'i': 2, 'data': 3},\n",
       "  {'i': 1, 'data': 2},\n",
       "  {'i': 3, 'data': 4},\n",
       "  {'i': 4, 'data': 5},\n",
       "  {'i': 5, 'data': 6},\n",
       "  {'i': 6, 'data': 7},\n",
       "  {'i': 7, 'data': 8},\n",
       "  {'i': 8, 'data': 9},\n",
       "  {'i': 9, 'data': 10}],\n",
       " 'from_kafka.scatter.partition_time.map.json_loads.buffer.gather.flatten.partition_time': [{'i': 0,\n",
       "   'data': 1},\n",
       "  {'i': 2, 'data': 3},\n",
       "  {'i': 1, 'data': 2},\n",
       "  {'i': 3, 'data': 4},\n",
       "  {'i': 4, 'data': 5},\n",
       "  {'i': 5, 'data': 6},\n",
       "  {'i': 6, 'data': 7},\n",
       "  {'i': 7, 'data': 8},\n",
       "  {'i': 8, 'data': 9},\n",
       "  {'i': 9, 'data': 10}]}"
      ]
     },
     "execution_count": 15,
     "metadata": {},
     "output_type": "execute_result"
    }
   ],
   "source": [
    "source.checkpoint"
   ]
  },
  {
   "cell_type": "code",
   "execution_count": null,
   "metadata": {},
   "outputs": [],
   "source": []
  }
 ],
 "metadata": {
  "kernelspec": {
   "display_name": "Python 3",
   "language": "python",
   "name": "python3"
  },
  "language_info": {
   "codemirror_mode": {
    "name": "ipython",
    "version": 3
   },
   "file_extension": ".py",
   "mimetype": "text/x-python",
   "name": "python",
   "nbconvert_exporter": "python",
   "pygments_lexer": "ipython3",
   "version": "3.7.7"
  }
 },
 "nbformat": 4,
 "nbformat_minor": 4
}
