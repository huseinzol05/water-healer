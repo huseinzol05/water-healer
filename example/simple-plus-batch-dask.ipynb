{
 "cells": [
  {
   "cell_type": "code",
   "execution_count": 1,
   "metadata": {},
   "outputs": [],
   "source": [
    "import waterhealer as wh\n",
    "from dask.distributed import Client\n",
    "import json\n",
    "import time\n",
    "import random"
   ]
  },
  {
   "cell_type": "code",
   "execution_count": 2,
   "metadata": {},
   "outputs": [],
   "source": [
    "source = wh.from_kafka(\n",
    "    ['testing'],\n",
    "    {\n",
    "        'bootstrap.servers': 'localhost:9095, localhost:9096',\n",
    "        'group.id': 'group-test-3',\n",
    "        'auto.offset.reset': 'latest',\n",
    "    },\n",
    "    debug = True)"
   ]
  },
  {
   "cell_type": "code",
   "execution_count": 3,
   "metadata": {},
   "outputs": [
    {
     "data": {
      "text/html": [
       "<table style=\"border: 2px solid white;\">\n",
       "<tr>\n",
       "<td style=\"vertical-align: top; border: 0px solid white\">\n",
       "<h3 style=\"text-align: left;\">Client</h3>\n",
       "<ul style=\"text-align: left; list-style: none; margin: 0; padding: 0;\">\n",
       "  <li><b>Scheduler: </b>tcp://localhost:8786</li>\n",
       "  <li><b>Dashboard: </b><a href='http://localhost:8787/status' target='_blank'>http://localhost:8787/status</a>\n",
       "</ul>\n",
       "</td>\n",
       "<td style=\"vertical-align: top; border: 0px solid white\">\n",
       "<h3 style=\"text-align: left;\">Cluster</h3>\n",
       "<ul style=\"text-align: left; list-style:none; margin: 0; padding: 0;\">\n",
       "  <li><b>Workers: </b>4</li>\n",
       "  <li><b>Cores: </b>8</li>\n",
       "  <li><b>Memory: </b>17.18 GB</li>\n",
       "</ul>\n",
       "</td>\n",
       "</tr>\n",
       "</table>"
      ],
      "text/plain": [
       "<Client: 'tcp://127.0.0.1:8786' processes=4 threads=8, memory=17.18 GB>"
      ]
     },
     "execution_count": 3,
     "metadata": {},
     "output_type": "execute_result"
    }
   ],
   "source": [
    "client = Client('localhost:8786', loop = source.loop)\n",
    "client"
   ]
  },
  {
   "cell_type": "code",
   "execution_count": 4,
   "metadata": {},
   "outputs": [],
   "source": [
    "def json_loads(row):\n",
    "    return (row[0], json.loads(row[1]))\n",
    "\n",
    "def plus(row):\n",
    "    if random.random() > 0.5:\n",
    "        time.sleep(10)\n",
    "    no = row[1]['no']\n",
    "    if no > 50:\n",
    "        raise Exception('row is bigger than 50')\n",
    "    return (row[0], no + 1)"
   ]
  },
  {
   "cell_type": "code",
   "execution_count": 5,
   "metadata": {},
   "outputs": [
    {
     "data": {
      "application/vnd.jupyter.widget-view+json": {
       "model_id": "b61916ce45484d1eb391f7968aa89bd2",
       "version_major": 2,
       "version_minor": 0
      },
      "text/plain": [
       "Output()"
      ]
     },
     "metadata": {},
     "output_type": "display_data"
    }
   ],
   "source": [
    "outputs = []\n",
    "source.scatter().map(json_loads).map(plus)\\\n",
    ".buffer(5).gather()\\\n",
    ".partition(5)\\\n",
    ".map(wh.healing_batch, stream = source)\\\n",
    ".flatten().sink(outputs.append)"
   ]
  },
  {
   "cell_type": "code",
   "execution_count": 6,
   "metadata": {},
   "outputs": [],
   "source": [
    "source.start()"
   ]
  },
  {
   "cell_type": "code",
   "execution_count": 7,
   "metadata": {},
   "outputs": [],
   "source": [
    "from kafka import KafkaProducer\n",
    "from kafka.partitioner import RoundRobinPartitioner"
   ]
  },
  {
   "cell_type": "code",
   "execution_count": 8,
   "metadata": {},
   "outputs": [],
   "source": [
    "producer = KafkaProducer(\n",
    "    bootstrap_servers = ['localhost:9095', 'localhost:9096'],\n",
    "    api_version = (0, 10),\n",
    "    partitioner = RoundRobinPartitioner(),\n",
    ")"
   ]
  },
  {
   "cell_type": "code",
   "execution_count": 9,
   "metadata": {},
   "outputs": [
    {
     "data": {
      "text/plain": [
       "True"
      ]
     },
     "execution_count": 9,
     "metadata": {},
     "output_type": "execute_result"
    }
   ],
   "source": [
    "producer.bootstrap_connected()"
   ]
  },
  {
   "cell_type": "code",
   "execution_count": 10,
   "metadata": {},
   "outputs": [],
   "source": [
    "from datetime import datetime\n",
    "import json\n",
    "from itertools import cycle\n",
    "\n",
    "def publish_message(producer_instance, topic_name, key, value):\n",
    "    try:\n",
    "        key_bytes = bytes(key, encoding = 'utf-8')\n",
    "        value_bytes = bytes(value, encoding = 'utf-8')\n",
    "        x = producer_instance.send(topic_name, value = value_bytes)\n",
    "        return True\n",
    "    except Exception as ex:\n",
    "        print('Exception in publishing message')\n",
    "        print(str(ex))\n",
    "        return False"
   ]
  },
  {
   "cell_type": "markdown",
   "metadata": {},
   "source": [
    "## purposely raise the error\n",
    "\n",
    "Based on function `plus`, if input bigger than 10, it will throw error."
   ]
  },
  {
   "cell_type": "code",
   "execution_count": 11,
   "metadata": {},
   "outputs": [
    {
     "data": {
      "text/plain": [
       "444"
      ]
     },
     "execution_count": 11,
     "metadata": {},
     "output_type": "execute_result"
    }
   ],
   "source": [
    "import confluent_kafka as ck\n",
    "\n",
    "source.consumer.committed([ck.TopicPartition('testing', 0)])[0].offset"
   ]
  },
  {
   "cell_type": "code",
   "execution_count": 12,
   "metadata": {
    "scrolled": true
   },
   "outputs": [
    {
     "name": "stdout",
     "output_type": "stream",
     "text": [
      "{'no': 0, 'datetime': '2020-04-07 19:49:48.079269'}\n"
     ]
    },
    {
     "name": "stderr",
     "output_type": "stream",
     "text": [
      "topic: testing, partition: 0, offset: 444, data: b'{\"no\": 0, \"datetime\": \"2020-04-07 19:49:48.079269\"}'\n",
      "topic: testing, partition: 1, offset: 409, data: b'{\"no\": 1, \"datetime\": \"2020-04-07 19:49:48.284202\"}'\n"
     ]
    },
    {
     "name": "stdout",
     "output_type": "stream",
     "text": [
      "{'no': 1, 'datetime': '2020-04-07 19:49:48.284202'}\n"
     ]
    },
    {
     "name": "stderr",
     "output_type": "stream",
     "text": [
      "topic: testing, partition: 2, offset: 429, data: b'{\"no\": 2, \"datetime\": \"2020-04-07 19:49:48.486857\"}'\n"
     ]
    },
    {
     "name": "stdout",
     "output_type": "stream",
     "text": [
      "{'no': 2, 'datetime': '2020-04-07 19:49:48.486857'}\n"
     ]
    },
    {
     "name": "stderr",
     "output_type": "stream",
     "text": [
      "topic: testing, partition: 3, offset: 397, data: b'{\"no\": 3, \"datetime\": \"2020-04-07 19:49:48.691427\"}'\n"
     ]
    },
    {
     "name": "stdout",
     "output_type": "stream",
     "text": [
      "{'no': 3, 'datetime': '2020-04-07 19:49:48.691427'}\n",
      "{'no': 4, 'datetime': '2020-04-07 19:49:48.896152'}\n"
     ]
    },
    {
     "name": "stderr",
     "output_type": "stream",
     "text": [
      "topic: testing, partition: 4, offset: 396, data: b'{\"no\": 4, \"datetime\": \"2020-04-07 19:49:48.896152\"}'\n",
      "topic: testing, partition: 5, offset: 371, data: b'{\"no\": 5, \"datetime\": \"2020-04-07 19:49:49.100615\"}'\n"
     ]
    },
    {
     "name": "stdout",
     "output_type": "stream",
     "text": [
      "{'no': 5, 'datetime': '2020-04-07 19:49:49.100615'}\n"
     ]
    },
    {
     "name": "stderr",
     "output_type": "stream",
     "text": [
      "topic: testing, partition: 6, offset: 385, data: b'{\"no\": 6, \"datetime\": \"2020-04-07 19:49:49.306138\"}'\n"
     ]
    },
    {
     "name": "stdout",
     "output_type": "stream",
     "text": [
      "{'no': 6, 'datetime': '2020-04-07 19:49:49.306138'}\n"
     ]
    },
    {
     "name": "stderr",
     "output_type": "stream",
     "text": [
      "topic: testing, partition: 7, offset: 367, data: b'{\"no\": 7, \"datetime\": \"2020-04-07 19:49:49.508063\"}'\n"
     ]
    },
    {
     "name": "stdout",
     "output_type": "stream",
     "text": [
      "{'no': 7, 'datetime': '2020-04-07 19:49:49.508063'}\n",
      "{'no': 8, 'datetime': '2020-04-07 19:49:49.712886'}\n",
      "{'no': 9, 'datetime': '2020-04-07 19:49:49.918293'}\n",
      "{'no': 10, 'datetime': '2020-04-07 19:49:50.123708'}\n",
      "{'no': 11, 'datetime': '2020-04-07 19:49:50.327677'}\n",
      "{'no': 12, 'datetime': '2020-04-07 19:49:50.531298'}\n",
      "{'no': 13, 'datetime': '2020-04-07 19:49:50.736390'}\n",
      "{'no': 14, 'datetime': '2020-04-07 19:49:50.941276'}\n",
      "{'no': 15, 'datetime': '2020-04-07 19:49:51.146028'}\n",
      "{'no': 16, 'datetime': '2020-04-07 19:49:51.351378'}\n",
      "{'no': 17, 'datetime': '2020-04-07 19:49:51.556762'}\n",
      "{'no': 18, 'datetime': '2020-04-07 19:49:51.761714'}\n",
      "{'no': 19, 'datetime': '2020-04-07 19:49:51.966037'}\n",
      "{'no': 20, 'datetime': '2020-04-07 19:49:52.169764'}\n",
      "{'no': 21, 'datetime': '2020-04-07 19:49:52.376065'}\n",
      "{'no': 22, 'datetime': '2020-04-07 19:49:52.581145'}\n",
      "{'no': 23, 'datetime': '2020-04-07 19:49:52.786285'}\n",
      "{'no': 24, 'datetime': '2020-04-07 19:49:52.990812'}\n",
      "{'no': 25, 'datetime': '2020-04-07 19:49:53.195998'}\n",
      "{'no': 26, 'datetime': '2020-04-07 19:49:53.398497'}\n",
      "{'no': 27, 'datetime': '2020-04-07 19:49:53.604099'}\n",
      "{'no': 28, 'datetime': '2020-04-07 19:49:53.809189'}\n",
      "{'no': 29, 'datetime': '2020-04-07 19:49:54.014666'}\n",
      "{'no': 30, 'datetime': '2020-04-07 19:49:54.219649'}\n",
      "{'no': 31, 'datetime': '2020-04-07 19:49:54.424411'}\n",
      "{'no': 32, 'datetime': '2020-04-07 19:49:54.629097'}\n",
      "{'no': 33, 'datetime': '2020-04-07 19:49:54.833867'}\n",
      "{'no': 34, 'datetime': '2020-04-07 19:49:55.038486'}\n",
      "{'no': 35, 'datetime': '2020-04-07 19:49:55.243654'}\n",
      "{'no': 36, 'datetime': '2020-04-07 19:49:55.447996'}\n",
      "{'no': 37, 'datetime': '2020-04-07 19:49:55.651182'}\n",
      "{'no': 38, 'datetime': '2020-04-07 19:49:55.855578'}\n",
      "{'no': 39, 'datetime': '2020-04-07 19:49:56.060417'}\n",
      "{'no': 40, 'datetime': '2020-04-07 19:49:56.265991'}\n",
      "{'no': 41, 'datetime': '2020-04-07 19:49:56.470798'}\n",
      "{'no': 42, 'datetime': '2020-04-07 19:49:56.675977'}\n",
      "{'no': 43, 'datetime': '2020-04-07 19:49:56.881218'}\n",
      "{'no': 44, 'datetime': '2020-04-07 19:49:57.086063'}\n",
      "{'no': 45, 'datetime': '2020-04-07 19:49:57.291901'}\n",
      "{'no': 46, 'datetime': '2020-04-07 19:49:57.495999'}\n",
      "{'no': 47, 'datetime': '2020-04-07 19:49:57.700101'}\n",
      "{'no': 48, 'datetime': '2020-04-07 19:49:57.900664'}\n",
      "{'no': 49, 'datetime': '2020-04-07 19:49:58.105966'}\n"
     ]
    }
   ],
   "source": [
    "import time\n",
    "\n",
    "for count in range(50):\n",
    "    data = {'no': count, 'datetime': str(datetime.now())}\n",
    "    print(data)\n",
    "    publish_message(\n",
    "        producer, 'testing', 'streaming', json.dumps(data)\n",
    "    )\n",
    "    time.sleep(0.2)"
   ]
  },
  {
   "cell_type": "code",
   "execution_count": 18,
   "metadata": {},
   "outputs": [
    {
     "data": {
      "text/plain": [
       "defaultdict(<function waterhealer.core.from_kafka.__init__.<locals>.<lambda>()>,\n",
       "            {'testing<!>0': ExpiringDict([(445, False)]),\n",
       "             'testing<!>1': ExpiringDict([(410, False)]),\n",
       "             'testing<!>2': ExpiringDict([(430, False)]),\n",
       "             'testing<!>3': ExpiringDict([(398, False)]),\n",
       "             'testing<!>4': ExpiringDict([(397, False)]),\n",
       "             'testing<!>5': ExpiringDict([(371, True), (372, False)]),\n",
       "             'testing<!>6': ExpiringDict([(385, False)]),\n",
       "             'testing<!>7': ExpiringDict([(367, False)]),\n",
       "             'testing<!>8': ExpiringDict([(382, False)]),\n",
       "             'testing<!>9': ExpiringDict([(363, False)])})"
      ]
     },
     "execution_count": 18,
     "metadata": {},
     "output_type": "execute_result"
    },
    {
     "name": "stderr",
     "output_type": "stream",
     "text": [
      "topic: testing, partition: 6, offset: 386, data: b'{\"no\": 16, \"datetime\": \"2020-04-07 19:49:51.351378\"}'\n",
      "topic: testing, partition: 7, offset: 368, data: b'{\"no\": 17, \"datetime\": \"2020-04-07 19:49:51.556762\"}'\n",
      "topic: testing, partition: 8, offset: 383, data: b'{\"no\": 18, \"datetime\": \"2020-04-07 19:49:51.761714\"}'\n",
      "topic: testing, partition: 9, offset: 364, data: b'{\"no\": 19, \"datetime\": \"2020-04-07 19:49:51.966037\"}'\n",
      "topic: testing, partition: 0, offset: 446, data: b'{\"no\": 20, \"datetime\": \"2020-04-07 19:49:52.169764\"}'\n",
      "topic: testing, partition: 1, offset: 411, data: b'{\"no\": 21, \"datetime\": \"2020-04-07 19:49:52.376065\"}'\n",
      "topic: testing, partition: 2, offset: 431, data: b'{\"no\": 22, \"datetime\": \"2020-04-07 19:49:52.581145\"}'\n",
      "topic: testing, partition: 3, offset: 399, data: b'{\"no\": 23, \"datetime\": \"2020-04-07 19:49:52.786285\"}'\n",
      "topic: testing, partition: 4, offset: 398, data: b'{\"no\": 24, \"datetime\": \"2020-04-07 19:49:52.990812\"}'\n",
      "topic: testing, partition: 5, offset: 373, data: b'{\"no\": 25, \"datetime\": \"2020-04-07 19:49:53.195998\"}'\n",
      "topic: testing, partition: 6, offset: 387, data: b'{\"no\": 26, \"datetime\": \"2020-04-07 19:49:53.398497\"}'\n",
      "topic: testing, partition: 7, offset: 369, data: b'{\"no\": 27, \"datetime\": \"2020-04-07 19:49:53.604099\"}'\n",
      "topic: testing, partition: 8, offset: 384, data: b'{\"no\": 28, \"datetime\": \"2020-04-07 19:49:53.809189\"}'\n",
      "topic: testing, partition: 9, offset: 365, data: b'{\"no\": 29, \"datetime\": \"2020-04-07 19:49:54.014666\"}'\n",
      "topic: testing, partition: 0, offset: 447, data: b'{\"no\": 30, \"datetime\": \"2020-04-07 19:49:54.219649\"}'\n",
      "topic: testing, partition: 1, offset: 412, data: b'{\"no\": 31, \"datetime\": \"2020-04-07 19:49:54.424411\"}'\n",
      "topic: testing, partition: 2, offset: 432, data: b'{\"no\": 32, \"datetime\": \"2020-04-07 19:49:54.629097\"}'\n",
      "topic: testing, partition: 3, offset: 400, data: b'{\"no\": 33, \"datetime\": \"2020-04-07 19:49:54.833867\"}'\n",
      "topic: testing, partition: 4, offset: 399, data: b'{\"no\": 34, \"datetime\": \"2020-04-07 19:49:55.038486\"}'\n",
      "topic: testing, partition: 5, offset: 374, data: b'{\"no\": 35, \"datetime\": \"2020-04-07 19:49:55.243654\"}'\n",
      "topic: testing, partition: 6, offset: 388, data: b'{\"no\": 36, \"datetime\": \"2020-04-07 19:49:55.447996\"}'\n",
      "topic: testing, partition: 7, offset: 370, data: b'{\"no\": 37, \"datetime\": \"2020-04-07 19:49:55.651182\"}'\n",
      "topic: testing, partition: 8, offset: 385, data: b'{\"no\": 38, \"datetime\": \"2020-04-07 19:49:55.855578\"}'\n",
      "topic: testing, partition: 0, offset: 448, data: b'{\"no\": 40, \"datetime\": \"2020-04-07 19:49:56.265991\"}'\n",
      "topic: testing, partition: 2, offset: 433, data: b'{\"no\": 42, \"datetime\": \"2020-04-07 19:49:56.675977\"}'\n",
      "topic: testing, partition: 9, offset: 366, data: b'{\"no\": 39, \"datetime\": \"2020-04-07 19:49:56.060417\"}'\n",
      "topic: testing, partition: 1, offset: 413, data: b'{\"no\": 41, \"datetime\": \"2020-04-07 19:49:56.470798\"}'\n",
      "topic: testing, partition: 3, offset: 401, data: b'{\"no\": 43, \"datetime\": \"2020-04-07 19:49:56.881218\"}'\n",
      "topic: testing, partition: 4, offset: 400, data: b'{\"no\": 44, \"datetime\": \"2020-04-07 19:49:57.086063\"}'\n",
      "topic: testing, partition: 5, offset: 375, data: b'{\"no\": 45, \"datetime\": \"2020-04-07 19:49:57.291901\"}'\n",
      "topic: testing, partition: 6, offset: 389, data: b'{\"no\": 46, \"datetime\": \"2020-04-07 19:49:57.495999\"}'\n",
      "topic: testing, partition: 7, offset: 371, data: b'{\"no\": 47, \"datetime\": \"2020-04-07 19:49:57.700101\"}'\n",
      "topic: testing, partition: 8, offset: 386, data: b'{\"no\": 48, \"datetime\": \"2020-04-07 19:49:57.900664\"}'\n",
      "topic: testing, partition: 9, offset: 367, data: b'{\"no\": 49, \"datetime\": \"2020-04-07 19:49:58.105966\"}'\n",
      "distributed.client - ERROR - Failed to reconnect to scheduler after 10.00 seconds, closing client\n",
      "_GatheringFuture exception was never retrieved\n",
      "future: <_GatheringFuture finished exception=CancelledError()>\n",
      "concurrent.futures._base.CancelledError\n"
     ]
    }
   ],
   "source": [
    "source.memory"
   ]
  },
  {
   "cell_type": "code",
   "execution_count": null,
   "metadata": {},
   "outputs": [],
   "source": [
    "outputs"
   ]
  },
  {
   "cell_type": "markdown",
   "metadata": {},
   "source": [
    "Problem with `healing_batch`, if a message throw an exception, entire batch will not update.\n",
    "\n",
    "As you can see, we don't get data for 11 and 12."
   ]
  }
 ],
 "metadata": {
  "kernelspec": {
   "display_name": "Python 3",
   "language": "python",
   "name": "python3"
  },
  "language_info": {
   "codemirror_mode": {
    "name": "ipython",
    "version": 3
   },
   "file_extension": ".py",
   "mimetype": "text/x-python",
   "name": "python",
   "nbconvert_exporter": "python",
   "pygments_lexer": "ipython3",
   "version": "3.7.7"
  }
 },
 "nbformat": 4,
 "nbformat_minor": 2
}
