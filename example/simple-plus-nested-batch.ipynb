{
 "cells": [
  {
   "cell_type": "code",
   "execution_count": 1,
   "metadata": {},
   "outputs": [],
   "source": [
    "import waterhealer as wh\n",
    "import json"
   ]
  },
  {
   "cell_type": "code",
   "execution_count": 2,
   "metadata": {},
   "outputs": [],
   "source": [
    "source = wh.from_kafka(\n",
    "    ['testing'],\n",
    "    {\n",
    "        'bootstrap.servers': 'localhost:9095, localhost:9096',\n",
    "        'group.id': 'group-test-4',\n",
    "        'auto.offset.reset': 'latest',\n",
    "    },\n",
    "    debug = True)"
   ]
  },
  {
   "cell_type": "code",
   "execution_count": 3,
   "metadata": {},
   "outputs": [],
   "source": [
    "def json_loads(row):\n",
    "    return (row[0], json.loads(row[1]))\n",
    "\n",
    "def plus(row):\n",
    "    no = row[1]['no']\n",
    "    if no > 50:\n",
    "        raise Exception('row is bigger than 50')\n",
    "    return (row[0], no + 1)"
   ]
  },
  {
   "cell_type": "markdown",
   "metadata": {},
   "source": [
    "If you stream high velocity, you can see, `healing_batch` is not fast enough. And you think, can we do batch of `healing_batch` in async manner.\n",
    "\n",
    "Yes, we can, use `foreach_async`!\n",
    "\n",
    "`foreach_async` will execute same function for each element in the batch."
   ]
  },
  {
   "cell_type": "code",
   "execution_count": 4,
   "metadata": {},
   "outputs": [
    {
     "data": {
      "application/vnd.jupyter.widget-view+json": {
       "model_id": "8436a148ea4e4eab9dcc17f934e0ccbb",
       "version_major": 2,
       "version_minor": 0
      },
      "text/plain": [
       "Output()"
      ]
     },
     "metadata": {},
     "output_type": "display_data"
    }
   ],
   "source": [
    "outputs = []\n",
    "source.map(json_loads).map(plus).partition(5).partition(5)\\\n",
    ".foreach_async(wh.healing_batch, stream = source, asynchronous = True)\\\n",
    ".flatten().flatten().sink(outputs.append)"
   ]
  },
  {
   "cell_type": "markdown",
   "metadata": {},
   "source": [
    "For `partition(5).partition(5)`,\n",
    "\n",
    "```python\n",
    "(tuple_of_5, tuple_of_5, tuple_of_5, tuple_of_5, tuple_of_5)\n",
    "```\n",
    "\n",
    "We only start to update offsets if we got `Tuple[len(Tuple)==5]`"
   ]
  },
  {
   "cell_type": "code",
   "execution_count": 5,
   "metadata": {
    "scrolled": true
   },
   "outputs": [],
   "source": [
    "source.start()"
   ]
  },
  {
   "cell_type": "code",
   "execution_count": 6,
   "metadata": {},
   "outputs": [],
   "source": [
    "from kafka import KafkaProducer\n",
    "from kafka.partitioner import RoundRobinPartitioner"
   ]
  },
  {
   "cell_type": "code",
   "execution_count": 7,
   "metadata": {},
   "outputs": [],
   "source": [
    "producer = KafkaProducer(\n",
    "    bootstrap_servers = ['localhost:9095', 'localhost:9096'],\n",
    "    api_version = (0, 10),\n",
    "    partitioner = RoundRobinPartitioner(),\n",
    ")"
   ]
  },
  {
   "cell_type": "code",
   "execution_count": 8,
   "metadata": {},
   "outputs": [
    {
     "data": {
      "text/plain": [
       "True"
      ]
     },
     "execution_count": 8,
     "metadata": {},
     "output_type": "execute_result"
    }
   ],
   "source": [
    "producer.bootstrap_connected()"
   ]
  },
  {
   "cell_type": "code",
   "execution_count": 9,
   "metadata": {},
   "outputs": [],
   "source": [
    "from datetime import datetime\n",
    "import json\n",
    "from itertools import cycle\n",
    "\n",
    "def publish_message(producer_instance, topic_name, key, value):\n",
    "    try:\n",
    "        key_bytes = bytes(key, encoding = 'utf-8')\n",
    "        value_bytes = bytes(value, encoding = 'utf-8')\n",
    "        x = producer_instance.send(topic_name, value = value_bytes)\n",
    "        return True\n",
    "    except Exception as ex:\n",
    "        print('Exception in publishing message')\n",
    "        print(str(ex))\n",
    "        return False"
   ]
  },
  {
   "cell_type": "markdown",
   "metadata": {},
   "source": [
    "## purposely raise the error\n",
    "\n",
    "Based on function `plus`, if input bigger than 10, it will throw error."
   ]
  },
  {
   "cell_type": "code",
   "execution_count": 10,
   "metadata": {},
   "outputs": [
    {
     "data": {
      "text/plain": [
       "263"
      ]
     },
     "execution_count": 10,
     "metadata": {},
     "output_type": "execute_result"
    }
   ],
   "source": [
    "import confluent_kafka as ck\n",
    "\n",
    "source.consumer.committed([ck.TopicPartition('testing', 0)])[0].offset"
   ]
  },
  {
   "cell_type": "code",
   "execution_count": 11,
   "metadata": {
    "scrolled": false
   },
   "outputs": [
    {
     "name": "stdout",
     "output_type": "stream",
     "text": [
      "{'no': 0, 'datetime': '2020-03-07 21:06:30.542224'}\n",
      "{'no': 1, 'datetime': '2020-03-07 21:06:30.743152'}\n"
     ]
    },
    {
     "name": "stderr",
     "output_type": "stream",
     "text": [
      "topic: testing, partition: 0, offset: 263, data: b'{\"no\": 0, \"datetime\": \"2020-03-07 21:06:30.542224\"}'\n",
      "topic: testing, partition: 2, offset: 249, data: b'{\"no\": 2, \"datetime\": \"2020-03-07 21:06:30.944148\"}'\n"
     ]
    },
    {
     "name": "stdout",
     "output_type": "stream",
     "text": [
      "{'no': 2, 'datetime': '2020-03-07 21:06:30.944148'}\n",
      "{'no': 3, 'datetime': '2020-03-07 21:06:31.149697'}\n",
      "{'no': 4, 'datetime': '2020-03-07 21:06:31.350919'}\n"
     ]
    },
    {
     "name": "stderr",
     "output_type": "stream",
     "text": [
      "topic: testing, partition: 4, offset: 221, data: b'{\"no\": 4, \"datetime\": \"2020-03-07 21:06:31.350919\"}'\n"
     ]
    },
    {
     "name": "stdout",
     "output_type": "stream",
     "text": [
      "{'no': 5, 'datetime': '2020-03-07 21:06:31.552924'}\n"
     ]
    },
    {
     "name": "stderr",
     "output_type": "stream",
     "text": [
      "topic: testing, partition: 6, offset: 210, data: b'{\"no\": 6, \"datetime\": \"2020-03-07 21:06:31.755028\"}'\n"
     ]
    },
    {
     "name": "stdout",
     "output_type": "stream",
     "text": [
      "{'no': 6, 'datetime': '2020-03-07 21:06:31.755028'}\n",
      "{'no': 7, 'datetime': '2020-03-07 21:06:31.959511'}\n",
      "{'no': 8, 'datetime': '2020-03-07 21:06:32.160347'}\n"
     ]
    },
    {
     "name": "stderr",
     "output_type": "stream",
     "text": [
      "topic: testing, partition: 8, offset: 207, data: b'{\"no\": 8, \"datetime\": \"2020-03-07 21:06:32.160347\"}'\n"
     ]
    },
    {
     "name": "stdout",
     "output_type": "stream",
     "text": [
      "{'no': 9, 'datetime': '2020-03-07 21:06:32.363402'}\n",
      "{'no': 10, 'datetime': '2020-03-07 21:06:32.565758'}\n",
      "{'no': 11, 'datetime': '2020-03-07 21:06:32.766589'}\n"
     ]
    },
    {
     "name": "stderr",
     "output_type": "stream",
     "text": [
      "topic: testing, partition: 0, offset: 264, data: b'{\"no\": 10, \"datetime\": \"2020-03-07 21:06:32.565758\"}'\n",
      "topic: testing, partition: 2, offset: 250, data: b'{\"no\": 12, \"datetime\": \"2020-03-07 21:06:32.968442\"}'\n"
     ]
    },
    {
     "name": "stdout",
     "output_type": "stream",
     "text": [
      "{'no': 12, 'datetime': '2020-03-07 21:06:32.968442'}\n",
      "{'no': 13, 'datetime': '2020-03-07 21:06:33.169955'}\n"
     ]
    },
    {
     "name": "stderr",
     "output_type": "stream",
     "text": [
      "topic: testing, partition: 4, offset: 222, data: b'{\"no\": 14, \"datetime\": \"2020-03-07 21:06:33.376026\"}'\n"
     ]
    },
    {
     "name": "stdout",
     "output_type": "stream",
     "text": [
      "{'no': 14, 'datetime': '2020-03-07 21:06:33.376026'}\n",
      "{'no': 15, 'datetime': '2020-03-07 21:06:33.577786'}\n"
     ]
    },
    {
     "name": "stderr",
     "output_type": "stream",
     "text": [
      "topic: testing, partition: 6, offset: 211, data: b'{\"no\": 16, \"datetime\": \"2020-03-07 21:06:33.781661\"}'\n"
     ]
    },
    {
     "name": "stdout",
     "output_type": "stream",
     "text": [
      "{'no': 16, 'datetime': '2020-03-07 21:06:33.781661'}\n",
      "{'no': 17, 'datetime': '2020-03-07 21:06:33.982581'}\n"
     ]
    },
    {
     "name": "stderr",
     "output_type": "stream",
     "text": [
      "topic: testing, partition: 8, offset: 208, data: b'{\"no\": 18, \"datetime\": \"2020-03-07 21:06:34.186938\"}'\n"
     ]
    },
    {
     "name": "stdout",
     "output_type": "stream",
     "text": [
      "{'no': 18, 'datetime': '2020-03-07 21:06:34.186938'}\n",
      "{'no': 19, 'datetime': '2020-03-07 21:06:34.391957'}\n"
     ]
    },
    {
     "name": "stderr",
     "output_type": "stream",
     "text": [
      "topic: testing, partition: 0, offset: 265, data: b'{\"no\": 20, \"datetime\": \"2020-03-07 21:06:34.597766\"}'\n"
     ]
    },
    {
     "name": "stdout",
     "output_type": "stream",
     "text": [
      "{'no': 20, 'datetime': '2020-03-07 21:06:34.597766'}\n",
      "{'no': 21, 'datetime': '2020-03-07 21:06:34.802187'}\n"
     ]
    },
    {
     "name": "stderr",
     "output_type": "stream",
     "text": [
      "topic: testing, partition: 2, offset: 251, data: b'{\"no\": 22, \"datetime\": \"2020-03-07 21:06:35.005447\"}'\n"
     ]
    },
    {
     "name": "stdout",
     "output_type": "stream",
     "text": [
      "{'no': 22, 'datetime': '2020-03-07 21:06:35.005447'}\n",
      "{'no': 23, 'datetime': '2020-03-07 21:06:35.210654'}\n"
     ]
    },
    {
     "name": "stderr",
     "output_type": "stream",
     "text": [
      "topic: testing, partition: 4, offset: 223, data: b'{\"no\": 24, \"datetime\": \"2020-03-07 21:06:35.411184\"}'\n"
     ]
    },
    {
     "name": "stdout",
     "output_type": "stream",
     "text": [
      "{'no': 24, 'datetime': '2020-03-07 21:06:35.411184'}\n",
      "{'no': 25, 'datetime': '2020-03-07 21:06:35.615623'}\n"
     ]
    },
    {
     "name": "stderr",
     "output_type": "stream",
     "text": [
      "topic: testing, partition: 6, offset: 212, data: b'{\"no\": 26, \"datetime\": \"2020-03-07 21:06:35.820357\"}'\n"
     ]
    },
    {
     "name": "stdout",
     "output_type": "stream",
     "text": [
      "{'no': 26, 'datetime': '2020-03-07 21:06:35.820357'}\n",
      "{'no': 27, 'datetime': '2020-03-07 21:06:36.024983'}\n",
      "{'no': 28, 'datetime': '2020-03-07 21:06:36.225880'}\n"
     ]
    },
    {
     "name": "stderr",
     "output_type": "stream",
     "text": [
      "topic: testing, partition: 8, offset: 209, data: b'{\"no\": 28, \"datetime\": \"2020-03-07 21:06:36.225880\"}'\n"
     ]
    },
    {
     "name": "stdout",
     "output_type": "stream",
     "text": [
      "{'no': 29, 'datetime': '2020-03-07 21:06:36.426729'}\n"
     ]
    },
    {
     "name": "stderr",
     "output_type": "stream",
     "text": [
      "topic: testing, partition: 0, offset: 266, data: b'{\"no\": 30, \"datetime\": \"2020-03-07 21:06:36.630802\"}'\n"
     ]
    },
    {
     "name": "stdout",
     "output_type": "stream",
     "text": [
      "{'no': 30, 'datetime': '2020-03-07 21:06:36.630802'}\n",
      "{'no': 31, 'datetime': '2020-03-07 21:06:36.835094'}\n"
     ]
    },
    {
     "name": "stderr",
     "output_type": "stream",
     "text": [
      "topic: testing, partition: 2, offset: 252, data: b'{\"no\": 32, \"datetime\": \"2020-03-07 21:06:37.039703\"}'\n"
     ]
    },
    {
     "name": "stdout",
     "output_type": "stream",
     "text": [
      "{'no': 32, 'datetime': '2020-03-07 21:06:37.039703'}\n",
      "{'no': 33, 'datetime': '2020-03-07 21:06:37.242128'}\n"
     ]
    },
    {
     "name": "stderr",
     "output_type": "stream",
     "text": [
      "topic: testing, partition: 4, offset: 224, data: b'{\"no\": 34, \"datetime\": \"2020-03-07 21:06:37.446527\"}'\n"
     ]
    },
    {
     "name": "stdout",
     "output_type": "stream",
     "text": [
      "{'no': 34, 'datetime': '2020-03-07 21:06:37.446527'}\n",
      "{'no': 35, 'datetime': '2020-03-07 21:06:37.649057'}\n",
      "{'no': 36, 'datetime': '2020-03-07 21:06:37.851959'}\n",
      "{'no': 37, 'datetime': '2020-03-07 21:06:38.053436'}\n"
     ]
    },
    {
     "name": "stderr",
     "output_type": "stream",
     "text": [
      "topic: testing, partition: 6, offset: 213, data: b'{\"no\": 36, \"datetime\": \"2020-03-07 21:06:37.851959\"}'\n",
      "topic: testing, partition: 8, offset: 210, data: b'{\"no\": 38, \"datetime\": \"2020-03-07 21:06:38.256978\"}'\n"
     ]
    },
    {
     "name": "stdout",
     "output_type": "stream",
     "text": [
      "{'no': 38, 'datetime': '2020-03-07 21:06:38.256978'}\n",
      "{'no': 39, 'datetime': '2020-03-07 21:06:38.462860'}\n"
     ]
    },
    {
     "name": "stderr",
     "output_type": "stream",
     "text": [
      "topic: testing, partition: 0, offset: 267, data: b'{\"no\": 40, \"datetime\": \"2020-03-07 21:06:38.663693\"}'\n"
     ]
    },
    {
     "name": "stdout",
     "output_type": "stream",
     "text": [
      "{'no': 40, 'datetime': '2020-03-07 21:06:38.663693'}\n",
      "{'no': 41, 'datetime': '2020-03-07 21:06:38.867563'}\n"
     ]
    },
    {
     "name": "stderr",
     "output_type": "stream",
     "text": [
      "topic: testing, partition: 2, offset: 253, data: b'{\"no\": 42, \"datetime\": \"2020-03-07 21:06:39.072032\"}'\n"
     ]
    },
    {
     "name": "stdout",
     "output_type": "stream",
     "text": [
      "{'no': 42, 'datetime': '2020-03-07 21:06:39.072032'}\n",
      "{'no': 43, 'datetime': '2020-03-07 21:06:39.275037'}\n",
      "{'no': 44, 'datetime': '2020-03-07 21:06:39.477524'}\n"
     ]
    },
    {
     "name": "stderr",
     "output_type": "stream",
     "text": [
      "topic: testing, partition: 4, offset: 225, data: b'{\"no\": 44, \"datetime\": \"2020-03-07 21:06:39.477524\"}'\n"
     ]
    },
    {
     "name": "stdout",
     "output_type": "stream",
     "text": [
      "{'no': 45, 'datetime': '2020-03-07 21:06:39.678091'}\n"
     ]
    },
    {
     "name": "stderr",
     "output_type": "stream",
     "text": [
      "topic: testing, partition: 6, offset: 214, data: b'{\"no\": 46, \"datetime\": \"2020-03-07 21:06:39.882560\"}'\n"
     ]
    },
    {
     "name": "stdout",
     "output_type": "stream",
     "text": [
      "{'no': 46, 'datetime': '2020-03-07 21:06:39.882560'}\n",
      "{'no': 47, 'datetime': '2020-03-07 21:06:40.086523'}\n"
     ]
    },
    {
     "name": "stderr",
     "output_type": "stream",
     "text": [
      "topic: testing, partition: 8, offset: 211, data: b'{\"no\": 48, \"datetime\": \"2020-03-07 21:06:40.289649\"}'\n"
     ]
    },
    {
     "name": "stdout",
     "output_type": "stream",
     "text": [
      "{'no': 48, 'datetime': '2020-03-07 21:06:40.289649'}\n",
      "{'no': 49, 'datetime': '2020-03-07 21:06:40.491988'}\n",
      "{'no': 50, 'datetime': '2020-03-07 21:06:40.693707'}\n",
      "{'no': 51, 'datetime': '2020-03-07 21:06:40.896380'}\n",
      "{'no': 52, 'datetime': '2020-03-07 21:06:41.100873'}\n",
      "{'no': 53, 'datetime': '2020-03-07 21:06:41.301329'}\n",
      "{'no': 54, 'datetime': '2020-03-07 21:06:41.502680'}\n",
      "{'no': 55, 'datetime': '2020-03-07 21:06:41.703795'}\n",
      "{'no': 56, 'datetime': '2020-03-07 21:06:41.909176'}\n",
      "{'no': 57, 'datetime': '2020-03-07 21:06:42.112695'}\n",
      "{'no': 58, 'datetime': '2020-03-07 21:06:42.317583'}\n",
      "{'no': 59, 'datetime': '2020-03-07 21:06:42.522394'}\n"
     ]
    },
    {
     "name": "stderr",
     "output_type": "stream",
     "text": [
      "topic: testing, partition: 0, offset: 268, data: b'{\"no\": 50, \"datetime\": \"2020-03-07 21:06:40.693707\"}'\n",
      "topic: testing, partition: 2, offset: 254, data: b'{\"no\": 52, \"datetime\": \"2020-03-07 21:06:41.100873\"}'\n",
      "row is bigger than 50\n",
      "Traceback (most recent call last):\n",
      "  File \"/usr/local/lib/python3.7/site-packages/streamz/core.py\", line 578, in update\n",
      "    result = self.func(x, *self.args, **self.kwargs)\n",
      "  File \"<ipython-input-3-d429f1b7c5ca>\", line 7, in plus\n",
      "    raise Exception('row is bigger than 50')\n",
      "Exception: row is bigger than 50\n",
      "tornado.application - ERROR - Exception in callback functools.partial(<bound method IOLoop._discard_future_result of <zmq.eventloop.ioloop.ZMQIOLoop object at 0x104ee9690>>, <Future finished exception=Exception('row is bigger than 50')>)\n",
      "Traceback (most recent call last):\n",
      "  File \"/usr/local/lib/python3.7/site-packages/tornado/ioloop.py\", line 743, in _run_callback\n",
      "    ret = callback()\n",
      "  File \"/usr/local/lib/python3.7/site-packages/tornado/ioloop.py\", line 767, in _discard_future_result\n",
      "    future.result()\n",
      "  File \"/usr/local/lib/python3.7/site-packages/tornado/gen.py\", line 748, in run\n",
      "    yielded = self.gen.send(value)\n",
      "  File \"/Users/huseinzolkepli/Documents/water-healer/waterhealer/core.py\", line 232, in poll_kafka\n",
      "    yield self._emit((id_val, val))\n",
      "  File \"/usr/local/lib/python3.7/site-packages/streamz/core.py\", line 325, in _emit\n",
      "    r = downstream.update(x, who=self)\n",
      "  File \"/usr/local/lib/python3.7/site-packages/streamz/core.py\", line 583, in update\n",
      "    return self._emit(result)\n",
      "  File \"/usr/local/lib/python3.7/site-packages/streamz/core.py\", line 325, in _emit\n",
      "    r = downstream.update(x, who=self)\n",
      "  File \"/usr/local/lib/python3.7/site-packages/streamz/core.py\", line 578, in update\n",
      "    result = self.func(x, *self.args, **self.kwargs)\n",
      "  File \"<ipython-input-3-d429f1b7c5ca>\", line 7, in plus\n",
      "    raise Exception('row is bigger than 50')\n",
      "Exception: row is bigger than 50\n"
     ]
    }
   ],
   "source": [
    "import time\n",
    "\n",
    "for count in range(60):\n",
    "    data = {'no': count, 'datetime': str(datetime.now())}\n",
    "    print(data)\n",
    "    publish_message(\n",
    "        producer, 'testing', 'streaming', json.dumps(data)\n",
    "    )\n",
    "    time.sleep(0.2)"
   ]
  },
  {
   "cell_type": "code",
   "execution_count": 12,
   "metadata": {},
   "outputs": [
    {
     "data": {
      "text/plain": [
       "25"
      ]
     },
     "execution_count": 12,
     "metadata": {},
     "output_type": "execute_result"
    }
   ],
   "source": [
    "len(outputs)"
   ]
  },
  {
   "cell_type": "markdown",
   "metadata": {},
   "source": [
    "Again, if a single throw an exception, entire batch will not update."
   ]
  }
 ],
 "metadata": {
  "kernelspec": {
   "display_name": "Python 3",
   "language": "python",
   "name": "python3"
  },
  "language_info": {
   "codemirror_mode": {
    "name": "ipython",
    "version": 3
   },
   "file_extension": ".py",
   "mimetype": "text/x-python",
   "name": "python",
   "nbconvert_exporter": "python",
   "pygments_lexer": "ipython3",
   "version": "3.7.5"
  }
 },
 "nbformat": 4,
 "nbformat_minor": 2
}
