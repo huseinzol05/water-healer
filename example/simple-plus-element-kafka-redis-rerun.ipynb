{
 "cells": [
  {
   "cell_type": "code",
   "execution_count": 1,
   "metadata": {},
   "outputs": [],
   "source": [
    "# !pip3 install kafka-python==1.4.7 streamz==0.5.2 --user"
   ]
  },
  {
   "cell_type": "code",
   "execution_count": 2,
   "metadata": {},
   "outputs": [],
   "source": [
    "import os\n",
    "import sys\n",
    "\n",
    "SOURCE_DIR = os.path.dirname(os.path.dirname(os.path.abspath(__name__)))\n",
    "sys.path.insert(0, SOURCE_DIR)"
   ]
  },
  {
   "cell_type": "code",
   "execution_count": 3,
   "metadata": {},
   "outputs": [],
   "source": [
    "# os.environ['ENABLE_JSON_LOGGING'] = 'true'\n",
    "# os.environ['LOGLEVEL'] = 'DEBUG'"
   ]
  },
  {
   "cell_type": "code",
   "execution_count": 4,
   "metadata": {},
   "outputs": [
    {
     "data": {
      "text/plain": [
       "'0.1.6'"
      ]
     },
     "execution_count": 4,
     "metadata": {},
     "output_type": "execute_result"
    }
   ],
   "source": [
    "import waterhealer as wh\n",
    "import json\n",
    "import logging\n",
    "\n",
    "logging.basicConfig(level=logging.INFO)\n",
    "wh.__version__"
   ]
  },
  {
   "cell_type": "code",
   "execution_count": 5,
   "metadata": {},
   "outputs": [],
   "source": [
    "from redis import StrictRedis\n",
    "\n",
    "redis = StrictRedis()"
   ]
  },
  {
   "cell_type": "code",
   "execution_count": 6,
   "metadata": {},
   "outputs": [],
   "source": [
    "brokers = 'localhost:29092'"
   ]
  },
  {
   "cell_type": "code",
   "execution_count": 7,
   "metadata": {},
   "outputs": [
    {
     "name": "stderr",
     "output_type": "stream",
     "text": [
      "INFO:root:Use Redis memory with consumer=group-test-11, key=water-healer-from_kafka\n"
     ]
    }
   ],
   "source": [
    "source = wh.from_kafka(\n",
    "    ['testing'],\n",
    "    {\n",
    "        'bootstrap.servers': brokers,\n",
    "        'group.id': 'group-test-11',\n",
    "        'auto.offset.reset': 'latest',\n",
    "    },\n",
    "    redis = redis,\n",
    ")"
   ]
  },
  {
   "cell_type": "code",
   "execution_count": 8,
   "metadata": {},
   "outputs": [
    {
     "data": {
      "text/plain": [
       "{'': <redis_collections.Dict at group-test-11- {}>,\n",
       " 'testing<!>0': <redis_collections.Dict at group-test-11-testing<!>0 {}>,\n",
       " 'testing<!>1': <redis_collections.Dict at group-test-11-testing<!>1 {67: 0}>,\n",
       " 'testing<!>2': <redis_collections.Dict at group-test-11-testing<!>2 {}>,\n",
       " 'testing<!>3': <redis_collections.Dict at group-test-11-testing<!>3 {}>,\n",
       " 'testing<!>4': <redis_collections.Dict at group-test-11-testing<!>4 {}>,\n",
       " 'testing<!>5': <redis_collections.Dict at group-test-11-testing<!>5 {}>,\n",
       " 'testing<!>6': <redis_collections.Dict at group-test-11-testing<!>6 {}>,\n",
       " 'testing<!>7': <redis_collections.Dict at group-test-11-testing<!>7 {}>,\n",
       " 'testing<!>8': <redis_collections.Dict at group-test-11-testing<!>8 {}>,\n",
       " 'testing<!>9': <redis_collections.Dict at group-test-11-testing<!>9 {}>}"
      ]
     },
     "execution_count": 8,
     "metadata": {},
     "output_type": "execute_result"
    }
   ],
   "source": [
    "source.memory.consumers"
   ]
  }
 ],
 "metadata": {
  "kernelspec": {
   "display_name": "Python 3",
   "language": "python",
   "name": "python3"
  },
  "language_info": {
   "codemirror_mode": {
    "name": "ipython",
    "version": 3
   },
   "file_extension": ".py",
   "mimetype": "text/x-python",
   "name": "python",
   "nbconvert_exporter": "python",
   "pygments_lexer": "ipython3",
   "version": "3.7.7"
  }
 },
 "nbformat": 4,
 "nbformat_minor": 2
}
