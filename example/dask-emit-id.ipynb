{
 "cells": [
  {
   "cell_type": "code",
   "execution_count": null,
   "metadata": {},
   "outputs": [],
   "source": [
    "# !pip3 install kafka-python==1.4.7 streamz==0.5.2 --user"
   ]
  },
  {
   "cell_type": "code",
   "execution_count": null,
   "metadata": {},
   "outputs": [],
   "source": [
    "import os\n",
    "import sys\n",
    "\n",
    "SOURCE_DIR = os.path.dirname(os.path.dirname(os.path.abspath(__name__)))\n",
    "sys.path.insert(0, SOURCE_DIR)"
   ]
  },
  {
   "cell_type": "code",
   "execution_count": null,
   "metadata": {},
   "outputs": [],
   "source": [
    "os.environ['ENABLE_JSON_LOGGING'] = 'true'\n",
    "os.environ['LOGLEVEL'] = 'DEBUG'"
   ]
  },
  {
   "cell_type": "code",
   "execution_count": null,
   "metadata": {},
   "outputs": [],
   "source": [
    "import waterhealer as wh\n",
    "from waterhealer import Stream\n",
    "import json\n",
    "import time\n",
    "import logging"
   ]
  },
  {
   "cell_type": "code",
   "execution_count": null,
   "metadata": {},
   "outputs": [],
   "source": [
    "from dask.distributed import Client, LocalCluster\n",
    "cluster = LocalCluster(processes = False)\n",
    "client = Client(cluster)"
   ]
  },
  {
   "cell_type": "code",
   "execution_count": null,
   "metadata": {},
   "outputs": [],
   "source": [
    "def json_loads(rows):\n",
    "    results = []\n",
    "    for row in rows:\n",
    "        results.append(json.loads(row))\n",
    "    return results\n",
    "\n",
    "def increment_left(rows):\n",
    "    results = []\n",
    "    for row in rows:\n",
    "        row = row.copy()\n",
    "        row['left'] = row['data'] + 1\n",
    "        results.append(row)\n",
    "    return results\n",
    "\n",
    "def increment_right(rows):\n",
    "    results = []\n",
    "    for row in rows:\n",
    "        row = row.copy()\n",
    "        row['right'] = row['data'] + 1\n",
    "        results.append(row)\n",
    "    return results\n",
    "\n",
    "def combine(tuples):\n",
    "\n",
    "    left, right = tuples\n",
    "    results = []\n",
    "    for i in range(len(left)):\n",
    "        logging.info(f\"need to combine {left[i]['left'] + right[i]['right']}\")\n",
    "        results.append(left[i]['left'] + right[i]['right'])\n",
    "        \n",
    "    return results"
   ]
  },
  {
   "cell_type": "code",
   "execution_count": null,
   "metadata": {
    "scrolled": true
   },
   "outputs": [],
   "source": [
    "source = Stream()\n",
    "partition = source.scatter().partition_time(5, checkpoint = True)\n",
    "s = partition.map(json_loads, checkpoint = True)\n",
    "left = s.map(increment_left, checkpoint = True)\n",
    "right = s.map(increment_right, checkpoint = True)\n",
    "gather = left.zip(right).map(combine, checkpoint = True).buffer(8).gather()"
   ]
  },
  {
   "cell_type": "code",
   "execution_count": null,
   "metadata": {
    "scrolled": true
   },
   "outputs": [],
   "source": [
    "source.visualize()"
   ]
  },
  {
   "cell_type": "code",
   "execution_count": null,
   "metadata": {},
   "outputs": [],
   "source": [
    "for i in range(10):\n",
    "    data = {'i': i, 'data': i + 1}\n",
    "    source.emit(json.dumps(data))\n",
    "    time.sleep(0.1)"
   ]
  },
  {
   "cell_type": "code",
   "execution_count": null,
   "metadata": {},
   "outputs": [],
   "source": [
    "source.wait()"
   ]
  },
  {
   "cell_type": "code",
   "execution_count": null,
   "metadata": {},
   "outputs": [],
   "source": [
    "source.checkpoint"
   ]
  }
 ],
 "metadata": {
  "kernelspec": {
   "display_name": "Python 3",
   "language": "python",
   "name": "python3"
  },
  "language_info": {
   "codemirror_mode": {
    "name": "ipython",
    "version": 3
   },
   "file_extension": ".py",
   "mimetype": "text/x-python",
   "name": "python",
   "nbconvert_exporter": "python",
   "pygments_lexer": "ipython3",
   "version": "3.7.7"
  }
 },
 "nbformat": 4,
 "nbformat_minor": 4
}
