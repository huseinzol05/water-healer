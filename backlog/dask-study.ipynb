{
 "cells": [
  {
   "cell_type": "code",
   "execution_count": 1,
   "metadata": {},
   "outputs": [],
   "source": [
    "from time import sleep, time\n",
    "\n",
    "def inc(x):\n",
    "    sleep(1)\n",
    "    print(x)\n",
    "    return x + 1\n",
    "\n",
    "def second_inc(x):\n",
    "    sleep(3)\n",
    "    print(x)\n",
    "    return x + 1\n",
    "\n",
    "def inc_error(x):\n",
    "    if x > 2:\n",
    "        raise Exception('bigger than 2')\n",
    "    sleep(1)\n",
    "    return x + 1\n",
    "\n",
    "from streamz import Stream"
   ]
  },
  {
   "cell_type": "code",
   "execution_count": 2,
   "metadata": {},
   "outputs": [],
   "source": [
    "# from distributed.client import default_client\n",
    "\n",
    "# default_client()"
   ]
  },
  {
   "cell_type": "code",
   "execution_count": 3,
   "metadata": {},
   "outputs": [],
   "source": [
    "from dask.distributed import Client\n",
    "client = Client()"
   ]
  },
  {
   "cell_type": "code",
   "execution_count": 4,
   "metadata": {},
   "outputs": [
    {
     "data": {
      "application/vnd.jupyter.widget-view+json": {
       "model_id": "02c7884cb1f94107ab3a6c133ebd073a",
       "version_major": 2,
       "version_minor": 0
      },
      "text/plain": [
       "Output()"
      ]
     },
     "metadata": {},
     "output_type": "display_data"
    }
   ],
   "source": [
    "source = Stream()\n",
    "x = []\n",
    "source.scatter().map(inc).map(second_inc).buffer(8).gather().sink(x.append)"
   ]
  },
  {
   "cell_type": "code",
   "execution_count": 5,
   "metadata": {
    "scrolled": true
   },
   "outputs": [
    {
     "data": {
      "image/png": "[encoded data removed]",
      "text/plain": [
       "<IPython.core.display.Image object>"
      ]
     },
     "execution_count": 5,
     "metadata": {},
     "output_type": "execute_result"
    }
   ],
   "source": [
    "source.visualize()"
   ]
  },
  {
   "cell_type": "code",
   "execution_count": 6,
   "metadata": {},
   "outputs": [],
   "source": [
    "import waterhealer as wh\n",
    "\n",
    "source = wh.source.metrics(source = source)"
   ]
  },
  {
   "cell_type": "code",
   "execution_count": 7,
   "metadata": {
    "scrolled": false
   },
   "outputs": [],
   "source": [
    "for i in range(10):\n",
    "    source.emit(i)"
   ]
  },
  {
   "cell_type": "code",
   "execution_count": 13,
   "metadata": {},
   "outputs": [
    {
     "data": {
      "text/plain": [
       "{'description': {'filename': '', 'name': '', 'line_number': 0, 'line': ''},\n",
       " 'children': {'second_inc;<ipython-input-1-a92560649a52>;8': {'description': {'filename': '<ipython-input-1-a92560649a52>',\n",
       "    'name': 'second_inc',\n",
       "    'line_number': 9,\n",
       "    'line': ''},\n",
       "   'children': {},\n",
       "   'count': 0,\n",
       "   'identifier': 'second_inc;<ipython-input-1-a92560649a52>;8'}},\n",
       " 'count': 3004,\n",
       " 'identifier': 'root'}"
      ]
     },
     "execution_count": 13,
     "metadata": {},
     "output_type": "execute_result"
    }
   ],
   "source": [
    "client.profile(key = 'second_inc')"
   ]
  },
  {
   "cell_type": "code",
   "execution_count": null,
   "metadata": {},
   "outputs": [],
   "source": [
    "client.profile(filename='dask-profile.html')"
   ]
  },
  {
   "cell_type": "code",
   "execution_count": null,
   "metadata": {},
   "outputs": [],
   "source": [
    "# import requests\n",
    "# from prometheus_client.parser import text_string_to_metric_families\n",
    "\n",
    "# metrics = requests.get('http://localhost:8000/').content\n",
    "# for family in text_string_to_metric_families(metrics.decode()):\n",
    "#     for sample in family.samples:\n",
    "#         print(\"Name: {0} Labels: {1} Value: {2}\".format(*sample))"
   ]
  },
  {
   "cell_type": "code",
   "execution_count": null,
   "metadata": {},
   "outputs": [],
   "source": [
    "from operator import add, mul\n",
    "from dask.threaded import get\n",
    "dsk = {'x': 1, 'y': (add, 'x', 10), 'z': (mul, 'y', 2)}\n",
    "\n",
    "with Profiler() as prof:\n",
    "    get(dsk, 'z')"
   ]
  },
  {
   "cell_type": "code",
   "execution_count": null,
   "metadata": {},
   "outputs": [],
   "source": [
    "prof.results"
   ]
  },
  {
   "cell_type": "code",
   "execution_count": 15,
   "metadata": {},
   "outputs": [],
   "source": [
    "import asyncio\n",
    "\n",
    "@asyncio.coroutine\n",
    "def greet_every_two_seconds():\n",
    "    while True:\n",
    "        print('h')\n",
    "        yield from asyncio.sleep(2)\n",
    "        \n",
    "def loop_in_thread(loop):\n",
    "    asyncio.set_event_loop(loop)\n",
    "    loop.run_until_complete(greet_every_two_seconds())"
   ]
  },
  {
   "cell_type": "code",
   "execution_count": 18,
   "metadata": {},
   "outputs": [
    {
     "data": {
      "text/plain": [
       "<_UnixSelectorEventLoop running=True closed=False debug=False>"
      ]
     },
     "execution_count": 18,
     "metadata": {},
     "output_type": "execute_result"
    }
   ],
   "source": [
    "loop = asyncio.get_event_loop()\n",
    "loop"
   ]
  },
  {
   "cell_type": "code",
   "execution_count": 20,
   "metadata": {},
   "outputs": [
    {
     "name": "stderr",
     "output_type": "stream",
     "text": [
      "Exception in thread Thread-6:\n",
      "Traceback (most recent call last):\n",
      "  File \"/usr/local/Cellar/python/3.7.5/Frameworks/Python.framework/Versions/3.7/lib/python3.7/threading.py\", line 926, in _bootstrap_inner\n",
      "    self.run()\n",
      "  File \"/usr/local/Cellar/python/3.7.5/Frameworks/Python.framework/Versions/3.7/lib/python3.7/threading.py\", line 870, in run\n",
      "    self._target(*self._args, **self._kwargs)\n",
      "  File \"<ipython-input-15-b88ad68e1111>\", line 11, in loop_in_thread\n",
      "    loop.run_until_complete(greet_every_two_seconds())\n",
      "  File \"/usr/local/Cellar/python/3.7.5/Frameworks/Python.framework/Versions/3.7/lib/python3.7/asyncio/base_events.py\", line 566, in run_until_complete\n",
      "    self.run_forever()\n",
      "  File \"/usr/local/Cellar/python/3.7.5/Frameworks/Python.framework/Versions/3.7/lib/python3.7/asyncio/base_events.py\", line 521, in run_forever\n",
      "    raise RuntimeError('This event loop is already running')\n",
      "RuntimeError: This event loop is already running\n",
      "\n"
     ]
    },
    {
     "name": "stdout",
     "output_type": "stream",
     "text": [
      "h\n",
      "h\n",
      "h\n"
     ]
    }
   ],
   "source": [
    "import threading\n",
    "\n",
    "t = threading.Thread(target=loop_in_thread, args=(loop,))\n",
    "t.start()"
   ]
  },
  {
   "cell_type": "code",
   "execution_count": null,
   "metadata": {},
   "outputs": [],
   "source": []
  }
 ],
 "metadata": {
  "kernelspec": {
   "display_name": "Python 3",
   "language": "python",
   "name": "python3"
  },
  "language_info": {
   "codemirror_mode": {
    "name": "ipython",
    "version": 3
   },
   "file_extension": ".py",
   "mimetype": "text/x-python",
   "name": "python",
   "nbconvert_exporter": "python",
   "pygments_lexer": "ipython3",
   "version": "3.7.5"
  }
 },
 "nbformat": 4,
 "nbformat_minor": 2
}
